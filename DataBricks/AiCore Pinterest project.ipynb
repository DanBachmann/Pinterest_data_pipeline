{
 "cells": [
  {
   "cell_type": "code",
   "execution_count": 0,
   "metadata": {
    "application/vnd.databricks.v1+cell": {
     "cellMetadata": {
      "byteLimit": 2048000,
      "rowLimit": 10000
     },
     "inputWidgets": {},
     "nuid": "8964d1d1-4dc2-4375-b735-2de62f116a22",
     "showTitle": false,
     "title": ""
    }
   },
   "outputs": [
    {
     "output_type": "display_data",
     "data": {
      "text/html": [
       "<style scoped>\n",
       "  .ansiout {\n",
       "    display: block;\n",
       "    unicode-bidi: embed;\n",
       "    white-space: pre-wrap;\n",
       "    word-wrap: break-word;\n",
       "    word-break: break-all;\n",
       "    font-family: \"Menlo\", \"Monaco\", \"Consolas\", \"Ubuntu Mono\", \"Source Code Pro\", monospace;\n",
       "    font-size: 13px;\n",
       "    color: #555;\n",
       "    margin-left: 4px;\n",
       "    line-height: 19px;\n",
       "  }\n",
       "</style>\n",
       "<div class=\"ansiout\">Out[34]: [FileInfo(path=&#39;dbfs:/FileStore/tables/0ed442ca38ad_user_table/&#39;, name=&#39;0ed442ca38ad_user_table/&#39;, size=0, modificationTime=1703025897786),\n",
       " FileInfo(path=&#39;dbfs:/FileStore/tables/authentication_credentials-1.csv&#39;, name=&#39;authentication_credentials-1.csv&#39;, size=97, modificationTime=1702911405000),\n",
       " FileInfo(path=&#39;dbfs:/FileStore/tables/authentication_credentials-2.csv&#39;, name=&#39;authentication_credentials-2.csv&#39;, size=97, modificationTime=1702911558000),\n",
       " FileInfo(path=&#39;dbfs:/FileStore/tables/authentication_credentials.csv&#39;, name=&#39;authentication_credentials.csv&#39;, size=97, modificationTime=1702911748000),\n",
       " FileInfo(path=&#39;dbfs:/FileStore/tables/geo_dirty.csv/&#39;, name=&#39;geo_dirty.csv/&#39;, size=0, modificationTime=1703025897786),\n",
       " FileInfo(path=&#39;dbfs:/FileStore/tables/pin_dirty.csv/&#39;, name=&#39;pin_dirty.csv/&#39;, size=0, modificationTime=1703025897786),\n",
       " FileInfo(path=&#39;dbfs:/FileStore/tables/single_json_file.json&#39;, name=&#39;single_json_file.json&#39;, size=293, modificationTime=1701857903000),\n",
       " FileInfo(path=&#39;dbfs:/FileStore/tables/user_dirty.csv/&#39;, name=&#39;user_dirty.csv/&#39;, size=0, modificationTime=1703025897786)]</div>"
      ]
     },
     "metadata": {
      "application/vnd.databricks.v1+output": {
       "addedWidgets": {},
       "arguments": {},
       "data": "<div class=\"ansiout\">Out[34]: [FileInfo(path=&#39;dbfs:/FileStore/tables/0ed442ca38ad_user_table/&#39;, name=&#39;0ed442ca38ad_user_table/&#39;, size=0, modificationTime=1703025897786),\n FileInfo(path=&#39;dbfs:/FileStore/tables/authentication_credentials-1.csv&#39;, name=&#39;authentication_credentials-1.csv&#39;, size=97, modificationTime=1702911405000),\n FileInfo(path=&#39;dbfs:/FileStore/tables/authentication_credentials-2.csv&#39;, name=&#39;authentication_credentials-2.csv&#39;, size=97, modificationTime=1702911558000),\n FileInfo(path=&#39;dbfs:/FileStore/tables/authentication_credentials.csv&#39;, name=&#39;authentication_credentials.csv&#39;, size=97, modificationTime=1702911748000),\n FileInfo(path=&#39;dbfs:/FileStore/tables/geo_dirty.csv/&#39;, name=&#39;geo_dirty.csv/&#39;, size=0, modificationTime=1703025897786),\n FileInfo(path=&#39;dbfs:/FileStore/tables/pin_dirty.csv/&#39;, name=&#39;pin_dirty.csv/&#39;, size=0, modificationTime=1703025897786),\n FileInfo(path=&#39;dbfs:/FileStore/tables/single_json_file.json&#39;, name=&#39;single_json_file.json&#39;, size=293, modificationTime=1701857903000),\n FileInfo(path=&#39;dbfs:/FileStore/tables/user_dirty.csv/&#39;, name=&#39;user_dirty.csv/&#39;, size=0, modificationTime=1703025897786)]</div>",
       "datasetInfos": [],
       "metadata": {},
       "removedWidgets": [],
       "type": "html"
      }
     },
     "output_type": "display_data"
    }
   ],
   "source": [
    "dbutils.fs.ls(\"/FileStore/tables\")"
   ]
  },
  {
   "cell_type": "code",
   "execution_count": 0,
   "metadata": {
    "application/vnd.databricks.v1+cell": {
     "cellMetadata": {
      "byteLimit": 2048000,
      "rowLimit": 10000
     },
     "inputWidgets": {},
     "nuid": "257b7205-c7d2-4aa7-b9b1-4efdd5623339",
     "showTitle": false,
     "title": ""
    }
   },
   "outputs": [
    {
     "output_type": "display_data",
     "data": {
      "text/html": [
       "<style scoped>\n",
       "  .ansiout {\n",
       "    display: block;\n",
       "    unicode-bidi: embed;\n",
       "    white-space: pre-wrap;\n",
       "    word-wrap: break-word;\n",
       "    word-break: break-all;\n",
       "    font-family: \"Menlo\", \"Monaco\", \"Consolas\", \"Ubuntu Mono\", \"Source Code Pro\", monospace;\n",
       "    font-size: 13px;\n",
       "    color: #555;\n",
       "    margin-left: 4px;\n",
       "    line-height: 19px;\n",
       "  }\n",
       "</style>\n",
       "<div class=\"ansiout\"></div>"
      ]
     },
     "metadata": {
      "application/vnd.databricks.v1+output": {
       "addedWidgets": {},
       "arguments": {},
       "data": "<div class=\"ansiout\"></div>",
       "datasetInfos": [],
       "metadata": {},
       "removedWidgets": [],
       "type": "html"
      }
     },
     "output_type": "display_data"
    }
   ],
   "source": [
    "# pyspark functions\n",
    "from pyspark.sql.functions import *\n",
    "# URL processing\n",
    "import urllib"
   ]
  },
  {
   "cell_type": "code",
   "execution_count": 0,
   "metadata": {
    "application/vnd.databricks.v1+cell": {
     "cellMetadata": {
      "byteLimit": 2048000,
      "rowLimit": 10000
     },
     "inputWidgets": {},
     "nuid": "6ffc5f34-9946-4550-b300-5cfe557ec5ea",
     "showTitle": false,
     "title": ""
    }
   },
   "outputs": [
    {
     "output_type": "display_data",
     "data": {
      "text/html": [
       "<style scoped>\n",
       "  .ansiout {\n",
       "    display: block;\n",
       "    unicode-bidi: embed;\n",
       "    white-space: pre-wrap;\n",
       "    word-wrap: break-word;\n",
       "    word-break: break-all;\n",
       "    font-family: \"Menlo\", \"Monaco\", \"Consolas\", \"Ubuntu Mono\", \"Source Code Pro\", monospace;\n",
       "    font-size: 13px;\n",
       "    color: #555;\n",
       "    margin-left: 4px;\n",
       "    line-height: 19px;\n",
       "  }\n",
       "</style>\n",
       "<div class=\"ansiout\"></div>"
      ]
     },
     "metadata": {
      "application/vnd.databricks.v1+output": {
       "addedWidgets": {},
       "arguments": {},
       "data": "<div class=\"ansiout\"></div>",
       "datasetInfos": [],
       "metadata": {},
       "removedWidgets": [],
       "type": "html"
      }
     },
     "output_type": "display_data"
    }
   ],
   "source": [
    "# Specify file type to be csv\n",
    "file_type = \"csv\"\n",
    "# Indicates file has first row as the header\n",
    "first_row_is_header = \"true\"\n",
    "# Indicates file has comma as the delimeter\n",
    "delimiter = \",\"\n",
    "# Read the CSV file to spark dataframe\n",
    "aws_keys_df = spark.read.format(file_type)\\\n",
    ".option(\"header\", first_row_is_header)\\\n",
    ".option(\"sep\", delimiter)\\\n",
    ".load(\"/FileStore/tables/authentication_credentials.csv\") # Specify file type to be csv"
   ]
  },
  {
   "cell_type": "code",
   "execution_count": 0,
   "metadata": {
    "application/vnd.databricks.v1+cell": {
     "cellMetadata": {
      "byteLimit": 2048000,
      "rowLimit": 10000
     },
     "inputWidgets": {},
     "nuid": "61909579-eb45-4eaa-ac13-990295a09546",
     "showTitle": false,
     "title": ""
    }
   },
   "outputs": [
    {
     "output_type": "display_data",
     "data": {
      "text/html": [
       "<style scoped>\n",
       "  .ansiout {\n",
       "    display: block;\n",
       "    unicode-bidi: embed;\n",
       "    white-space: pre-wrap;\n",
       "    word-wrap: break-word;\n",
       "    word-break: break-all;\n",
       "    font-family: \"Menlo\", \"Monaco\", \"Consolas\", \"Ubuntu Mono\", \"Source Code Pro\", monospace;\n",
       "    font-size: 13px;\n",
       "    color: #555;\n",
       "    margin-left: 4px;\n",
       "    line-height: 19px;\n",
       "  }\n",
       "</style>\n",
       "<div class=\"ansiout\"></div>"
      ]
     },
     "metadata": {
      "application/vnd.databricks.v1+output": {
       "addedWidgets": {},
       "arguments": {},
       "data": "<div class=\"ansiout\"></div>",
       "datasetInfos": [],
       "metadata": {},
       "removedWidgets": [],
       "type": "html"
      }
     },
     "output_type": "display_data"
    }
   ],
   "source": [
    "# Get the AWS access key and secret key from the spark dataframe\n",
    "ACCESS_KEY = aws_keys_df.select('Access key ID').collect()[0]['Access key ID']\n",
    "SECRET_KEY = aws_keys_df.select('Secret access key').collect()[0]['Secret access key']\n",
    "# Encode the secrete key\n",
    "ENCODED_SECRET_KEY = urllib.parse.quote(string=SECRET_KEY, safe=\"\")"
   ]
  },
  {
   "cell_type": "code",
   "execution_count": 0,
   "metadata": {
    "application/vnd.databricks.v1+cell": {
     "cellMetadata": {
      "byteLimit": 2048000,
      "rowLimit": 10000
     },
     "inputWidgets": {},
     "nuid": "6ffbe085-f619-4478-9006-c5735f2dfcc8",
     "showTitle": false,
     "title": ""
    }
   },
   "outputs": [
    {
     "output_type": "display_data",
     "data": {
      "text/html": [
       "<style scoped>\n",
       "  .ansiout {\n",
       "    display: block;\n",
       "    unicode-bidi: embed;\n",
       "    white-space: pre-wrap;\n",
       "    word-wrap: break-word;\n",
       "    word-break: break-all;\n",
       "    font-family: \"Menlo\", \"Monaco\", \"Consolas\", \"Ubuntu Mono\", \"Source Code Pro\", monospace;\n",
       "    font-size: 13px;\n",
       "    color: #555;\n",
       "    margin-left: 4px;\n",
       "    line-height: 19px;\n",
       "  }\n",
       "</style>\n",
       "<div class=\"ansiout\">Out[38]: True</div>"
      ]
     },
     "metadata": {
      "application/vnd.databricks.v1+output": {
       "addedWidgets": {},
       "arguments": {},
       "data": "<div class=\"ansiout\">Out[38]: True</div>",
       "datasetInfos": [],
       "metadata": {},
       "removedWidgets": [],
       "type": "html"
      }
     },
     "output_type": "display_data"
    }
   ],
   "source": [
    "# AWS S3 bucket name\n",
    "AWS_S3_BUCKET = \"user-0a1153066525-bucket\"\n",
    "# Mount name for the bucket\n",
    "MOUNT_NAME = \"/mnt/incoming\"\n",
    "# Source url\n",
    "SOURCE_URL = \"s3n://{0}:{1}@{2}\".format(ACCESS_KEY, ENCODED_SECRET_KEY, AWS_S3_BUCKET)\n",
    "# Mount the drive\n",
    "dbutils.fs.mount(SOURCE_URL, MOUNT_NAME)"
   ]
  },
  {
   "cell_type": "code",
   "execution_count": 0,
   "metadata": {
    "application/vnd.databricks.v1+cell": {
     "cellMetadata": {
      "byteLimit": 2048000,
      "rowLimit": 10000
     },
     "inputWidgets": {},
     "nuid": "ced082c1-7f26-4994-b77c-a0942f6de980",
     "showTitle": false,
     "title": ""
    }
   },
   "outputs": [
    {
     "output_type": "display_data",
     "data": {
      "text/html": [
       "<style scoped>\n",
       "  .table-result-container {\n",
       "    max-height: 300px;\n",
       "    overflow: auto;\n",
       "  }\n",
       "  table, th, td {\n",
       "    border: 1px solid black;\n",
       "    border-collapse: collapse;\n",
       "  }\n",
       "  th, td {\n",
       "    padding: 5px;\n",
       "  }\n",
       "  th {\n",
       "    text-align: left;\n",
       "  }\n",
       "</style><div class='table-result-container'><table class='table-result'><thead style='background-color: white'><tr><th>path</th><th>name</th><th>size</th><th>modificationTime</th></tr></thead><tbody><tr><td>dbfs:/FileStore/</td><td>FileStore/</td><td>0</td><td>1703025931048</td></tr><tr><td>dbfs:/Volume/</td><td>Volume/</td><td>0</td><td>0</td></tr><tr><td>dbfs:/Volumes/</td><td>Volumes/</td><td>0</td><td>0</td></tr><tr><td>dbfs:/checkpoint/</td><td>checkpoint/</td><td>0</td><td>1703025931048</td></tr><tr><td>dbfs:/databricks-datasets/</td><td>databricks-datasets/</td><td>0</td><td>0</td></tr><tr><td>dbfs:/databricks-results/</td><td>databricks-results/</td><td>0</td><td>0</td></tr><tr><td>dbfs:/delta/</td><td>delta/</td><td>0</td><td>1703025931048</td></tr><tr><td>dbfs:/df_pin.csv/</td><td>df_pin.csv/</td><td>0</td><td>1703025931048</td></tr><tr><td>dbfs:/df_pin.parquet/</td><td>df_pin.parquet/</td><td>0</td><td>1703025931048</td></tr><tr><td>dbfs:/geo_dirty.csv/</td><td>geo_dirty.csv/</td><td>0</td><td>1703025931048</td></tr><tr><td>dbfs:/local_disk0/</td><td>local_disk0/</td><td>0</td><td>1703025931048</td></tr><tr><td>dbfs:/mnt/</td><td>mnt/</td><td>0</td><td>1703025931048</td></tr><tr><td>dbfs:/output/</td><td>output/</td><td>0</td><td>1703025931048</td></tr><tr><td>dbfs:/pin_dirty.csv/</td><td>pin_dirty.csv/</td><td>0</td><td>1703025931048</td></tr><tr><td>dbfs:/pin_kinesis_events/</td><td>pin_kinesis_events/</td><td>0</td><td>1703025931048</td></tr><tr><td>dbfs:/tmp/</td><td>tmp/</td><td>0</td><td>1703025931048</td></tr><tr><td>dbfs:/user/</td><td>user/</td><td>0</td><td>1703025931048</td></tr><tr><td>dbfs:/user_dirty.csv/</td><td>user_dirty.csv/</td><td>0</td><td>1703025931048</td></tr><tr><td>dbfs:/volume/</td><td>volume/</td><td>0</td><td>0</td></tr><tr><td>dbfs:/volumes/</td><td>volumes/</td><td>0</td><td>0</td></tr></tbody></table></div>"
      ]
     },
     "metadata": {
      "application/vnd.databricks.v1+output": {
       "addedWidgets": {},
       "aggData": [],
       "aggError": "",
       "aggOverflow": false,
       "aggSchema": [],
       "aggSeriesLimitReached": false,
       "aggType": "",
       "arguments": {},
       "columnCustomDisplayInfos": {},
       "data": [
        [
         "dbfs:/FileStore/",
         "FileStore/",
         0,
         1703025931048
        ],
        [
         "dbfs:/Volume/",
         "Volume/",
         0,
         0
        ],
        [
         "dbfs:/Volumes/",
         "Volumes/",
         0,
         0
        ],
        [
         "dbfs:/checkpoint/",
         "checkpoint/",
         0,
         1703025931048
        ],
        [
         "dbfs:/databricks-datasets/",
         "databricks-datasets/",
         0,
         0
        ],
        [
         "dbfs:/databricks-results/",
         "databricks-results/",
         0,
         0
        ],
        [
         "dbfs:/delta/",
         "delta/",
         0,
         1703025931048
        ],
        [
         "dbfs:/df_pin.csv/",
         "df_pin.csv/",
         0,
         1703025931048
        ],
        [
         "dbfs:/df_pin.parquet/",
         "df_pin.parquet/",
         0,
         1703025931048
        ],
        [
         "dbfs:/geo_dirty.csv/",
         "geo_dirty.csv/",
         0,
         1703025931048
        ],
        [
         "dbfs:/local_disk0/",
         "local_disk0/",
         0,
         1703025931048
        ],
        [
         "dbfs:/mnt/",
         "mnt/",
         0,
         1703025931048
        ],
        [
         "dbfs:/output/",
         "output/",
         0,
         1703025931048
        ],
        [
         "dbfs:/pin_dirty.csv/",
         "pin_dirty.csv/",
         0,
         1703025931048
        ],
        [
         "dbfs:/pin_kinesis_events/",
         "pin_kinesis_events/",
         0,
         1703025931048
        ],
        [
         "dbfs:/tmp/",
         "tmp/",
         0,
         1703025931048
        ],
        [
         "dbfs:/user/",
         "user/",
         0,
         1703025931048
        ],
        [
         "dbfs:/user_dirty.csv/",
         "user_dirty.csv/",
         0,
         1703025931048
        ],
        [
         "dbfs:/volume/",
         "volume/",
         0,
         0
        ],
        [
         "dbfs:/volumes/",
         "volumes/",
         0,
         0
        ]
       ],
       "datasetInfos": [],
       "dbfsResultPath": null,
       "isJsonSchema": true,
       "metadata": {},
       "overflow": false,
       "plotOptions": {
        "customPlotOptions": {},
        "displayType": "table",
        "pivotAggregation": null,
        "pivotColumns": null,
        "xColumns": null,
        "yColumns": null
       },
       "removedWidgets": [],
       "schema": [
        {
         "metadata": "{}",
         "name": "path",
         "type": "\"string\""
        },
        {
         "metadata": "{}",
         "name": "name",
         "type": "\"string\""
        },
        {
         "metadata": "{}",
         "name": "size",
         "type": "\"long\""
        },
        {
         "metadata": "{}",
         "name": "modificationTime",
         "type": "\"long\""
        }
       ],
       "type": "table"
      }
     },
     "output_type": "display_data"
    }
   ],
   "source": [
    "# test it mounted\n",
    "display(dbutils.fs.ls(MOUNT_NAME + \"/../..\")) # seems like I could put anything here!"
   ]
  },
  {
   "cell_type": "code",
   "execution_count": 0,
   "metadata": {
    "application/vnd.databricks.v1+cell": {
     "cellMetadata": {
      "byteLimit": 2048000,
      "rowLimit": 10000
     },
     "inputWidgets": {},
     "nuid": "ba67201a-4dc0-47ba-b0d4-79539eda606a",
     "showTitle": false,
     "title": ""
    }
   },
   "outputs": [
    {
     "output_type": "display_data",
     "data": {
      "text/html": [
       "<style scoped>\n",
       "  .table-result-container {\n",
       "    max-height: 300px;\n",
       "    overflow: auto;\n",
       "  }\n",
       "  table, th, td {\n",
       "    border: 1px solid black;\n",
       "    border-collapse: collapse;\n",
       "  }\n",
       "  th, td {\n",
       "    padding: 5px;\n",
       "  }\n",
       "  th {\n",
       "    text-align: left;\n",
       "  }\n",
       "</style><div class='table-result-container'><table class='table-result'><thead style='background-color: white'><tr><th>category</th><th>description</th><th>downloaded</th><th>follower_count</th><th>image_src</th><th>index</th><th>is_image_or_video</th><th>poster_name</th><th>save_location</th><th>tag_list</th><th>title</th><th>unique_id</th></tr></thead><tbody><tr><td>mens-fashion</td><td>No description available Story format</td><td>0</td><td>User Info Error</td><td>Image src error.</td><td>7528</td><td>multi-video(story page format)</td><td>User Info Error</td><td>Local save in /data/mens-fashion</td><td>N,o, ,T,a,g,s, ,A,v,a,i,l,a,b,l,e</td><td>No Title Data Available</td><td>fbe53c66-3442-4773-b19e-d3ec6f54dddf</td></tr></tbody></table></div>"
      ]
     },
     "metadata": {
      "application/vnd.databricks.v1+output": {
       "addedWidgets": {},
       "aggData": [],
       "aggError": "",
       "aggOverflow": false,
       "aggSchema": [],
       "aggSeriesLimitReached": false,
       "aggType": "",
       "arguments": {},
       "columnCustomDisplayInfos": {},
       "data": [
        [
         "mens-fashion",
         "No description available Story format",
         0,
         "User Info Error",
         "Image src error.",
         7528,
         "multi-video(story page format)",
         "User Info Error",
         "Local save in /data/mens-fashion",
         "N,o, ,T,a,g,s, ,A,v,a,i,l,a,b,l,e",
         "No Title Data Available",
         "fbe53c66-3442-4773-b19e-d3ec6f54dddf"
        ]
       ],
       "datasetInfos": [],
       "dbfsResultPath": null,
       "isJsonSchema": true,
       "metadata": {},
       "overflow": false,
       "plotOptions": {
        "customPlotOptions": {},
        "displayType": "table",
        "pivotAggregation": null,
        "pivotColumns": null,
        "xColumns": null,
        "yColumns": null
       },
       "removedWidgets": [],
       "schema": [
        {
         "metadata": "{}",
         "name": "category",
         "type": "\"string\""
        },
        {
         "metadata": "{}",
         "name": "description",
         "type": "\"string\""
        },
        {
         "metadata": "{}",
         "name": "downloaded",
         "type": "\"long\""
        },
        {
         "metadata": "{}",
         "name": "follower_count",
         "type": "\"string\""
        },
        {
         "metadata": "{}",
         "name": "image_src",
         "type": "\"string\""
        },
        {
         "metadata": "{}",
         "name": "index",
         "type": "\"long\""
        },
        {
         "metadata": "{}",
         "name": "is_image_or_video",
         "type": "\"string\""
        },
        {
         "metadata": "{}",
         "name": "poster_name",
         "type": "\"string\""
        },
        {
         "metadata": "{}",
         "name": "save_location",
         "type": "\"string\""
        },
        {
         "metadata": "{}",
         "name": "tag_list",
         "type": "\"string\""
        },
        {
         "metadata": "{}",
         "name": "title",
         "type": "\"string\""
        },
        {
         "metadata": "{}",
         "name": "unique_id",
         "type": "\"string\""
        }
       ],
       "type": "table"
      }
     },
     "output_type": "display_data"
    },
    {
     "output_type": "display_data",
     "data": {
      "text/html": [
       "<style scoped>\n",
       "  .table-result-container {\n",
       "    max-height: 300px;\n",
       "    overflow: auto;\n",
       "  }\n",
       "  table, th, td {\n",
       "    border: 1px solid black;\n",
       "    border-collapse: collapse;\n",
       "  }\n",
       "  th, td {\n",
       "    padding: 5px;\n",
       "  }\n",
       "  th {\n",
       "    text-align: left;\n",
       "  }\n",
       "</style><div class='table-result-container'><table class='table-result'><thead style='background-color: white'><tr><th>category</th><th>description</th><th>downloaded</th><th>follower_count</th><th>image_src</th><th>index</th><th>is_image_or_video</th><th>poster_name</th><th>save_location</th><th>tag_list</th><th>title</th><th>unique_id</th></tr></thead><tbody><tr><td>mens-fashion</td><td>No description available Story format</td><td>0</td><td>User Info Error</td><td>Image src error.</td><td>7528</td><td>multi-video(story page format)</td><td>User Info Error</td><td>Local save in /data/mens-fashion</td><td>N,o, ,T,a,g,s, ,A,v,a,i,l,a,b,l,e</td><td>No Title Data Available</td><td>fbe53c66-3442-4773-b19e-d3ec6f54dddf</td></tr></tbody></table></div>"
      ]
     },
     "metadata": {
      "application/vnd.databricks.v1+output": {
       "addedWidgets": {},
       "aggData": [],
       "aggError": "",
       "aggOverflow": false,
       "aggSchema": [],
       "aggSeriesLimitReached": false,
       "aggType": "",
       "arguments": {},
       "columnCustomDisplayInfos": {},
       "data": [
        [
         "mens-fashion",
         "No description available Story format",
         0,
         "User Info Error",
         "Image src error.",
         7528,
         "multi-video(story page format)",
         "User Info Error",
         "Local save in /data/mens-fashion",
         "N,o, ,T,a,g,s, ,A,v,a,i,l,a,b,l,e",
         "No Title Data Available",
         "fbe53c66-3442-4773-b19e-d3ec6f54dddf"
        ]
       ],
       "datasetInfos": [],
       "dbfsResultPath": null,
       "isJsonSchema": true,
       "metadata": {},
       "overflow": false,
       "plotOptions": {
        "customPlotOptions": {},
        "displayType": "table",
        "pivotAggregation": null,
        "pivotColumns": null,
        "xColumns": null,
        "yColumns": null
       },
       "removedWidgets": [],
       "schema": [
        {
         "metadata": "{}",
         "name": "category",
         "type": "\"string\""
        },
        {
         "metadata": "{}",
         "name": "description",
         "type": "\"string\""
        },
        {
         "metadata": "{}",
         "name": "downloaded",
         "type": "\"long\""
        },
        {
         "metadata": "{}",
         "name": "follower_count",
         "type": "\"string\""
        },
        {
         "metadata": "{}",
         "name": "image_src",
         "type": "\"string\""
        },
        {
         "metadata": "{}",
         "name": "index",
         "type": "\"long\""
        },
        {
         "metadata": "{}",
         "name": "is_image_or_video",
         "type": "\"string\""
        },
        {
         "metadata": "{}",
         "name": "poster_name",
         "type": "\"string\""
        },
        {
         "metadata": "{}",
         "name": "save_location",
         "type": "\"string\""
        },
        {
         "metadata": "{}",
         "name": "tag_list",
         "type": "\"string\""
        },
        {
         "metadata": "{}",
         "name": "title",
         "type": "\"string\""
        },
        {
         "metadata": "{}",
         "name": "unique_id",
         "type": "\"string\""
        }
       ],
       "type": "table"
      }
     },
     "output_type": "display_data"
    },
    {
     "output_type": "display_data",
     "data": {
      "text/html": [
       "<style scoped>\n",
       "  .table-result-container {\n",
       "    max-height: 300px;\n",
       "    overflow: auto;\n",
       "  }\n",
       "  table, th, td {\n",
       "    border: 1px solid black;\n",
       "    border-collapse: collapse;\n",
       "  }\n",
       "  th, td {\n",
       "    padding: 5px;\n",
       "  }\n",
       "  th {\n",
       "    text-align: left;\n",
       "  }\n",
       "</style><div class='table-result-container'><table class='table-result'><thead style='background-color: white'><tr><th>category</th><th>description</th><th>downloaded</th><th>follower_count</th><th>image_src</th><th>index</th><th>is_image_or_video</th><th>poster_name</th><th>save_location</th><th>tag_list</th><th>title</th><th>unique_id</th></tr></thead><tbody><tr><td>mens-fashion</td><td>No description available Story format</td><td>0</td><td>User Info Error</td><td>Image src error.</td><td>7528</td><td>multi-video(story page format)</td><td>User Info Error</td><td>Local save in /data/mens-fashion</td><td>N,o, ,T,a,g,s, ,A,v,a,i,l,a,b,l,e</td><td>No Title Data Available</td><td>fbe53c66-3442-4773-b19e-d3ec6f54dddf</td></tr></tbody></table></div>"
      ]
     },
     "metadata": {
      "application/vnd.databricks.v1+output": {
       "addedWidgets": {},
       "aggData": [],
       "aggError": "",
       "aggOverflow": false,
       "aggSchema": [],
       "aggSeriesLimitReached": false,
       "aggType": "",
       "arguments": {},
       "columnCustomDisplayInfos": {},
       "data": [
        [
         "mens-fashion",
         "No description available Story format",
         0,
         "User Info Error",
         "Image src error.",
         7528,
         "multi-video(story page format)",
         "User Info Error",
         "Local save in /data/mens-fashion",
         "N,o, ,T,a,g,s, ,A,v,a,i,l,a,b,l,e",
         "No Title Data Available",
         "fbe53c66-3442-4773-b19e-d3ec6f54dddf"
        ]
       ],
       "datasetInfos": [],
       "dbfsResultPath": null,
       "isJsonSchema": true,
       "metadata": {},
       "overflow": false,
       "plotOptions": {
        "customPlotOptions": {},
        "displayType": "table",
        "pivotAggregation": null,
        "pivotColumns": null,
        "xColumns": null,
        "yColumns": null
       },
       "removedWidgets": [],
       "schema": [
        {
         "metadata": "{}",
         "name": "category",
         "type": "\"string\""
        },
        {
         "metadata": "{}",
         "name": "description",
         "type": "\"string\""
        },
        {
         "metadata": "{}",
         "name": "downloaded",
         "type": "\"long\""
        },
        {
         "metadata": "{}",
         "name": "follower_count",
         "type": "\"string\""
        },
        {
         "metadata": "{}",
         "name": "image_src",
         "type": "\"string\""
        },
        {
         "metadata": "{}",
         "name": "index",
         "type": "\"long\""
        },
        {
         "metadata": "{}",
         "name": "is_image_or_video",
         "type": "\"string\""
        },
        {
         "metadata": "{}",
         "name": "poster_name",
         "type": "\"string\""
        },
        {
         "metadata": "{}",
         "name": "save_location",
         "type": "\"string\""
        },
        {
         "metadata": "{}",
         "name": "tag_list",
         "type": "\"string\""
        },
        {
         "metadata": "{}",
         "name": "title",
         "type": "\"string\""
        },
        {
         "metadata": "{}",
         "name": "unique_id",
         "type": "\"string\""
        }
       ],
       "type": "table"
      }
     },
     "output_type": "display_data"
    }
   ],
   "source": [
    "# File location and type\n",
    "file_type = \"json\"\n",
    "# Ask Spark to infer the schema\n",
    "infer_schema = \"true\"\n",
    "\n",
    "# Asterisk(*) indicates reading all the content of the specified file that have .json extension\n",
    "file_location = MOUNT_NAME + \"/topics/0a1153066525.pin/partition=0/*.json\" \n",
    "# Read in JSONs from mounted S3 bucket\n",
    "df_pin = spark.read.format(file_type) \\\n",
    ".option(\"inferSchema\", infer_schema) \\\n",
    ".load(file_location)\n",
    "# Display Spark dataframe to check its content\n",
    "display(df_pin)\n",
    "\n",
    "# Asterisk(*) indicates reading all the content of the specified file that have .json extension\n",
    "file_location = MOUNT_NAME + \"/topics/0a1153066525.pin/partition=0/*.json\" \n",
    "# Read in JSONs from mounted S3 bucket\n",
    "df_geo = spark.read.format(file_type) \\\n",
    ".option(\"inferSchema\", infer_schema) \\\n",
    ".load(file_location)\n",
    "# Display Spark dataframe to check its content\n",
    "display(df_geo)\n",
    "\n",
    "# Asterisk(*) indicates reading all the content of the specified file that have .json extension\n",
    "file_location_user = MOUNT_NAME + \"/topics/0a1153066525.pin/partition=0/*.json\" \n",
    "# Read in JSONs from mounted S3 bucket\n",
    "df_user = spark.read.format(file_type) \\\n",
    ".option(\"inferSchema\", infer_schema) \\\n",
    ".load(file_location)\n",
    "# Display Spark dataframe to check its content\n",
    "display(df_pin)\n"
   ]
  },
  {
   "cell_type": "code",
   "execution_count": 0,
   "metadata": {
    "application/vnd.databricks.v1+cell": {
     "cellMetadata": {
      "byteLimit": 2048000,
      "rowLimit": 10000
     },
     "inputWidgets": {},
     "nuid": "e060153b-d3a1-4650-8e84-cdccae4da805",
     "showTitle": false,
     "title": ""
    }
   },
   "outputs": [
    {
     "output_type": "display_data",
     "data": {
      "text/html": [
       "<style scoped>\n",
       "  .ansiout {\n",
       "    display: block;\n",
       "    unicode-bidi: embed;\n",
       "    white-space: pre-wrap;\n",
       "    word-wrap: break-word;\n",
       "    word-break: break-all;\n",
       "    font-family: \"Menlo\", \"Monaco\", \"Consolas\", \"Ubuntu Mono\", \"Source Code Pro\", monospace;\n",
       "    font-size: 13px;\n",
       "    color: #555;\n",
       "    margin-left: 4px;\n",
       "    line-height: 19px;\n",
       "  }\n",
       "</style>\n",
       "<div class=\"ansiout\">/mnt/incoming has been unmounted.\n",
       "Out[41]: True</div>"
      ]
     },
     "metadata": {
      "application/vnd.databricks.v1+output": {
       "addedWidgets": {},
       "arguments": {},
       "data": "<div class=\"ansiout\">/mnt/incoming has been unmounted.\nOut[41]: True</div>",
       "datasetInfos": [],
       "metadata": {},
       "removedWidgets": [],
       "type": "html"
      }
     },
     "output_type": "display_data"
    }
   ],
   "source": [
    "dbutils.fs.unmount(MOUNT_NAME)"
   ]
  }
 ],
 "metadata": {
  "application/vnd.databricks.v1+notebook": {
   "dashboards": [],
   "language": "python",
   "notebookMetadata": {
    "pythonIndentUnit": 4
   },
   "notebookName": "AiCore Pinterest project",
   "widgets": {}
  }
 },
 "nbformat": 4,
 "nbformat_minor": 0
}

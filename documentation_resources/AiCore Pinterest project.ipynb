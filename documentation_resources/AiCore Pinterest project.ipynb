{
 "cells": [
  {
   "cell_type": "markdown",
   "metadata": {
    "application/vnd.databricks.v1+cell": {
     "cellMetadata": {
      "byteLimit": 2048000,
      "rowLimit": 10000
     },
     "inputWidgets": {},
     "nuid": "7b135d03-3ca4-41ab-b2d9-22c0b1f86744",
     "showTitle": false,
     "title": ""
    }
   },
   "source": [
    "Each markdown block indicates a new section which is a prerequisite for the next.\n",
    "\n",
    "First we check the file system for the access keys, then load the keys and mount the S3 bucket.\n"
   ]
  },
  {
   "cell_type": "code",
   "execution_count": 0,
   "metadata": {
    "application/vnd.databricks.v1+cell": {
     "cellMetadata": {
      "byteLimit": 2048000,
      "rowLimit": 10000
     },
     "inputWidgets": {},
     "nuid": "8869ac6c-c432-4720-a8fd-8be6a9d047d2",
     "showTitle": false,
     "title": ""
    }
   },
   "outputs": [
    {
     "output_type": "display_data",
     "data": {
      "text/html": [
       "<style scoped>\n",
       "  .ansiout {\n",
       "    display: block;\n",
       "    unicode-bidi: embed;\n",
       "    white-space: pre-wrap;\n",
       "    word-wrap: break-word;\n",
       "    word-break: break-all;\n",
       "    font-family: \"Menlo\", \"Monaco\", \"Consolas\", \"Ubuntu Mono\", \"Source Code Pro\", monospace;\n",
       "    font-size: 13px;\n",
       "    color: #555;\n",
       "    margin-left: 4px;\n",
       "    line-height: 19px;\n",
       "  }\n",
       "</style>\n",
       "<div class=\"ansiout\">1108-162752-8okw8dgg\n",
       "</div>"
      ]
     },
     "metadata": {
      "application/vnd.databricks.v1+output": {
       "addedWidgets": {},
       "arguments": {},
       "data": "<div class=\"ansiout\">1108-162752-8okw8dgg\n</div>",
       "datasetInfos": [],
       "metadata": {},
       "removedWidgets": [],
       "type": "html"
      }
     },
     "output_type": "display_data"
    }
   ],
   "source": [
    "print(spark.conf.get(\"spark.databricks.clusterUsageTags.clusterId\")) # we'll need this to configure the DAG in AWS"
   ]
  },
  {
   "cell_type": "code",
   "execution_count": 0,
   "metadata": {
    "application/vnd.databricks.v1+cell": {
     "cellMetadata": {
      "byteLimit": 2048000,
      "rowLimit": 10000
     },
     "inputWidgets": {},
     "nuid": "6ffc5f34-9946-4550-b300-5cfe557ec5ea",
     "showTitle": false,
     "title": ""
    }
   },
   "outputs": [
    {
     "output_type": "display_data",
     "data": {
      "text/html": [
       "<style scoped>\n",
       "  .ansiout {\n",
       "    display: block;\n",
       "    unicode-bidi: embed;\n",
       "    white-space: pre-wrap;\n",
       "    word-wrap: break-word;\n",
       "    word-break: break-all;\n",
       "    font-family: \"Menlo\", \"Monaco\", \"Consolas\", \"Ubuntu Mono\", \"Source Code Pro\", monospace;\n",
       "    font-size: 13px;\n",
       "    color: #555;\n",
       "    margin-left: 4px;\n",
       "    line-height: 19px;\n",
       "  }\n",
       "</style>\n",
       "<div class=\"ansiout\"></div>"
      ]
     },
     "metadata": {
      "application/vnd.databricks.v1+output": {
       "addedWidgets": {},
       "arguments": {},
       "data": "<div class=\"ansiout\"></div>",
       "datasetInfos": [],
       "metadata": {},
       "removedWidgets": [],
       "type": "html"
      }
     },
     "output_type": "display_data"
    }
   ],
   "source": [
    "from pyspark.sql.types import *\n",
    "from pyspark.sql.functions import *\n",
    "import urllib\n",
    "\n",
    "# Define the path to the Delta table\n",
    "delta_table_path = \"dbfs:/user/hive/warehouse/authentication_credentials\"\n",
    "\n",
    "# check we can access where the access keys are stored\n",
    "dbutils.fs.ls(delta_table_path)\n",
    "\n",
    "# Read the Delta table to a Spark DataFrame\n",
    "aws_keys_df = spark.read.format(\"delta\").load(delta_table_path)\n",
    "\n",
    "from pyspark.sql.types import *\n",
    "from pyspark.sql.functions import *\n",
    "import urllib\n",
    "\n",
    "# Define the path to the Delta table\n",
    "delta_table_path = \"dbfs:/user/hive/warehouse/authentication_credentials\"\n",
    "\n",
    "# Read the Delta table to a Spark DataFrame\n",
    "aws_keys_df = spark.read.format(\"delta\").load(delta_table_path)\n",
    "\n",
    "# Get the AWS access key and secret key from the spark dataframe\n",
    "ACCESS_KEY = aws_keys_df.select('Access key ID').collect()[0]['Access key ID']\n",
    "SECRET_KEY = aws_keys_df.select('Secret access key').collect()[0]['Secret access key']\n",
    "# Encode the secrete key\n",
    "ENCODED_SECRET_KEY = urllib.parse.quote(string=SECRET_KEY, safe=\"\")\n",
    "\n",
    "# AWS S3 bucket name\n",
    "AWS_S3_BUCKET = \"user-0a1153066525-bucket\"\n",
    "# Mount name for the bucket\n",
    "MOUNT_NAME = \"/mnt/incoming\"\n",
    "# MOUNT_NAME = \"/mnt/dan_bucket\"\n",
    "# Source url\n",
    "SOURCE_URL = \"s3n://{0}:{1}@{2}\".format(ACCESS_KEY, ENCODED_SECRET_KEY, AWS_S3_BUCKET)"
   ]
  },
  {
   "cell_type": "code",
   "execution_count": 0,
   "metadata": {
    "application/vnd.databricks.v1+cell": {
     "cellMetadata": {
      "byteLimit": 2048000,
      "rowLimit": 10000
     },
     "inputWidgets": {},
     "nuid": "ced082c1-7f26-4994-b77c-a0942f6de980",
     "showTitle": false,
     "title": ""
    }
   },
   "outputs": [
    {
     "output_type": "display_data",
     "data": {
      "text/html": [
       "<style scoped>\n",
       "  .table-result-container {\n",
       "    max-height: 300px;\n",
       "    overflow: auto;\n",
       "  }\n",
       "  table, th, td {\n",
       "    border: 1px solid black;\n",
       "    border-collapse: collapse;\n",
       "  }\n",
       "  th, td {\n",
       "    padding: 5px;\n",
       "  }\n",
       "  th {\n",
       "    text-align: left;\n",
       "  }\n",
       "</style><div class='table-result-container'><table class='table-result'><thead style='background-color: white'><tr><th>path</th><th>name</th><th>size</th><th>modificationTime</th></tr></thead><tbody><tr><td>dbfs:/FileStore/</td><td>FileStore/</td><td>0</td><td>1704383990317</td></tr><tr><td>dbfs:/Volume/</td><td>Volume/</td><td>0</td><td>0</td></tr><tr><td>dbfs:/Volumes/</td><td>Volumes/</td><td>0</td><td>0</td></tr><tr><td>dbfs:/_delta_log/</td><td>_delta_log/</td><td>0</td><td>1704383990317</td></tr><tr><td>dbfs:/checkpoint/</td><td>checkpoint/</td><td>0</td><td>1704383990317</td></tr><tr><td>dbfs:/databricks-datasets/</td><td>databricks-datasets/</td><td>0</td><td>0</td></tr><tr><td>dbfs:/databricks-results/</td><td>databricks-results/</td><td>0</td><td>0</td></tr><tr><td>dbfs:/delta/</td><td>delta/</td><td>0</td><td>1704383990317</td></tr><tr><td>dbfs:/df_pin.csv/</td><td>df_pin.csv/</td><td>0</td><td>1704383990317</td></tr><tr><td>dbfs:/df_pin.parquet/</td><td>df_pin.parquet/</td><td>0</td><td>1704383990317</td></tr><tr><td>dbfs:/geo_dirty.csv/</td><td>geo_dirty.csv/</td><td>0</td><td>1704383990317</td></tr><tr><td>dbfs:/local_disk0/</td><td>local_disk0/</td><td>0</td><td>1704383990317</td></tr><tr><td>dbfs:/mnt/</td><td>mnt/</td><td>0</td><td>0</td></tr><tr><td>dbfs:/output/</td><td>output/</td><td>0</td><td>1704383990317</td></tr><tr><td>dbfs:/part-00000-ba1b6f69-9949-415d-bb6a-5a1508e01a03-c000.snappy.parquet</td><td>part-00000-ba1b6f69-9949-415d-bb6a-5a1508e01a03-c000.snappy.parquet</td><td>56926</td><td>1704218332000</td></tr><tr><td>dbfs:/part-00001-f866f5d9-a692-4a3f-bf3a-a72ca8bfcb3e-c000.snappy.parquet</td><td>part-00001-f866f5d9-a692-4a3f-bf3a-a72ca8bfcb3e-c000.snappy.parquet</td><td>55704</td><td>1704218326000</td></tr><tr><td>dbfs:/part-00002-e5265761-3c6b-475c-9e6a-5ba024c22cf6-c000.snappy.parquet</td><td>part-00002-e5265761-3c6b-475c-9e6a-5ba024c22cf6-c000.snappy.parquet</td><td>51782</td><td>1704218333000</td></tr><tr><td>dbfs:/part-00003-4e844537-6130-4248-9013-08d6578956ae-c000.snappy.parquet</td><td>part-00003-4e844537-6130-4248-9013-08d6578956ae-c000.snappy.parquet</td><td>50751</td><td>1704218327000</td></tr><tr><td>dbfs:/part-00004-c771fa60-0080-4195-8cb3-1de28d24fa67-c000.snappy.parquet</td><td>part-00004-c771fa60-0080-4195-8cb3-1de28d24fa67-c000.snappy.parquet</td><td>48696</td><td>1704218328000</td></tr><tr><td>dbfs:/part-00005-0b818998-0f95-45cf-acd2-ef1ad0d827fc-c000.snappy.parquet</td><td>part-00005-0b818998-0f95-45cf-acd2-ef1ad0d827fc-c000.snappy.parquet</td><td>46856</td><td>1704218337000</td></tr><tr><td>dbfs:/part-00006-a2f8839b-3081-4672-8f08-e79733f6307d-c000.snappy.parquet</td><td>part-00006-a2f8839b-3081-4672-8f08-e79733f6307d-c000.snappy.parquet</td><td>44037</td><td>1704218330000</td></tr><tr><td>dbfs:/part-00007-4a946295-63c9-40ac-b687-7af02b94a99c-c000.snappy.parquet</td><td>part-00007-4a946295-63c9-40ac-b687-7af02b94a99c-c000.snappy.parquet</td><td>39491</td><td>1704218332000</td></tr><tr><td>dbfs:/part-00008-2c16e39c-cd9d-44eb-b002-db6eb4f5bb0f-c000.snappy.parquet</td><td>part-00008-2c16e39c-cd9d-44eb-b002-db6eb4f5bb0f-c000.snappy.parquet</td><td>14239</td><td>1704218332000</td></tr><tr><td>dbfs:/pin_dirty.csv/</td><td>pin_dirty.csv/</td><td>0</td><td>1704383990317</td></tr><tr><td>dbfs:/pin_kinesis_events/</td><td>pin_kinesis_events/</td><td>0</td><td>1704383990317</td></tr><tr><td>dbfs:/tmp/</td><td>tmp/</td><td>0</td><td>1704383990317</td></tr><tr><td>dbfs:/user/</td><td>user/</td><td>0</td><td>1704383990317</td></tr><tr><td>dbfs:/user_dirty.csv/</td><td>user_dirty.csv/</td><td>0</td><td>1704383990317</td></tr><tr><td>dbfs:/volume/</td><td>volume/</td><td>0</td><td>0</td></tr><tr><td>dbfs:/volumes/</td><td>volumes/</td><td>0</td><td>0</td></tr></tbody></table></div>"
      ]
     },
     "metadata": {
      "application/vnd.databricks.v1+output": {
       "addedWidgets": {},
       "aggData": [],
       "aggError": "",
       "aggOverflow": false,
       "aggSchema": [],
       "aggSeriesLimitReached": false,
       "aggType": "",
       "arguments": {},
       "columnCustomDisplayInfos": {},
       "data": [
        [
         "dbfs:/FileStore/",
         "FileStore/",
         0,
         1704383990317
        ],
        [
         "dbfs:/Volume/",
         "Volume/",
         0,
         0
        ],
        [
         "dbfs:/Volumes/",
         "Volumes/",
         0,
         0
        ],
        [
         "dbfs:/_delta_log/",
         "_delta_log/",
         0,
         1704383990317
        ],
        [
         "dbfs:/checkpoint/",
         "checkpoint/",
         0,
         1704383990317
        ],
        [
         "dbfs:/databricks-datasets/",
         "databricks-datasets/",
         0,
         0
        ],
        [
         "dbfs:/databricks-results/",
         "databricks-results/",
         0,
         0
        ],
        [
         "dbfs:/delta/",
         "delta/",
         0,
         1704383990317
        ],
        [
         "dbfs:/df_pin.csv/",
         "df_pin.csv/",
         0,
         1704383990317
        ],
        [
         "dbfs:/df_pin.parquet/",
         "df_pin.parquet/",
         0,
         1704383990317
        ],
        [
         "dbfs:/geo_dirty.csv/",
         "geo_dirty.csv/",
         0,
         1704383990317
        ],
        [
         "dbfs:/local_disk0/",
         "local_disk0/",
         0,
         1704383990317
        ],
        [
         "dbfs:/mnt/",
         "mnt/",
         0,
         0
        ],
        [
         "dbfs:/output/",
         "output/",
         0,
         1704383990317
        ],
        [
         "dbfs:/part-00000-ba1b6f69-9949-415d-bb6a-5a1508e01a03-c000.snappy.parquet",
         "part-00000-ba1b6f69-9949-415d-bb6a-5a1508e01a03-c000.snappy.parquet",
         56926,
         1704218332000
        ],
        [
         "dbfs:/part-00001-f866f5d9-a692-4a3f-bf3a-a72ca8bfcb3e-c000.snappy.parquet",
         "part-00001-f866f5d9-a692-4a3f-bf3a-a72ca8bfcb3e-c000.snappy.parquet",
         55704,
         1704218326000
        ],
        [
         "dbfs:/part-00002-e5265761-3c6b-475c-9e6a-5ba024c22cf6-c000.snappy.parquet",
         "part-00002-e5265761-3c6b-475c-9e6a-5ba024c22cf6-c000.snappy.parquet",
         51782,
         1704218333000
        ],
        [
         "dbfs:/part-00003-4e844537-6130-4248-9013-08d6578956ae-c000.snappy.parquet",
         "part-00003-4e844537-6130-4248-9013-08d6578956ae-c000.snappy.parquet",
         50751,
         1704218327000
        ],
        [
         "dbfs:/part-00004-c771fa60-0080-4195-8cb3-1de28d24fa67-c000.snappy.parquet",
         "part-00004-c771fa60-0080-4195-8cb3-1de28d24fa67-c000.snappy.parquet",
         48696,
         1704218328000
        ],
        [
         "dbfs:/part-00005-0b818998-0f95-45cf-acd2-ef1ad0d827fc-c000.snappy.parquet",
         "part-00005-0b818998-0f95-45cf-acd2-ef1ad0d827fc-c000.snappy.parquet",
         46856,
         1704218337000
        ],
        [
         "dbfs:/part-00006-a2f8839b-3081-4672-8f08-e79733f6307d-c000.snappy.parquet",
         "part-00006-a2f8839b-3081-4672-8f08-e79733f6307d-c000.snappy.parquet",
         44037,
         1704218330000
        ],
        [
         "dbfs:/part-00007-4a946295-63c9-40ac-b687-7af02b94a99c-c000.snappy.parquet",
         "part-00007-4a946295-63c9-40ac-b687-7af02b94a99c-c000.snappy.parquet",
         39491,
         1704218332000
        ],
        [
         "dbfs:/part-00008-2c16e39c-cd9d-44eb-b002-db6eb4f5bb0f-c000.snappy.parquet",
         "part-00008-2c16e39c-cd9d-44eb-b002-db6eb4f5bb0f-c000.snappy.parquet",
         14239,
         1704218332000
        ],
        [
         "dbfs:/pin_dirty.csv/",
         "pin_dirty.csv/",
         0,
         1704383990317
        ],
        [
         "dbfs:/pin_kinesis_events/",
         "pin_kinesis_events/",
         0,
         1704383990317
        ],
        [
         "dbfs:/tmp/",
         "tmp/",
         0,
         1704383990317
        ],
        [
         "dbfs:/user/",
         "user/",
         0,
         1704383990317
        ],
        [
         "dbfs:/user_dirty.csv/",
         "user_dirty.csv/",
         0,
         1704383990317
        ],
        [
         "dbfs:/volume/",
         "volume/",
         0,
         0
        ],
        [
         "dbfs:/volumes/",
         "volumes/",
         0,
         0
        ]
       ],
       "datasetInfos": [],
       "dbfsResultPath": null,
       "isJsonSchema": true,
       "metadata": {},
       "overflow": false,
       "plotOptions": {
        "customPlotOptions": {},
        "displayType": "table",
        "pivotAggregation": null,
        "pivotColumns": null,
        "xColumns": null,
        "yColumns": null
       },
       "removedWidgets": [],
       "schema": [
        {
         "metadata": "{}",
         "name": "path",
         "type": "\"string\""
        },
        {
         "metadata": "{}",
         "name": "name",
         "type": "\"string\""
        },
        {
         "metadata": "{}",
         "name": "size",
         "type": "\"long\""
        },
        {
         "metadata": "{}",
         "name": "modificationTime",
         "type": "\"long\""
        }
       ],
       "type": "table"
      }
     },
     "output_type": "display_data"
    }
   ],
   "source": [
    "# Mount the drive\n",
    "dbutils.fs.mount(SOURCE_URL, MOUNT_NAME)\n",
    "\n",
    "# test it mounted\n",
    "# display(dbutils.fs.ls(MOUNT_NAME))\n",
    "display(dbutils.fs.ls(MOUNT_NAME + \"/../..\"))"
   ]
  },
  {
   "cell_type": "markdown",
   "metadata": {
    "application/vnd.databricks.v1+cell": {
     "cellMetadata": {
      "byteLimit": 2048000,
      "rowLimit": 10000
     },
     "inputWidgets": {},
     "nuid": "61c16377-4409-40e2-bc85-82c4ccddb334",
     "showTitle": false,
     "title": ""
    }
   },
   "source": [
    "Now we load the files from the 3 streams each into a Spark data frame."
   ]
  },
  {
   "cell_type": "code",
   "execution_count": 0,
   "metadata": {
    "application/vnd.databricks.v1+cell": {
     "cellMetadata": {
      "byteLimit": 2048000,
      "rowLimit": 10000
     },
     "inputWidgets": {},
     "nuid": "ba67201a-4dc0-47ba-b0d4-79539eda606a",
     "showTitle": false,
     "title": ""
    }
   },
   "outputs": [
    {
     "output_type": "display_data",
     "data": {
      "text/html": [
       "<style scoped>\n",
       "  .table-result-container {\n",
       "    max-height: 300px;\n",
       "    overflow: auto;\n",
       "  }\n",
       "  table, th, td {\n",
       "    border: 1px solid black;\n",
       "    border-collapse: collapse;\n",
       "  }\n",
       "  th, td {\n",
       "    padding: 5px;\n",
       "  }\n",
       "  th {\n",
       "    text-align: left;\n",
       "  }\n",
       "</style><div class='table-result-container'><table class='table-result'><thead style='background-color: white'><tr><th>category</th><th>description</th><th>downloaded</th><th>follower_count</th><th>image_src</th><th>index</th><th>is_image_or_video</th><th>poster_name</th><th>save_location</th><th>tag_list</th><th>title</th><th>unique_id</th></tr></thead><tbody><tr><td>mens-fashion</td><td>スポーツミックススタイルやアスレジャースタイルの台頭によって、すっかりおなじみとなった「ジョガーパンツ」。スニーカーと相性抜群なアイテムであり、フーディを合わせたカジュアルなスタイルからジャケットを羽織ったドレスライクなスタイルまで幅広くフィットする。今回はそんな「ジョガーパンツ」にフォーカスして注目の着こなし&アイテムを紹介！</td><td>1</td><td>122k</td><td>https://i.pinimg.com/originals/5d/31/e4/5d31e49fada653798f7c8f4c47f65d14.jpg</td><td>7491</td><td>image</td><td>OTOKOMAE/男前研究所</td><td>Local save in /data/mens-fashion</td><td>Streetwear,Mens Casual Hats,Fashion Week Hommes,Herren Style,Moda Blog,Look Man,La Mode Masculine,Outfits With Converse,Black Converse</td><td>ジョガーパンツでメンズコーデの足元を軽快にこなす！ | メンズファッションメディア OTOKOMAE</td><td>0bfd8ee2-8bc8-4d43-8a43-3f9e5f9678bf</td></tr><tr><td>vehicles</td><td>!Закрыто! Хотите эстетику или кое-какие элементы для фанфиков? Если это так, то вам, определённо, стоит заглянуть сюда. 𝐅𝐚𝐧𝐜𝐢 𝐅 𝐨𝐫 𝐱𝐱𝐬𝐚𝐣𝐧𝐱</td><td>1</td><td>422</td><td>https://i.pinimg.com/originals/ed/45/25/ed452567d0affd9329d33cc6fb14b5d6.jpg</td><td>11100</td><td>image</td><td>Tia</td><td>Local save in /data/vehicles</td><td>Cool Sports Cars,Sport Cars,Cool Cars,Top Luxury Cars,Lamborghini Cars,Lamborghini Urus Interior,Lux Cars,Street Racing Cars,Pretty Cars</td><td>𝒜𝑒𝓈𝓉𝒽𝑒𝓉𝒾𝒸 / 𝒻𝑜𝓇 𝒻𝒶𝓃𝒻𝒾𝒸𝓈</td><td>c5474c35-4711-416b-b627-764d51498916</td></tr><tr><td>tattoos</td><td>Elmira Kruger shared a photo on Instagram: “Больше всего жалко девчонок, которые экономят и разукрашивают свои красивые тела ляпистыми не…” • See 1,214 photos and videos on thei… </td><td>1</td><td>848</td><td>https://i.pinimg.com/originals/9e/4e/a8/9e4ea85a446f779c6d0a1fdc785e9d4b.jpg</td><td>8822</td><td>image</td><td>Alicia Keller</td><td>Local save in /data/tattoos</td><td>Arm Sleeve Tattoos For Women,Chicano Tattoos Sleeve,Full Sleeve Tattoos,Body Art Tattoos,Girl Tattoos,Arabic Tattoos,Badass Sleeve Tattoos,Portrait Tattoo Sleeve,Tattoos Pics</td><td>Elmira Kruger on Instagram: “Больше всего жалко девчонок, которые экономят и разукрашивают свои красивые тела ляпистыми не стильными рисунками☹️ Я в женском рукаве…”</td><td>db80a4e4-293a-45cf-b60c-a67ba9053246</td></tr><tr><td>home-decor</td><td>Вместе с Русланом Кирничанским рассказываем, как выжать максимум из маленькой площади и продумать системы хранения так, чтобы ими было удобно пользоваться. Свежие идеи дизайна и… </td><td>1</td><td>35k</td><td>https://i.pinimg.com/originals/0b/5c/0f/0b5c0fdd3ea40beff4a91ddcdaf98852.jpg</td><td>5996</td><td>image</td><td>INMYROOM.RU</td><td>Local save in /data/home-decor</td><td>Scandinavian Interior Design,Home Interior Design,Scandinavian Style,Swedish Decor,Swedish Style,Interior Door,Interior Modern,Minimalist Interior,Scandi Chic</td><td>Где найти и как организовать дополнительные места для хранения? — INMYROOM</td><td>4081ef06-637d-4cfb-9195-5e06b56fbd8c</td></tr><tr><td>event-planning</td><td>Το όνομα που επέλεξε η μαμά Ανδριανή για τη γλυκιά Τιτίκα δεν είναι καθόλου τυχαίο. Και φυσικά δεν άφησε τίποτα στην τύχη ούτε την ημέρα της βάπτισης. Ανέθεσε την οργάνωση στην… </td><td>1</td><td>4</td><td>https://i.pinimg.com/originals/db/aa/d2/dbaad28fa85012a4ea6958540d98a8e5.jpg</td><td>4387</td><td>image</td><td>Manosbojana Katsareas</td><td>Local save in /data/event-planning</td><td>Diy Flowers,Flower Diy,Baptism Decorations,Christening,Event Planning,Wedding Planner,Baptism Ideas,Birthday,Party</td><td>Βάπτιση: H παραμυθένια βάπτιση της Τιτίκας με θέμα το μονόκερο από την e.m. for you</td><td>ae5e7377-f1bd-4ac5-94de-bee317f51a43</td></tr><tr><td>home-decor</td><td>Так повелось в последнее время, что по субботам мы делимся фотографиями какой-нибудь милой скандинавской дачи (надеюсь никто не против такой нашей ✌PUFIK. Beautiful Interiors. O… </td><td>1</td><td>136k</td><td>https://i.pinimg.com/originals/25/82/6b/25826bbe3789faa1c1c70d78ad93a33c.jpg</td><td>5953</td><td>image</td><td>PUFIK Interiors & Inspirations</td><td>Local save in /data/home-decor</td><td>Cottage Living Rooms,Cottage Interiors,Home Living Room,Cottage Style Living Room,Cottage House,Cozy Living,Cottage Style Decor,Country Decor,Country Cottage Decorating</td><td>〚 Vintage summer cottage filled with love and charm in Sweden 〛◾ Photos ◾ Ideas ◾ Design</td><td>0c15cec8-5e8d-42e7-a2ad-9bd1267e0679</td></tr><tr><td>diy-and-crafts</td><td>Make this adorable (and easy) DIY doll crib from an old cardboard box, your little one will love to rock their dolls to sleep in this fun upcycled project!</td><td>1</td><td>66k</td><td>https://i.pinimg.com/originals/62/ee/0d/62ee0d79f92248b2d5819b8bfdd94551.jpg</td><td>3020</td><td>image</td><td>Cassie May - Little Red Window Crafts, DIY, crafts, tutorials and knitting patterns! Cassie May - Little Red Window Crafts, DIY, crafts, tutorials and knitting patterns! Edit settings Cassie May - Little Red Window Crafts, DIY, crafts, tutorials and knitting patterns!</td><td>Local save in /data/diy-and-crafts</td><td>Easy Sewing Projects,Sewing Projects For Beginners,Sewing Hacks,Diy Dolls Crib,Doll Beds,Diy Baby Headbands,Diy Cardboard,Minky Fabric,Sewing Basics</td><td>Cardboard DIY Doll Crib</td><td>186a847a-6778-48c0-888c-4578550ce7c7</td></tr><tr><td>tattoos</td><td>Image uploaded by 🦢🥀𝓘𝓼𝓸 𝑹𝒐𝒔𝒊𝒆🌸🦋. Find images and videos about flowers, tattoo and colors on We Heart It - the app to get lost in what you love.</td><td>1</td><td>15M</td><td>https://i.pinimg.com/originals/47/a0/34/47a034a356959e22d8ad367a5e6d62d1.jpg</td><td>8586</td><td>image</td><td>We Heart It</td><td>Local save in /data/tattoos</td><td>Mens Body Tattoos,Body Art Tattoos,Tatoos,Collar Bone Tattoos,Pretty Tattoos,Beautiful Tattoos,Awesome Tattoos,Mini Tattoos,Small Tattoos</td><td>Pretty ♥ discovered by 🦢🥀𝓘𝓼𝓸 𝑹𝒐𝒔𝒊𝒆🌸🦋 on We Heart It</td><td>c338b1c8-7c6a-4a1a-8fba-cdb5a423c0ca</td></tr><tr><td>home-decor</td><td>Традиционные шведские коттеджи, обычно с красным фасадом — это настоящее воплощением идеального зимнего уюта. Они обычно оформлены очень просто и ✌PUFIK. Beautiful Interiors. On… </td><td>1</td><td>136k</td><td>https://i.pinimg.com/originals/32/eb/72/32eb72e4fd8654c115a64528bd1f34b4.png</td><td>6717</td><td>image</td><td>PUFIK Interiors & Inspirations</td><td>Local save in /data/home-decor</td><td>Scandinavian Cottage,Swedish Cottage,Swedish Home Decor,Swedish Farmhouse,Swedish Style,Swedish Kitchen,Kitchen Black,Swedish House,Cozy Cottage</td><td>〚 Уютные шведские коттеджи от Carina Olander 〛 ◾ Фото ◾ Идеи ◾ Дизайн</td><td>bc5ab9ee-505e-44f6-92ba-677fe4fdf3e3</td></tr><tr><td>event-planning</td><td>Wow your guests! Our backdrops are a great option for providing a personalized, stylish and fun addition to your party .It will be the focal point in any event! They are great a… </td><td>1</td><td>1k</td><td>https://i.pinimg.com/originals/15/1f/93/151f93d662dc158ca2c9bbfed198f556.jpg</td><td>4608</td><td>image</td><td>Iconica Design | Personalized Event Decor, Stationery & Gifts</td><td>Local save in /data/event-planning</td><td>Christmas Party Backdrop,Holiday Banner,Birthday Backdrop,Circus First Birthday,First Birthday Banners,Dinasour Birthday,Birthday Bash,Banner Backdrop,Photo Booth Backdrop</td><td>Virtual Baby Shower Little Man Baby Shower Banner, Mustache Baby Shower Backdrop, Oh Boy, Any Color,  Printed Or Printable File BBS0035 - 10x8 ft / Top Pole Pocket</td><td>d234e56f-5b18-4ef3-905b-44103f7719d9</td></tr></tbody></table></div>"
      ]
     },
     "metadata": {
      "application/vnd.databricks.v1+output": {
       "addedWidgets": {},
       "aggData": [],
       "aggError": "",
       "aggOverflow": false,
       "aggSchema": [],
       "aggSeriesLimitReached": false,
       "aggType": "",
       "arguments": {},
       "columnCustomDisplayInfos": {},
       "data": [
        [
         "mens-fashion",
         "スポーツミックススタイルやアスレジャースタイルの台頭によって、すっかりおなじみとなった「ジョガーパンツ」。スニーカーと相性抜群なアイテムであり、フーディを合わせたカジュアルなスタイルからジャケットを羽織ったドレスライクなスタイルまで幅広くフィットする。今回はそんな「ジョガーパンツ」にフォーカスして注目の着こなし&アイテムを紹介！",
         1,
         "122k",
         "https://i.pinimg.com/originals/5d/31/e4/5d31e49fada653798f7c8f4c47f65d14.jpg",
         7491,
         "image",
         "OTOKOMAE/男前研究所",
         "Local save in /data/mens-fashion",
         "Streetwear,Mens Casual Hats,Fashion Week Hommes,Herren Style,Moda Blog,Look Man,La Mode Masculine,Outfits With Converse,Black Converse",
         "ジョガーパンツでメンズコーデの足元を軽快にこなす！ | メンズファッションメディア OTOKOMAE",
         "0bfd8ee2-8bc8-4d43-8a43-3f9e5f9678bf"
        ],
        [
         "vehicles",
         "!Закрыто! Хотите эстетику или кое-какие элементы для фанфиков? Если это так, то вам, определённо, стоит заглянуть сюда. 𝐅𝐚𝐧𝐜𝐢 𝐅 𝐨𝐫 𝐱𝐱𝐬𝐚𝐣𝐧𝐱",
         1,
         "422",
         "https://i.pinimg.com/originals/ed/45/25/ed452567d0affd9329d33cc6fb14b5d6.jpg",
         11100,
         "image",
         "Tia",
         "Local save in /data/vehicles",
         "Cool Sports Cars,Sport Cars,Cool Cars,Top Luxury Cars,Lamborghini Cars,Lamborghini Urus Interior,Lux Cars,Street Racing Cars,Pretty Cars",
         "𝒜𝑒𝓈𝓉𝒽𝑒𝓉𝒾𝒸 / 𝒻𝑜𝓇 𝒻𝒶𝓃𝒻𝒾𝒸𝓈",
         "c5474c35-4711-416b-b627-764d51498916"
        ],
        [
         "tattoos",
         "Elmira Kruger shared a photo on Instagram: “Больше всего жалко девчонок, которые экономят и разукрашивают свои красивые тела ляпистыми не…” • See 1,214 photos and videos on thei… ",
         1,
         "848",
         "https://i.pinimg.com/originals/9e/4e/a8/9e4ea85a446f779c6d0a1fdc785e9d4b.jpg",
         8822,
         "image",
         "Alicia Keller",
         "Local save in /data/tattoos",
         "Arm Sleeve Tattoos For Women,Chicano Tattoos Sleeve,Full Sleeve Tattoos,Body Art Tattoos,Girl Tattoos,Arabic Tattoos,Badass Sleeve Tattoos,Portrait Tattoo Sleeve,Tattoos Pics",
         "Elmira Kruger on Instagram: “Больше всего жалко девчонок, которые экономят и разукрашивают свои красивые тела ляпистыми не стильными рисунками☹️ Я в женском рукаве…”",
         "db80a4e4-293a-45cf-b60c-a67ba9053246"
        ],
        [
         "home-decor",
         "Вместе с Русланом Кирничанским рассказываем, как выжать максимум из маленькой площади и продумать системы хранения так, чтобы ими было удобно пользоваться. Свежие идеи дизайна и… ",
         1,
         "35k",
         "https://i.pinimg.com/originals/0b/5c/0f/0b5c0fdd3ea40beff4a91ddcdaf98852.jpg",
         5996,
         "image",
         "INMYROOM.RU",
         "Local save in /data/home-decor",
         "Scandinavian Interior Design,Home Interior Design,Scandinavian Style,Swedish Decor,Swedish Style,Interior Door,Interior Modern,Minimalist Interior,Scandi Chic",
         "Где найти и как организовать дополнительные места для хранения? — INMYROOM",
         "4081ef06-637d-4cfb-9195-5e06b56fbd8c"
        ],
        [
         "event-planning",
         "Το όνομα που επέλεξε η μαμά Ανδριανή για τη γλυκιά Τιτίκα δεν είναι καθόλου τυχαίο. Και φυσικά δεν άφησε τίποτα στην τύχη ούτε την ημέρα της βάπτισης. Ανέθεσε την οργάνωση στην… ",
         1,
         "4",
         "https://i.pinimg.com/originals/db/aa/d2/dbaad28fa85012a4ea6958540d98a8e5.jpg",
         4387,
         "image",
         "Manosbojana Katsareas",
         "Local save in /data/event-planning",
         "Diy Flowers,Flower Diy,Baptism Decorations,Christening,Event Planning,Wedding Planner,Baptism Ideas,Birthday,Party",
         "Βάπτιση: H παραμυθένια βάπτιση της Τιτίκας με θέμα το μονόκερο από την e.m. for you",
         "ae5e7377-f1bd-4ac5-94de-bee317f51a43"
        ],
        [
         "home-decor",
         "Так повелось в последнее время, что по субботам мы делимся фотографиями какой-нибудь милой скандинавской дачи (надеюсь никто не против такой нашей ✌PUFIK. Beautiful Interiors. O… ",
         1,
         "136k",
         "https://i.pinimg.com/originals/25/82/6b/25826bbe3789faa1c1c70d78ad93a33c.jpg",
         5953,
         "image",
         "PUFIK Interiors & Inspirations",
         "Local save in /data/home-decor",
         "Cottage Living Rooms,Cottage Interiors,Home Living Room,Cottage Style Living Room,Cottage House,Cozy Living,Cottage Style Decor,Country Decor,Country Cottage Decorating",
         "〚 Vintage summer cottage filled with love and charm in Sweden 〛◾ Photos ◾ Ideas ◾ Design",
         "0c15cec8-5e8d-42e7-a2ad-9bd1267e0679"
        ],
        [
         "diy-and-crafts",
         "Make this adorable (and easy) DIY doll crib from an old cardboard box, your little one will love to rock their dolls to sleep in this fun upcycled project!",
         1,
         "66k",
         "https://i.pinimg.com/originals/62/ee/0d/62ee0d79f92248b2d5819b8bfdd94551.jpg",
         3020,
         "image",
         "Cassie May - Little Red Window Crafts, DIY, crafts, tutorials and knitting patterns! Cassie May - Little Red Window Crafts, DIY, crafts, tutorials and knitting patterns! Edit settings Cassie May - Little Red Window Crafts, DIY, crafts, tutorials and knitting patterns!",
         "Local save in /data/diy-and-crafts",
         "Easy Sewing Projects,Sewing Projects For Beginners,Sewing Hacks,Diy Dolls Crib,Doll Beds,Diy Baby Headbands,Diy Cardboard,Minky Fabric,Sewing Basics",
         "Cardboard DIY Doll Crib",
         "186a847a-6778-48c0-888c-4578550ce7c7"
        ],
        [
         "tattoos",
         "Image uploaded by 🦢🥀𝓘𝓼𝓸 𝑹𝒐𝒔𝒊𝒆🌸🦋. Find images and videos about flowers, tattoo and colors on We Heart It - the app to get lost in what you love.",
         1,
         "15M",
         "https://i.pinimg.com/originals/47/a0/34/47a034a356959e22d8ad367a5e6d62d1.jpg",
         8586,
         "image",
         "We Heart It",
         "Local save in /data/tattoos",
         "Mens Body Tattoos,Body Art Tattoos,Tatoos,Collar Bone Tattoos,Pretty Tattoos,Beautiful Tattoos,Awesome Tattoos,Mini Tattoos,Small Tattoos",
         "Pretty ♥ discovered by 🦢🥀𝓘𝓼𝓸 𝑹𝒐𝒔𝒊𝒆🌸🦋 on We Heart It",
         "c338b1c8-7c6a-4a1a-8fba-cdb5a423c0ca"
        ],
        [
         "home-decor",
         "Традиционные шведские коттеджи, обычно с красным фасадом — это настоящее воплощением идеального зимнего уюта. Они обычно оформлены очень просто и ✌PUFIK. Beautiful Interiors. On… ",
         1,
         "136k",
         "https://i.pinimg.com/originals/32/eb/72/32eb72e4fd8654c115a64528bd1f34b4.png",
         6717,
         "image",
         "PUFIK Interiors & Inspirations",
         "Local save in /data/home-decor",
         "Scandinavian Cottage,Swedish Cottage,Swedish Home Decor,Swedish Farmhouse,Swedish Style,Swedish Kitchen,Kitchen Black,Swedish House,Cozy Cottage",
         "〚 Уютные шведские коттеджи от Carina Olander 〛 ◾ Фото ◾ Идеи ◾ Дизайн",
         "bc5ab9ee-505e-44f6-92ba-677fe4fdf3e3"
        ],
        [
         "event-planning",
         "Wow your guests! Our backdrops are a great option for providing a personalized, stylish and fun addition to your party .It will be the focal point in any event! They are great a… ",
         1,
         "1k",
         "https://i.pinimg.com/originals/15/1f/93/151f93d662dc158ca2c9bbfed198f556.jpg",
         4608,
         "image",
         "Iconica Design | Personalized Event Decor, Stationery & Gifts",
         "Local save in /data/event-planning",
         "Christmas Party Backdrop,Holiday Banner,Birthday Backdrop,Circus First Birthday,First Birthday Banners,Dinasour Birthday,Birthday Bash,Banner Backdrop,Photo Booth Backdrop",
         "Virtual Baby Shower Little Man Baby Shower Banner, Mustache Baby Shower Backdrop, Oh Boy, Any Color,  Printed Or Printable File BBS0035 - 10x8 ft / Top Pole Pocket",
         "d234e56f-5b18-4ef3-905b-44103f7719d9"
        ]
       ],
       "datasetInfos": [],
       "dbfsResultPath": null,
       "isJsonSchema": true,
       "metadata": {},
       "overflow": false,
       "plotOptions": {
        "customPlotOptions": {},
        "displayType": "table",
        "pivotAggregation": null,
        "pivotColumns": null,
        "xColumns": null,
        "yColumns": null
       },
       "removedWidgets": [],
       "schema": [
        {
         "metadata": "{}",
         "name": "category",
         "type": "\"string\""
        },
        {
         "metadata": "{}",
         "name": "description",
         "type": "\"string\""
        },
        {
         "metadata": "{}",
         "name": "downloaded",
         "type": "\"long\""
        },
        {
         "metadata": "{}",
         "name": "follower_count",
         "type": "\"string\""
        },
        {
         "metadata": "{}",
         "name": "image_src",
         "type": "\"string\""
        },
        {
         "metadata": "{}",
         "name": "index",
         "type": "\"long\""
        },
        {
         "metadata": "{}",
         "name": "is_image_or_video",
         "type": "\"string\""
        },
        {
         "metadata": "{}",
         "name": "poster_name",
         "type": "\"string\""
        },
        {
         "metadata": "{}",
         "name": "save_location",
         "type": "\"string\""
        },
        {
         "metadata": "{}",
         "name": "tag_list",
         "type": "\"string\""
        },
        {
         "metadata": "{}",
         "name": "title",
         "type": "\"string\""
        },
        {
         "metadata": "{}",
         "name": "unique_id",
         "type": "\"string\""
        }
       ],
       "type": "table"
      }
     },
     "output_type": "display_data"
    }
   ],
   "source": [
    "# File location and type\n",
    "file_type = \"json\"\n",
    "# Ask Spark to infer the schema\n",
    "infer_schema = \"true\"\n",
    "\n",
    "# Asterisk(*) indicates reading all the content of the specified file that have .json extension\n",
    "file_location = MOUNT_NAME + \"/topics/0a1153066525.pin/partition=0/*.json\" \n",
    "# Read in JSONs from mounted S3 bucket\n",
    "df_pin = spark.read.format(file_type) \\\n",
    ".option(\"inferSchema\", infer_schema) \\\n",
    ".load(file_location)\n",
    "# Display Spark dataframe to check its content\n",
    "# display works best for many columns as it presents a scrollbar and also the type of each column is indicated\n",
    "display(df_pin.head(10))\n"
   ]
  },
  {
   "cell_type": "code",
   "execution_count": 0,
   "metadata": {
    "application/vnd.databricks.v1+cell": {
     "cellMetadata": {
      "byteLimit": 2048000,
      "rowLimit": 10000
     },
     "inputWidgets": {},
     "nuid": "92163d77-19c6-47fe-91ce-8d8f58897505",
     "showTitle": false,
     "title": ""
    }
   },
   "outputs": [
    {
     "output_type": "display_data",
     "data": {
      "text/html": [
       "<style scoped>\n",
       "  .ansiout {\n",
       "    display: block;\n",
       "    unicode-bidi: embed;\n",
       "    white-space: pre-wrap;\n",
       "    word-wrap: break-word;\n",
       "    word-break: break-all;\n",
       "    font-family: \"Menlo\", \"Monaco\", \"Consolas\", \"Ubuntu Mono\", \"Source Code Pro\", monospace;\n",
       "    font-size: 13px;\n",
       "    color: #555;\n",
       "    margin-left: 4px;\n",
       "    line-height: 19px;\n",
       "  }\n",
       "</style>\n",
       "<div class=\"ansiout\">+--------------------+----+--------+---------+-------------------+\n",
       "             country| ind|latitude|longitude|          timestamp|\n",
       "+--------------------+----+--------+---------+-------------------+\n",
       "British Indian Oc...|1210| 42.7329| -55.8251|2021-07-26T03:32:26|\n",
       "British Indian Oc...|1624| 9.50751|  119.757|2020-10-24T11:13:47|\n",
       "British Indian Oc...|1897| -87.013|  133.062|2021-07-03T12:24:08|\n",
       "Antarctica (the t...|1307|-77.9931| -175.682|2020-08-25T19:54:16|\n",
       "Antarctica (the t...|1335|-77.9931| -175.682|2022-03-19T17:29:42|\n",
       "Antarctica (the t...|1434|-39.6186| -128.291|2020-03-06T21:00:23|\n",
       "Antarctica (the t...|1460|-39.6186| -128.291|2020-08-22T00:56:17|\n",
       "Antarctica (the t...|1685|-88.4642| -171.061|2020-02-09T02:17:40|\n",
       "Antarctica (the t...|1729|-88.4642| -171.061|2021-05-04T14:59:44|\n",
       "Antarctica (the t...|1746|-88.4642| -171.061|2021-08-11T16:22:04|\n",
       "+--------------------+----+--------+---------+-------------------+\n",
       "only showing top 10 rows\n",
       "\n",
       "</div>"
      ]
     },
     "metadata": {
      "application/vnd.databricks.v1+output": {
       "addedWidgets": {},
       "arguments": {},
       "data": "<div class=\"ansiout\">+--------------------+----+--------+---------+-------------------+\n|             country| ind|latitude|longitude|          timestamp|\n+--------------------+----+--------+---------+-------------------+\n|British Indian Oc...|1210| 42.7329| -55.8251|2021-07-26T03:32:26|\n|British Indian Oc...|1624| 9.50751|  119.757|2020-10-24T11:13:47|\n|British Indian Oc...|1897| -87.013|  133.062|2021-07-03T12:24:08|\n|Antarctica (the t...|1307|-77.9931| -175.682|2020-08-25T19:54:16|\n|Antarctica (the t...|1335|-77.9931| -175.682|2022-03-19T17:29:42|\n|Antarctica (the t...|1434|-39.6186| -128.291|2020-03-06T21:00:23|\n|Antarctica (the t...|1460|-39.6186| -128.291|2020-08-22T00:56:17|\n|Antarctica (the t...|1685|-88.4642| -171.061|2020-02-09T02:17:40|\n|Antarctica (the t...|1729|-88.4642| -171.061|2021-05-04T14:59:44|\n|Antarctica (the t...|1746|-88.4642| -171.061|2021-08-11T16:22:04|\n+--------------------+----+--------+---------+-------------------+\nonly showing top 10 rows\n\n</div>",
       "datasetInfos": [],
       "metadata": {},
       "removedWidgets": [],
       "type": "html"
      }
     },
     "output_type": "display_data"
    }
   ],
   "source": [
    "# Asterisk(*) indicates reading all the content of the specified file that have .json extension\n",
    "file_location = MOUNT_NAME + \"/topics/0a1153066525.geo/partition=0/*.json\" \n",
    "# Read in JSONs from mounted S3 bucket\n",
    "df_geo = spark.read.format(file_type) \\\n",
    ".option(\"inferSchema\", infer_schema) \\\n",
    ".load(file_location)\n",
    "# Display Spark dataframe to check its content\n",
    "df_geo.show(10)\n"
   ]
  },
  {
   "cell_type": "code",
   "execution_count": 0,
   "metadata": {
    "application/vnd.databricks.v1+cell": {
     "cellMetadata": {
      "byteLimit": 2048000,
      "rowLimit": 10000
     },
     "inputWidgets": {},
     "nuid": "2a942382-8610-41e0-9bfa-2a20b933428b",
     "showTitle": false,
     "title": ""
    }
   },
   "outputs": [
    {
     "output_type": "display_data",
     "data": {
      "text/html": [
       "<style scoped>\n",
       "  .ansiout {\n",
       "    display: block;\n",
       "    unicode-bidi: embed;\n",
       "    white-space: pre-wrap;\n",
       "    word-wrap: break-word;\n",
       "    word-break: break-all;\n",
       "    font-family: \"Menlo\", \"Monaco\", \"Consolas\", \"Ubuntu Mono\", \"Source Code Pro\", monospace;\n",
       "    font-size: 13px;\n",
       "    color: #555;\n",
       "    margin-left: 4px;\n",
       "    line-height: 19px;\n",
       "  }\n",
       "</style>\n",
       "<div class=\"ansiout\">+---+-------------------+-----------+----+-----------+\n",
       "age|        date_joined| first_name| ind|  last_name|\n",
       "+---+-------------------+-----------+----+-----------+\n",
       " 33|2016-08-12T07:57:25|Christopher|3860| Richardson|\n",
       " 28|2015-11-24T22:47:19|Christopher|6427| Montgomery|\n",
       " 28|2015-11-24T22:47:19|Christopher|6486| Montgomery|\n",
       " 58|2017-10-04T22:00:53|Christopher|1409|  Gutierrez|\n",
       " 38|2015-11-12T11:07:24|Christopher|2778|  Hernandez|\n",
       " 38|2015-11-12T11:07:24|Christopher|2814|  Hernandez|\n",
       " 38|2015-11-12T11:07:24|Christopher|3151|  Hernandez|\n",
       " 25|2016-11-24T18:36:05|Christopher|3587|  Rodriguez|\n",
       " 42|2017-02-18T00:31:22|Christopher|6353|  Hernandez|\n",
       " 37|2016-04-26T03:54:30|  Elizabeth|6847|Fitzpatrick|\n",
       "+---+-------------------+-----------+----+-----------+\n",
       "only showing top 10 rows\n",
       "\n",
       "</div>"
      ]
     },
     "metadata": {
      "application/vnd.databricks.v1+output": {
       "addedWidgets": {},
       "arguments": {},
       "data": "<div class=\"ansiout\">+---+-------------------+-----------+----+-----------+\n|age|        date_joined| first_name| ind|  last_name|\n+---+-------------------+-----------+----+-----------+\n| 33|2016-08-12T07:57:25|Christopher|3860| Richardson|\n| 28|2015-11-24T22:47:19|Christopher|6427| Montgomery|\n| 28|2015-11-24T22:47:19|Christopher|6486| Montgomery|\n| 58|2017-10-04T22:00:53|Christopher|1409|  Gutierrez|\n| 38|2015-11-12T11:07:24|Christopher|2778|  Hernandez|\n| 38|2015-11-12T11:07:24|Christopher|2814|  Hernandez|\n| 38|2015-11-12T11:07:24|Christopher|3151|  Hernandez|\n| 25|2016-11-24T18:36:05|Christopher|3587|  Rodriguez|\n| 42|2017-02-18T00:31:22|Christopher|6353|  Hernandez|\n| 37|2016-04-26T03:54:30|  Elizabeth|6847|Fitzpatrick|\n+---+-------------------+-----------+----+-----------+\nonly showing top 10 rows\n\n</div>",
       "datasetInfos": [],
       "metadata": {},
       "removedWidgets": [],
       "type": "html"
      }
     },
     "output_type": "display_data"
    }
   ],
   "source": [
    "# Asterisk(*) indicates reading all the content of the specified file that have .json extension\n",
    "file_location = MOUNT_NAME + \"/topics/0a1153066525.user/partition=0/*.json\" \n",
    "# Read in JSONs from mounted S3 bucket\n",
    "df_user = spark.read.format(file_type) \\\n",
    ".option(\"inferSchema\", infer_schema) \\\n",
    ".load(file_location)\n",
    "# Display Spark dataframe to check its content\n",
    "df_user.show(10)\n"
   ]
  },
  {
   "cell_type": "markdown",
   "metadata": {
    "application/vnd.databricks.v1+cell": {
     "cellMetadata": {
      "byteLimit": 2048000,
      "rowLimit": 10000
     },
     "inputWidgets": {},
     "nuid": "5098446e-795f-4978-a71a-0cc314d75fca",
     "showTitle": false,
     "title": ""
    }
   },
   "source": [
    "Clean the data in each data frame as per specification. Note that these cells transform the data so it may be required to rerun the dataframe loading if you wish to rerun a cleanup transformation cell. \n",
    "Cleaning functions have been moved to a Github repository for version control and sharing with other data connections such as in the Kinesis assignment."
   ]
  },
  {
   "cell_type": "code",
   "execution_count": 0,
   "metadata": {
    "application/vnd.databricks.v1+cell": {
     "cellMetadata": {
      "byteLimit": 2048000,
      "rowLimit": 10000
     },
     "inputWidgets": {},
     "nuid": "e352c751-be6f-4476-b07d-89f02b284421",
     "showTitle": false,
     "title": ""
    }
   },
   "outputs": [
    {
     "output_type": "display_data",
     "data": {
      "text/html": [
       "<style scoped>\n",
       "  .ansiout {\n",
       "    display: block;\n",
       "    unicode-bidi: embed;\n",
       "    white-space: pre-wrap;\n",
       "    word-wrap: break-word;\n",
       "    word-break: break-all;\n",
       "    font-family: \"Menlo\", \"Monaco\", \"Consolas\", \"Ubuntu Mono\", \"Source Code Pro\", monospace;\n",
       "    font-size: 13px;\n",
       "    color: #555;\n",
       "    margin-left: 4px;\n",
       "    line-height: 19px;\n",
       "  }\n",
       "</style>\n",
       "<div class=\"ansiout\">root\n",
       "-- category: string (nullable = true)\n",
       "-- description: string (nullable = true)\n",
       "-- downloaded: long (nullable = true)\n",
       "-- follower_count: integer (nullable = true)\n",
       "-- image_src: string (nullable = true)\n",
       "-- index: long (nullable = true)\n",
       "-- is_image_or_video: string (nullable = true)\n",
       "-- poster_name: string (nullable = true)\n",
       "-- save_location: string (nullable = true)\n",
       "-- tag_list: string (nullable = true)\n",
       "-- title: string (nullable = true)\n",
       "-- unique_id: string (nullable = true)\n",
       "\n",
       "</div>"
      ]
     },
     "metadata": {
      "application/vnd.databricks.v1+output": {
       "addedWidgets": {},
       "arguments": {},
       "data": "<div class=\"ansiout\">root\n |-- category: string (nullable = true)\n |-- description: string (nullable = true)\n |-- downloaded: long (nullable = true)\n |-- follower_count: integer (nullable = true)\n |-- image_src: string (nullable = true)\n |-- index: long (nullable = true)\n |-- is_image_or_video: string (nullable = true)\n |-- poster_name: string (nullable = true)\n |-- save_location: string (nullable = true)\n |-- tag_list: string (nullable = true)\n |-- title: string (nullable = true)\n |-- unique_id: string (nullable = true)\n\n</div>",
       "datasetInfos": [],
       "metadata": {},
       "removedWidgets": [],
       "type": "html"
      }
     },
     "output_type": "display_data"
    },
    {
     "output_type": "display_data",
     "data": {
      "text/html": [
       "<style scoped>\n",
       "  .table-result-container {\n",
       "    max-height: 300px;\n",
       "    overflow: auto;\n",
       "  }\n",
       "  table, th, td {\n",
       "    border: 1px solid black;\n",
       "    border-collapse: collapse;\n",
       "  }\n",
       "  th, td {\n",
       "    padding: 5px;\n",
       "  }\n",
       "  th {\n",
       "    text-align: left;\n",
       "  }\n",
       "</style><div class='table-result-container'><table class='table-result'><thead style='background-color: white'><tr><th>ind</th><th>unique_id</th><th>title</th><th>description</th><th>follower_count</th><th>poster_name</th><th>tag_list</th><th>is_image_or_video</th><th>image_src</th><th>save_location</th><th>category</th></tr></thead><tbody><tr><td>7491</td><td>0bfd8ee2-8bc8-4d43-8a43-3f9e5f9678bf</td><td>ジョガーパンツでメンズコーデの足元を軽快にこなす！ | メンズファッションメディア OTOKOMAE</td><td>スポーツミックススタイルやアスレジャースタイルの台頭によって、すっかりおなじみとなった「ジョガーパンツ」。スニーカーと相性抜群なアイテムであり、フーディを合わせたカジュアルなスタイルからジャケットを羽織ったドレスライクなスタイルまで幅広くフィットする。今回はそんな「ジョガーパンツ」にフォーカスして注目の着こなし&アイテムを紹介！</td><td>122000</td><td>OTOKOMAE/男前研究所</td><td>Streetwear,Mens Casual Hats,Fashion Week Hommes,Herren Style,Moda Blog,Look Man,La Mode Masculine,Outfits With Converse,Black Converse</td><td>image</td><td>https://i.pinimg.com/originals/5d/31/e4/5d31e49fada653798f7c8f4c47f65d14.jpg</td><td>/data/mens-fashion</td><td>mens-fashion</td></tr><tr><td>11100</td><td>c5474c35-4711-416b-b627-764d51498916</td><td>𝒜𝑒𝓈𝓉𝒽𝑒𝓉𝒾𝒸 / 𝒻𝑜𝓇 𝒻𝒶𝓃𝒻𝒾𝒸𝓈</td><td>!Закрыто! Хотите эстетику или кое-какие элементы для фанфиков? Если это так, то вам, определённо, стоит заглянуть сюда. 𝐅𝐚𝐧𝐜𝐢 𝐅 𝐨𝐫 𝐱𝐱𝐬𝐚𝐣𝐧𝐱</td><td>422</td><td>Tia</td><td>Cool Sports Cars,Sport Cars,Cool Cars,Top Luxury Cars,Lamborghini Cars,Lamborghini Urus Interior,Lux Cars,Street Racing Cars,Pretty Cars</td><td>image</td><td>https://i.pinimg.com/originals/ed/45/25/ed452567d0affd9329d33cc6fb14b5d6.jpg</td><td>/data/vehicles</td><td>vehicles</td></tr><tr><td>8822</td><td>db80a4e4-293a-45cf-b60c-a67ba9053246</td><td>Elmira Kruger on Instagram: “Больше всего жалко девчонок, которые экономят и разукрашивают свои красивые тела ляпистыми не стильными рисунками☹️ Я в женском рукаве…”</td><td>Elmira Kruger shared a photo on Instagram: “Больше всего жалко девчонок, которые экономят и разукрашивают свои красивые тела ляпистыми не…” • See 1,214 photos and videos on thei… </td><td>848</td><td>Alicia Keller</td><td>Arm Sleeve Tattoos For Women,Chicano Tattoos Sleeve,Full Sleeve Tattoos,Body Art Tattoos,Girl Tattoos,Arabic Tattoos,Badass Sleeve Tattoos,Portrait Tattoo Sleeve,Tattoos Pics</td><td>image</td><td>https://i.pinimg.com/originals/9e/4e/a8/9e4ea85a446f779c6d0a1fdc785e9d4b.jpg</td><td>/data/tattoos</td><td>tattoos</td></tr><tr><td>5996</td><td>4081ef06-637d-4cfb-9195-5e06b56fbd8c</td><td>Где найти и как организовать дополнительные места для хранения? — INMYROOM</td><td>Вместе с Русланом Кирничанским рассказываем, как выжать максимум из маленькой площади и продумать системы хранения так, чтобы ими было удобно пользоваться. Свежие идеи дизайна и… </td><td>35000</td><td>INMYROOM.RU</td><td>Scandinavian Interior Design,Home Interior Design,Scandinavian Style,Swedish Decor,Swedish Style,Interior Door,Interior Modern,Minimalist Interior,Scandi Chic</td><td>image</td><td>https://i.pinimg.com/originals/0b/5c/0f/0b5c0fdd3ea40beff4a91ddcdaf98852.jpg</td><td>/data/home-decor</td><td>home-decor</td></tr><tr><td>4387</td><td>ae5e7377-f1bd-4ac5-94de-bee317f51a43</td><td>Βάπτιση: H παραμυθένια βάπτιση της Τιτίκας με θέμα το μονόκερο από την e.m. for you</td><td>Το όνομα που επέλεξε η μαμά Ανδριανή για τη γλυκιά Τιτίκα δεν είναι καθόλου τυχαίο. Και φυσικά δεν άφησε τίποτα στην τύχη ούτε την ημέρα της βάπτισης. Ανέθεσε την οργάνωση στην… </td><td>4</td><td>Manosbojana Katsareas</td><td>Diy Flowers,Flower Diy,Baptism Decorations,Christening,Event Planning,Wedding Planner,Baptism Ideas,Birthday,Party</td><td>image</td><td>https://i.pinimg.com/originals/db/aa/d2/dbaad28fa85012a4ea6958540d98a8e5.jpg</td><td>/data/event-planning</td><td>event-planning</td></tr><tr><td>5953</td><td>0c15cec8-5e8d-42e7-a2ad-9bd1267e0679</td><td>〚 Vintage summer cottage filled with love and charm in Sweden 〛◾ Photos ◾ Ideas ◾ Design</td><td>Так повелось в последнее время, что по субботам мы делимся фотографиями какой-нибудь милой скандинавской дачи (надеюсь никто не против такой нашей ✌PUFIK. Beautiful Interiors. O… </td><td>136000</td><td>PUFIK Interiors & Inspirations</td><td>Cottage Living Rooms,Cottage Interiors,Home Living Room,Cottage Style Living Room,Cottage House,Cozy Living,Cottage Style Decor,Country Decor,Country Cottage Decorating</td><td>image</td><td>https://i.pinimg.com/originals/25/82/6b/25826bbe3789faa1c1c70d78ad93a33c.jpg</td><td>/data/home-decor</td><td>home-decor</td></tr><tr><td>3020</td><td>186a847a-6778-48c0-888c-4578550ce7c7</td><td>Cardboard DIY Doll Crib</td><td>Make this adorable (and easy) DIY doll crib from an old cardboard box, your little one will love to rock their dolls to sleep in this fun upcycled project!</td><td>66000</td><td>Cassie May - Little Red Window Crafts, DIY, crafts, tutorials and knitting patterns! Cassie May - Little Red Window Crafts, DIY, crafts, tutorials and knitting patterns! Edit settings Cassie May - Little Red Window Crafts, DIY, crafts, tutorials and knitting patterns!</td><td>Easy Sewing Projects,Sewing Projects For Beginners,Sewing Hacks,Diy Dolls Crib,Doll Beds,Diy Baby Headbands,Diy Cardboard,Minky Fabric,Sewing Basics</td><td>image</td><td>https://i.pinimg.com/originals/62/ee/0d/62ee0d79f92248b2d5819b8bfdd94551.jpg</td><td>/data/diy-and-crafts</td><td>diy-and-crafts</td></tr><tr><td>8586</td><td>c338b1c8-7c6a-4a1a-8fba-cdb5a423c0ca</td><td>Pretty ♥ discovered by 🦢🥀𝓘𝓼𝓸 𝑹𝒐𝒔𝒊𝒆🌸🦋 on We Heart It</td><td>Image uploaded by 🦢🥀𝓘𝓼𝓸 𝑹𝒐𝒔𝒊𝒆🌸🦋. Find images and videos about flowers, tattoo and colors on We Heart It - the app to get lost in what you love.</td><td>15000000</td><td>We Heart It</td><td>Mens Body Tattoos,Body Art Tattoos,Tatoos,Collar Bone Tattoos,Pretty Tattoos,Beautiful Tattoos,Awesome Tattoos,Mini Tattoos,Small Tattoos</td><td>image</td><td>https://i.pinimg.com/originals/47/a0/34/47a034a356959e22d8ad367a5e6d62d1.jpg</td><td>/data/tattoos</td><td>tattoos</td></tr><tr><td>6717</td><td>bc5ab9ee-505e-44f6-92ba-677fe4fdf3e3</td><td>〚 Уютные шведские коттеджи от Carina Olander 〛 ◾ Фото ◾ Идеи ◾ Дизайн</td><td>Традиционные шведские коттеджи, обычно с красным фасадом — это настоящее воплощением идеального зимнего уюта. Они обычно оформлены очень просто и ✌PUFIK. Beautiful Interiors. On… </td><td>136000</td><td>PUFIK Interiors & Inspirations</td><td>Scandinavian Cottage,Swedish Cottage,Swedish Home Decor,Swedish Farmhouse,Swedish Style,Swedish Kitchen,Kitchen Black,Swedish House,Cozy Cottage</td><td>image</td><td>https://i.pinimg.com/originals/32/eb/72/32eb72e4fd8654c115a64528bd1f34b4.png</td><td>/data/home-decor</td><td>home-decor</td></tr><tr><td>4608</td><td>d234e56f-5b18-4ef3-905b-44103f7719d9</td><td>Virtual Baby Shower Little Man Baby Shower Banner, Mustache Baby Shower Backdrop, Oh Boy, Any Color,  Printed Or Printable File BBS0035 - 10x8 ft / Top Pole Pocket</td><td>Wow your guests! Our backdrops are a great option for providing a personalized, stylish and fun addition to your party .It will be the focal point in any event! They are great a… </td><td>1000</td><td>Iconica Design | Personalized Event Decor, Stationery & Gifts</td><td>Christmas Party Backdrop,Holiday Banner,Birthday Backdrop,Circus First Birthday,First Birthday Banners,Dinasour Birthday,Birthday Bash,Banner Backdrop,Photo Booth Backdrop</td><td>image</td><td>https://i.pinimg.com/originals/15/1f/93/151f93d662dc158ca2c9bbfed198f556.jpg</td><td>/data/event-planning</td><td>event-planning</td></tr></tbody></table></div>"
      ]
     },
     "metadata": {
      "application/vnd.databricks.v1+output": {
       "addedWidgets": {},
       "aggData": [],
       "aggError": "",
       "aggOverflow": false,
       "aggSchema": [],
       "aggSeriesLimitReached": false,
       "aggType": "",
       "arguments": {},
       "columnCustomDisplayInfos": {},
       "data": [
        [
         7491,
         "0bfd8ee2-8bc8-4d43-8a43-3f9e5f9678bf",
         "ジョガーパンツでメンズコーデの足元を軽快にこなす！ | メンズファッションメディア OTOKOMAE",
         "スポーツミックススタイルやアスレジャースタイルの台頭によって、すっかりおなじみとなった「ジョガーパンツ」。スニーカーと相性抜群なアイテムであり、フーディを合わせたカジュアルなスタイルからジャケットを羽織ったドレスライクなスタイルまで幅広くフィットする。今回はそんな「ジョガーパンツ」にフォーカスして注目の着こなし&アイテムを紹介！",
         122000,
         "OTOKOMAE/男前研究所",
         "Streetwear,Mens Casual Hats,Fashion Week Hommes,Herren Style,Moda Blog,Look Man,La Mode Masculine,Outfits With Converse,Black Converse",
         "image",
         "https://i.pinimg.com/originals/5d/31/e4/5d31e49fada653798f7c8f4c47f65d14.jpg",
         "/data/mens-fashion",
         "mens-fashion"
        ],
        [
         11100,
         "c5474c35-4711-416b-b627-764d51498916",
         "𝒜𝑒𝓈𝓉𝒽𝑒𝓉𝒾𝒸 / 𝒻𝑜𝓇 𝒻𝒶𝓃𝒻𝒾𝒸𝓈",
         "!Закрыто! Хотите эстетику или кое-какие элементы для фанфиков? Если это так, то вам, определённо, стоит заглянуть сюда. 𝐅𝐚𝐧𝐜𝐢 𝐅 𝐨𝐫 𝐱𝐱𝐬𝐚𝐣𝐧𝐱",
         422,
         "Tia",
         "Cool Sports Cars,Sport Cars,Cool Cars,Top Luxury Cars,Lamborghini Cars,Lamborghini Urus Interior,Lux Cars,Street Racing Cars,Pretty Cars",
         "image",
         "https://i.pinimg.com/originals/ed/45/25/ed452567d0affd9329d33cc6fb14b5d6.jpg",
         "/data/vehicles",
         "vehicles"
        ],
        [
         8822,
         "db80a4e4-293a-45cf-b60c-a67ba9053246",
         "Elmira Kruger on Instagram: “Больше всего жалко девчонок, которые экономят и разукрашивают свои красивые тела ляпистыми не стильными рисунками☹️ Я в женском рукаве…”",
         "Elmira Kruger shared a photo on Instagram: “Больше всего жалко девчонок, которые экономят и разукрашивают свои красивые тела ляпистыми не…” • See 1,214 photos and videos on thei… ",
         848,
         "Alicia Keller",
         "Arm Sleeve Tattoos For Women,Chicano Tattoos Sleeve,Full Sleeve Tattoos,Body Art Tattoos,Girl Tattoos,Arabic Tattoos,Badass Sleeve Tattoos,Portrait Tattoo Sleeve,Tattoos Pics",
         "image",
         "https://i.pinimg.com/originals/9e/4e/a8/9e4ea85a446f779c6d0a1fdc785e9d4b.jpg",
         "/data/tattoos",
         "tattoos"
        ],
        [
         5996,
         "4081ef06-637d-4cfb-9195-5e06b56fbd8c",
         "Где найти и как организовать дополнительные места для хранения? — INMYROOM",
         "Вместе с Русланом Кирничанским рассказываем, как выжать максимум из маленькой площади и продумать системы хранения так, чтобы ими было удобно пользоваться. Свежие идеи дизайна и… ",
         35000,
         "INMYROOM.RU",
         "Scandinavian Interior Design,Home Interior Design,Scandinavian Style,Swedish Decor,Swedish Style,Interior Door,Interior Modern,Minimalist Interior,Scandi Chic",
         "image",
         "https://i.pinimg.com/originals/0b/5c/0f/0b5c0fdd3ea40beff4a91ddcdaf98852.jpg",
         "/data/home-decor",
         "home-decor"
        ],
        [
         4387,
         "ae5e7377-f1bd-4ac5-94de-bee317f51a43",
         "Βάπτιση: H παραμυθένια βάπτιση της Τιτίκας με θέμα το μονόκερο από την e.m. for you",
         "Το όνομα που επέλεξε η μαμά Ανδριανή για τη γλυκιά Τιτίκα δεν είναι καθόλου τυχαίο. Και φυσικά δεν άφησε τίποτα στην τύχη ούτε την ημέρα της βάπτισης. Ανέθεσε την οργάνωση στην… ",
         4,
         "Manosbojana Katsareas",
         "Diy Flowers,Flower Diy,Baptism Decorations,Christening,Event Planning,Wedding Planner,Baptism Ideas,Birthday,Party",
         "image",
         "https://i.pinimg.com/originals/db/aa/d2/dbaad28fa85012a4ea6958540d98a8e5.jpg",
         "/data/event-planning",
         "event-planning"
        ],
        [
         5953,
         "0c15cec8-5e8d-42e7-a2ad-9bd1267e0679",
         "〚 Vintage summer cottage filled with love and charm in Sweden 〛◾ Photos ◾ Ideas ◾ Design",
         "Так повелось в последнее время, что по субботам мы делимся фотографиями какой-нибудь милой скандинавской дачи (надеюсь никто не против такой нашей ✌PUFIK. Beautiful Interiors. O… ",
         136000,
         "PUFIK Interiors & Inspirations",
         "Cottage Living Rooms,Cottage Interiors,Home Living Room,Cottage Style Living Room,Cottage House,Cozy Living,Cottage Style Decor,Country Decor,Country Cottage Decorating",
         "image",
         "https://i.pinimg.com/originals/25/82/6b/25826bbe3789faa1c1c70d78ad93a33c.jpg",
         "/data/home-decor",
         "home-decor"
        ],
        [
         3020,
         "186a847a-6778-48c0-888c-4578550ce7c7",
         "Cardboard DIY Doll Crib",
         "Make this adorable (and easy) DIY doll crib from an old cardboard box, your little one will love to rock their dolls to sleep in this fun upcycled project!",
         66000,
         "Cassie May - Little Red Window Crafts, DIY, crafts, tutorials and knitting patterns! Cassie May - Little Red Window Crafts, DIY, crafts, tutorials and knitting patterns! Edit settings Cassie May - Little Red Window Crafts, DIY, crafts, tutorials and knitting patterns!",
         "Easy Sewing Projects,Sewing Projects For Beginners,Sewing Hacks,Diy Dolls Crib,Doll Beds,Diy Baby Headbands,Diy Cardboard,Minky Fabric,Sewing Basics",
         "image",
         "https://i.pinimg.com/originals/62/ee/0d/62ee0d79f92248b2d5819b8bfdd94551.jpg",
         "/data/diy-and-crafts",
         "diy-and-crafts"
        ],
        [
         8586,
         "c338b1c8-7c6a-4a1a-8fba-cdb5a423c0ca",
         "Pretty ♥ discovered by 🦢🥀𝓘𝓼𝓸 𝑹𝒐𝒔𝒊𝒆🌸🦋 on We Heart It",
         "Image uploaded by 🦢🥀𝓘𝓼𝓸 𝑹𝒐𝒔𝒊𝒆🌸🦋. Find images and videos about flowers, tattoo and colors on We Heart It - the app to get lost in what you love.",
         15000000,
         "We Heart It",
         "Mens Body Tattoos,Body Art Tattoos,Tatoos,Collar Bone Tattoos,Pretty Tattoos,Beautiful Tattoos,Awesome Tattoos,Mini Tattoos,Small Tattoos",
         "image",
         "https://i.pinimg.com/originals/47/a0/34/47a034a356959e22d8ad367a5e6d62d1.jpg",
         "/data/tattoos",
         "tattoos"
        ],
        [
         6717,
         "bc5ab9ee-505e-44f6-92ba-677fe4fdf3e3",
         "〚 Уютные шведские коттеджи от Carina Olander 〛 ◾ Фото ◾ Идеи ◾ Дизайн",
         "Традиционные шведские коттеджи, обычно с красным фасадом — это настоящее воплощением идеального зимнего уюта. Они обычно оформлены очень просто и ✌PUFIK. Beautiful Interiors. On… ",
         136000,
         "PUFIK Interiors & Inspirations",
         "Scandinavian Cottage,Swedish Cottage,Swedish Home Decor,Swedish Farmhouse,Swedish Style,Swedish Kitchen,Kitchen Black,Swedish House,Cozy Cottage",
         "image",
         "https://i.pinimg.com/originals/32/eb/72/32eb72e4fd8654c115a64528bd1f34b4.png",
         "/data/home-decor",
         "home-decor"
        ],
        [
         4608,
         "d234e56f-5b18-4ef3-905b-44103f7719d9",
         "Virtual Baby Shower Little Man Baby Shower Banner, Mustache Baby Shower Backdrop, Oh Boy, Any Color,  Printed Or Printable File BBS0035 - 10x8 ft / Top Pole Pocket",
         "Wow your guests! Our backdrops are a great option for providing a personalized, stylish and fun addition to your party .It will be the focal point in any event! They are great a… ",
         1000,
         "Iconica Design | Personalized Event Decor, Stationery & Gifts",
         "Christmas Party Backdrop,Holiday Banner,Birthday Backdrop,Circus First Birthday,First Birthday Banners,Dinasour Birthday,Birthday Bash,Banner Backdrop,Photo Booth Backdrop",
         "image",
         "https://i.pinimg.com/originals/15/1f/93/151f93d662dc158ca2c9bbfed198f556.jpg",
         "/data/event-planning",
         "event-planning"
        ]
       ],
       "datasetInfos": [],
       "dbfsResultPath": null,
       "isJsonSchema": true,
       "metadata": {},
       "overflow": false,
       "plotOptions": {
        "customPlotOptions": {},
        "displayType": "table",
        "pivotAggregation": null,
        "pivotColumns": null,
        "xColumns": null,
        "yColumns": null
       },
       "removedWidgets": [],
       "schema": [
        {
         "metadata": "{}",
         "name": "ind",
         "type": "\"long\""
        },
        {
         "metadata": "{}",
         "name": "unique_id",
         "type": "\"string\""
        },
        {
         "metadata": "{}",
         "name": "title",
         "type": "\"string\""
        },
        {
         "metadata": "{}",
         "name": "description",
         "type": "\"string\""
        },
        {
         "metadata": "{}",
         "name": "follower_count",
         "type": "\"long\""
        },
        {
         "metadata": "{}",
         "name": "poster_name",
         "type": "\"string\""
        },
        {
         "metadata": "{}",
         "name": "tag_list",
         "type": "\"string\""
        },
        {
         "metadata": "{}",
         "name": "is_image_or_video",
         "type": "\"string\""
        },
        {
         "metadata": "{}",
         "name": "image_src",
         "type": "\"string\""
        },
        {
         "metadata": "{}",
         "name": "save_location",
         "type": "\"string\""
        },
        {
         "metadata": "{}",
         "name": "category",
         "type": "\"string\""
        }
       ],
       "type": "table"
      }
     },
     "output_type": "display_data"
    }
   ],
   "source": [
    "import PinterestTransformations\n",
    "\n",
    "# clean the df_pin DataFrame\n",
    "df_pin = PinterestTransformations.clean_pin(df_pin)\n",
    "display(df_pin.head(10))\n"
   ]
  },
  {
   "cell_type": "code",
   "execution_count": 0,
   "metadata": {
    "application/vnd.databricks.v1+cell": {
     "cellMetadata": {
      "byteLimit": 2048000,
      "rowLimit": 10000
     },
     "inputWidgets": {},
     "nuid": "27da5f39-a287-4150-b0b1-76c8115195d4",
     "showTitle": false,
     "title": ""
    }
   },
   "outputs": [
    {
     "output_type": "display_data",
     "data": {
      "text/html": [
       "<style scoped>\n",
       "  .ansiout {\n",
       "    display: block;\n",
       "    unicode-bidi: embed;\n",
       "    white-space: pre-wrap;\n",
       "    word-wrap: break-word;\n",
       "    word-break: break-all;\n",
       "    font-family: \"Menlo\", \"Monaco\", \"Consolas\", \"Ubuntu Mono\", \"Source Code Pro\", monospace;\n",
       "    font-size: 13px;\n",
       "    color: #555;\n",
       "    margin-left: 4px;\n",
       "    line-height: 19px;\n",
       "  }\n",
       "</style>\n",
       "<div class=\"ansiout\">root\n",
       "-- country: string (nullable = true)\n",
       "-- ind: long (nullable = true)\n",
       "-- timestamp: timestamp (nullable = true)\n",
       "-- coordinates: array (nullable = false)\n",
       "    |-- element: double (containsNull = true)\n",
       "\n",
       "+----+--------------------+--------------------+-------------------+\n",
       " ind|             country|         coordinates|          timestamp|\n",
       "+----+--------------------+--------------------+-------------------+\n",
       "1210|British Indian Oc...| [42.7329, -55.8251]|2021-07-26 03:32:26|\n",
       "1624|British Indian Oc...|  [9.50751, 119.757]|2020-10-24 11:13:47|\n",
       "1897|British Indian Oc...|  [-87.013, 133.062]|2021-07-03 12:24:08|\n",
       "1307|Antarctica (the t...|[-77.9931, -175.682]|2020-08-25 19:54:16|\n",
       "1335|Antarctica (the t...|[-77.9931, -175.682]|2022-03-19 17:29:42|\n",
       "1434|Antarctica (the t...|[-39.6186, -128.291]|2020-03-06 21:00:23|\n",
       "1460|Antarctica (the t...|[-39.6186, -128.291]|2020-08-22 00:56:17|\n",
       "1685|Antarctica (the t...|[-88.4642, -171.061]|2020-02-09 02:17:40|\n",
       "1729|Antarctica (the t...|[-88.4642, -171.061]|2021-05-04 14:59:44|\n",
       "1746|Antarctica (the t...|[-88.4642, -171.061]|2021-08-11 16:22:04|\n",
       "+----+--------------------+--------------------+-------------------+\n",
       "only showing top 10 rows\n",
       "\n",
       "</div>"
      ]
     },
     "metadata": {
      "application/vnd.databricks.v1+output": {
       "addedWidgets": {},
       "arguments": {},
       "data": "<div class=\"ansiout\">root\n |-- country: string (nullable = true)\n |-- ind: long (nullable = true)\n |-- timestamp: timestamp (nullable = true)\n |-- coordinates: array (nullable = false)\n |    |-- element: double (containsNull = true)\n\n+----+--------------------+--------------------+-------------------+\n| ind|             country|         coordinates|          timestamp|\n+----+--------------------+--------------------+-------------------+\n|1210|British Indian Oc...| [42.7329, -55.8251]|2021-07-26 03:32:26|\n|1624|British Indian Oc...|  [9.50751, 119.757]|2020-10-24 11:13:47|\n|1897|British Indian Oc...|  [-87.013, 133.062]|2021-07-03 12:24:08|\n|1307|Antarctica (the t...|[-77.9931, -175.682]|2020-08-25 19:54:16|\n|1335|Antarctica (the t...|[-77.9931, -175.682]|2022-03-19 17:29:42|\n|1434|Antarctica (the t...|[-39.6186, -128.291]|2020-03-06 21:00:23|\n|1460|Antarctica (the t...|[-39.6186, -128.291]|2020-08-22 00:56:17|\n|1685|Antarctica (the t...|[-88.4642, -171.061]|2020-02-09 02:17:40|\n|1729|Antarctica (the t...|[-88.4642, -171.061]|2021-05-04 14:59:44|\n|1746|Antarctica (the t...|[-88.4642, -171.061]|2021-08-11 16:22:04|\n+----+--------------------+--------------------+-------------------+\nonly showing top 10 rows\n\n</div>",
       "datasetInfos": [],
       "metadata": {},
       "removedWidgets": [],
       "type": "html"
      }
     },
     "output_type": "display_data"
    }
   ],
   "source": [
    "# clean the df_geo DataFrame\n",
    "df_geo = PinterestTransformations.clean_geo(df_geo)\n",
    "df_geo.show(10)\n"
   ]
  },
  {
   "cell_type": "code",
   "execution_count": 0,
   "metadata": {
    "application/vnd.databricks.v1+cell": {
     "cellMetadata": {
      "byteLimit": 2048000,
      "rowLimit": 10000
     },
     "inputWidgets": {},
     "nuid": "35ed2106-8046-4e79-86b6-c9bdde9cbbcd",
     "showTitle": false,
     "title": ""
    }
   },
   "outputs": [
    {
     "output_type": "display_data",
     "data": {
      "text/html": [
       "<style scoped>\n",
       "  .ansiout {\n",
       "    display: block;\n",
       "    unicode-bidi: embed;\n",
       "    white-space: pre-wrap;\n",
       "    word-wrap: break-word;\n",
       "    word-break: break-all;\n",
       "    font-family: \"Menlo\", \"Monaco\", \"Consolas\", \"Ubuntu Mono\", \"Source Code Pro\", monospace;\n",
       "    font-size: 13px;\n",
       "    color: #555;\n",
       "    margin-left: 4px;\n",
       "    line-height: 19px;\n",
       "  }\n",
       "</style>\n",
       "<div class=\"ansiout\">root\n",
       "-- age: long (nullable = true)\n",
       "-- date_joined: timestamp (nullable = true)\n",
       "-- ind: long (nullable = true)\n",
       "-- user_name: string (nullable = true)\n",
       "\n",
       "+----+--------------------+---+-------------------+\n",
       " ind|           user_name|age|        date_joined|\n",
       "+----+--------------------+---+-------------------+\n",
       "3860|ChristopherRichar...| 33|2016-08-12 07:57:25|\n",
       "6427|ChristopherMontgo...| 28|2015-11-24 22:47:19|\n",
       "6486|ChristopherMontgo...| 28|2015-11-24 22:47:19|\n",
       "1409|ChristopherGutierrez| 58|2017-10-04 22:00:53|\n",
       "2778|ChristopherHernandez| 38|2015-11-12 11:07:24|\n",
       "2814|ChristopherHernandez| 38|2015-11-12 11:07:24|\n",
       "3151|ChristopherHernandez| 38|2015-11-12 11:07:24|\n",
       "3587|ChristopherRodriguez| 25|2016-11-24 18:36:05|\n",
       "6353|ChristopherHernandez| 42|2017-02-18 00:31:22|\n",
       "6847|ElizabethFitzpatrick| 37|2016-04-26 03:54:30|\n",
       "+----+--------------------+---+-------------------+\n",
       "only showing top 10 rows\n",
       "\n",
       "</div>"
      ]
     },
     "metadata": {
      "application/vnd.databricks.v1+output": {
       "addedWidgets": {},
       "arguments": {},
       "data": "<div class=\"ansiout\">root\n |-- age: long (nullable = true)\n |-- date_joined: timestamp (nullable = true)\n |-- ind: long (nullable = true)\n |-- user_name: string (nullable = true)\n\n+----+--------------------+---+-------------------+\n| ind|           user_name|age|        date_joined|\n+----+--------------------+---+-------------------+\n|3860|ChristopherRichar...| 33|2016-08-12 07:57:25|\n|6427|ChristopherMontgo...| 28|2015-11-24 22:47:19|\n|6486|ChristopherMontgo...| 28|2015-11-24 22:47:19|\n|1409|ChristopherGutierrez| 58|2017-10-04 22:00:53|\n|2778|ChristopherHernandez| 38|2015-11-12 11:07:24|\n|2814|ChristopherHernandez| 38|2015-11-12 11:07:24|\n|3151|ChristopherHernandez| 38|2015-11-12 11:07:24|\n|3587|ChristopherRodriguez| 25|2016-11-24 18:36:05|\n|6353|ChristopherHernandez| 42|2017-02-18 00:31:22|\n|6847|ElizabethFitzpatrick| 37|2016-04-26 03:54:30|\n+----+--------------------+---+-------------------+\nonly showing top 10 rows\n\n</div>",
       "datasetInfos": [],
       "metadata": {},
       "removedWidgets": [],
       "type": "html"
      }
     },
     "output_type": "display_data"
    }
   ],
   "source": [
    "# clean the df_user DataFrame\n",
    "df_user = PinterestTransformations.clean_user(df_user)\n",
    "df_user.show(10)\n"
   ]
  },
  {
   "cell_type": "markdown",
   "metadata": {
    "application/vnd.databricks.v1+cell": {
     "cellMetadata": {
      "byteLimit": 2048000,
      "rowLimit": 10000
     },
     "inputWidgets": {},
     "nuid": "36f9d725-9b7d-4030-ad1f-b5bae36609ac",
     "showTitle": false,
     "title": ""
    }
   },
   "source": [
    "Below are report requests. The begining of each code block will have the reporting requirements stated."
   ]
  },
  {
   "cell_type": "code",
   "execution_count": 0,
   "metadata": {
    "application/vnd.databricks.v1+cell": {
     "cellMetadata": {
      "byteLimit": 2048000,
      "rowLimit": 10000
     },
     "inputWidgets": {},
     "nuid": "6de091c1-60d8-43ee-9921-b3ebccd4c8bc",
     "showTitle": false,
     "title": ""
    }
   },
   "outputs": [
    {
     "output_type": "display_data",
     "data": {
      "text/html": [
       "<style scoped>\n",
       "  .table-result-container {\n",
       "    max-height: 300px;\n",
       "    overflow: auto;\n",
       "  }\n",
       "  table, th, td {\n",
       "    border: 1px solid black;\n",
       "    border-collapse: collapse;\n",
       "  }\n",
       "  th, td {\n",
       "    padding: 5px;\n",
       "  }\n",
       "  th {\n",
       "    text-align: left;\n",
       "  }\n",
       "</style><div class='table-result-container'><table class='table-result'><thead style='background-color: white'><tr><th>country</th><th>category</th><th>category_count</th></tr></thead><tbody><tr><td>Afghanistan</td><td>beauty</td><td>11</td></tr><tr><td>Albania</td><td>art</td><td>193</td></tr><tr><td>Algeria</td><td>beauty</td><td>13</td></tr><tr><td>American Samoa</td><td>beauty</td><td>49</td></tr><tr><td>Andorra</td><td>art</td><td>11</td></tr><tr><td>Angola</td><td>beauty</td><td>10</td></tr><tr><td>Anguilla</td><td>beauty</td><td>19</td></tr><tr><td>Antarctica (the territory South of 60 deg S)</td><td>christmas</td><td>25</td></tr><tr><td>Antigua and Barbuda</td><td>art</td><td>20</td></tr><tr><td>Argentina</td><td>art</td><td>14</td></tr><tr><td>Armenia</td><td>art</td><td>22</td></tr><tr><td>Aruba</td><td>art</td><td>53</td></tr><tr><td>Australia</td><td>christmas</td><td>13</td></tr><tr><td>Austria</td><td>beauty</td><td>8</td></tr><tr><td>Azerbaijan</td><td>beauty</td><td>11</td></tr><tr><td>Bahamas</td><td>art</td><td>21</td></tr><tr><td>Bahrain</td><td>christmas</td><td>8</td></tr><tr><td>Bangladesh</td><td>christmas</td><td>25</td></tr><tr><td>Barbados</td><td>art</td><td>24</td></tr><tr><td>Belarus</td><td>christmas</td><td>10</td></tr><tr><td>Belgium</td><td>christmas</td><td>10</td></tr><tr><td>Belize</td><td>art</td><td>4</td></tr><tr><td>Benin</td><td>art</td><td>5</td></tr><tr><td>Bermuda</td><td>christmas</td><td>4</td></tr><tr><td>Bhutan</td><td>beauty</td><td>7</td></tr><tr><td>Bolivia</td><td>art</td><td>7</td></tr><tr><td>Bosnia and Herzegovina</td><td>art</td><td>4</td></tr><tr><td>Botswana</td><td>christmas</td><td>5</td></tr><tr><td>Botswana</td><td>art</td><td>5</td></tr><tr><td>Bouvet Island (Bouvetoya)</td><td>christmas</td><td>6</td></tr><tr><td>Bouvet Island (Bouvetoya)</td><td>beauty</td><td>6</td></tr><tr><td>Brazil</td><td>beauty</td><td>3</td></tr><tr><td>British Indian Ocean Territory (Chagos Archipelago)</td><td>beauty</td><td>2</td></tr><tr><td>British Virgin Islands</td><td>christmas</td><td>14</td></tr><tr><td>Brunei Darussalam</td><td>beauty</td><td>1</td></tr><tr><td>Bulgaria</td><td>christmas</td><td>10</td></tr><tr><td>Burkina Faso</td><td>beauty</td><td>6</td></tr><tr><td>Burundi</td><td>beauty</td><td>13</td></tr><tr><td>Cambodia</td><td>beauty</td><td>8</td></tr><tr><td>Cameroon</td><td>art</td><td>13</td></tr><tr><td>Canada</td><td>christmas</td><td>8</td></tr><tr><td>Cape Verde</td><td>beauty</td><td>5</td></tr><tr><td>Cayman Islands</td><td>christmas</td><td>5</td></tr><tr><td>Cayman Islands</td><td>beauty</td><td>5</td></tr><tr><td>Central African Republic</td><td>art</td><td>5</td></tr><tr><td>Central African Republic</td><td>christmas</td><td>5</td></tr><tr><td>Chad</td><td>art</td><td>4</td></tr><tr><td>Chad</td><td>christmas</td><td>4</td></tr><tr><td>Chad</td><td>beauty</td><td>4</td></tr><tr><td>Chile</td><td>beauty</td><td>10</td></tr><tr><td>China</td><td>art</td><td>4</td></tr><tr><td>Christmas Island</td><td>beauty</td><td>6</td></tr><tr><td>Cocos (Keeling) Islands</td><td>beauty</td><td>5</td></tr><tr><td>Colombia</td><td>christmas</td><td>8</td></tr><tr><td>Comoros</td><td>beauty</td><td>3</td></tr><tr><td>Congo</td><td>art</td><td>10</td></tr><tr><td>Cook Islands</td><td>christmas</td><td>6</td></tr><tr><td>Costa Rica</td><td>christmas</td><td>8</td></tr><tr><td>Cote d'Ivoire</td><td>beauty</td><td>10</td></tr><tr><td>Croatia</td><td>beauty</td><td>7</td></tr><tr><td>Cuba</td><td>beauty</td><td>6</td></tr><tr><td>Cyprus</td><td>beauty</td><td>1</td></tr><tr><td>Cyprus</td><td>art</td><td>1</td></tr><tr><td>Cyprus</td><td>christmas</td><td>1</td></tr><tr><td>Czech Republic</td><td>beauty</td><td>2</td></tr><tr><td>Denmark</td><td>beauty</td><td>5</td></tr><tr><td>Djibouti</td><td>christmas</td><td>5</td></tr><tr><td>Dominica</td><td>art</td><td>2</td></tr><tr><td>Dominican Republic</td><td>beauty</td><td>3</td></tr><tr><td>Ecuador</td><td>beauty</td><td>6</td></tr><tr><td>Egypt</td><td>beauty</td><td>3</td></tr><tr><td>El Salvador</td><td>beauty</td><td>4</td></tr><tr><td>Equatorial Guinea</td><td>beauty</td><td>5</td></tr><tr><td>Eritrea</td><td>beauty</td><td>5</td></tr><tr><td>Estonia</td><td>christmas</td><td>10</td></tr><tr><td>Ethiopia</td><td>art</td><td>10</td></tr><tr><td>Falkland Islands (Malvinas)</td><td>christmas</td><td>6</td></tr><tr><td>Faroe Islands</td><td>christmas</td><td>2</td></tr><tr><td>Faroe Islands</td><td>beauty</td><td>2</td></tr><tr><td>Fiji</td><td>art</td><td>4</td></tr><tr><td>Finland</td><td>christmas</td><td>4</td></tr><tr><td>Finland</td><td>beauty</td><td>4</td></tr><tr><td>Finland</td><td>art</td><td>4</td></tr><tr><td>France</td><td>beauty</td><td>7</td></tr><tr><td>French Guiana</td><td>art</td><td>3</td></tr><tr><td>French Polynesia</td><td>beauty</td><td>3</td></tr><tr><td>French Southern Territories</td><td>beauty</td><td>3</td></tr><tr><td>French Southern Territories</td><td>christmas</td><td>3</td></tr><tr><td>Gabon</td><td>beauty</td><td>6</td></tr><tr><td>Gambia</td><td>art</td><td>3</td></tr><tr><td>Georgia</td><td>beauty</td><td>3</td></tr><tr><td>Germany</td><td>christmas</td><td>1</td></tr><tr><td>Germany</td><td>art</td><td>1</td></tr><tr><td>Ghana</td><td>beauty</td><td>4</td></tr><tr><td>Gibraltar</td><td>art</td><td>5</td></tr><tr><td>Greece</td><td>christmas</td><td>4</td></tr><tr><td>Greenland</td><td>beauty</td><td>5</td></tr><tr><td>Grenada</td><td>beauty</td><td>3</td></tr><tr><td>Guadeloupe</td><td>beauty</td><td>3</td></tr><tr><td>Guadeloupe</td><td>christmas</td><td>3</td></tr><tr><td>Guam</td><td>beauty</td><td>5</td></tr><tr><td>Guatemala</td><td>art</td><td>6</td></tr><tr><td>Guernsey</td><td>beauty</td><td>3</td></tr><tr><td>Guinea</td><td>art</td><td>1</td></tr><tr><td>Guinea</td><td>christmas</td><td>1</td></tr><tr><td>Guinea</td><td>beauty</td><td>1</td></tr><tr><td>Guinea-Bissau</td><td>art</td><td>1</td></tr><tr><td>Guinea-Bissau</td><td>beauty</td><td>1</td></tr><tr><td>Guyana</td><td>art</td><td>4</td></tr><tr><td>Haiti</td><td>christmas</td><td>6</td></tr><tr><td>Heard Island and McDonald Islands</td><td>christmas</td><td>1</td></tr><tr><td>Heard Island and McDonald Islands</td><td>beauty</td><td>1</td></tr><tr><td>Heard Island and McDonald Islands</td><td>art</td><td>1</td></tr><tr><td>Honduras</td><td>beauty</td><td>3</td></tr><tr><td>Hong Kong</td><td>art</td><td>3</td></tr><tr><td>Hungary</td><td>christmas</td><td>2</td></tr><tr><td>Hungary</td><td>art</td><td>2</td></tr><tr><td>Iceland</td><td>beauty</td><td>4</td></tr><tr><td>India</td><td>art</td><td>8</td></tr><tr><td>Indonesia</td><td>christmas</td><td>3</td></tr><tr><td>Iran</td><td>christmas</td><td>5</td></tr><tr><td>Iraq</td><td>christmas</td><td>7</td></tr><tr><td>Ireland</td><td>christmas</td><td>2</td></tr><tr><td>Isle of Man</td><td>art</td><td>6</td></tr><tr><td>Israel</td><td>art</td><td>3</td></tr><tr><td>Italy</td><td>beauty</td><td>6</td></tr><tr><td>Jamaica</td><td>beauty</td><td>3</td></tr><tr><td>Japan</td><td>art</td><td>6</td></tr><tr><td>Jersey</td><td>art</td><td>2</td></tr><tr><td>Jordan</td><td>beauty</td><td>3</td></tr><tr><td>Kazakhstan</td><td>christmas</td><td>5</td></tr><tr><td>Kenya</td><td>christmas</td><td>4</td></tr><tr><td>Kiribati</td><td>christmas</td><td>3</td></tr><tr><td>Kiribati</td><td>beauty</td><td>3</td></tr><tr><td>Korea</td><td>art</td><td>9</td></tr><tr><td>Kuwait</td><td>beauty</td><td>4</td></tr><tr><td>Kyrgyz Republic</td><td>christmas</td><td>7</td></tr><tr><td>Lao People's Democratic Republic</td><td>beauty</td><td>6</td></tr><tr><td>Latvia</td><td>art</td><td>3</td></tr><tr><td>Lebanon</td><td>christmas</td><td>2</td></tr><tr><td>Lesotho</td><td>art</td><td>6</td></tr><tr><td>Liberia</td><td>beauty</td><td>2</td></tr><tr><td>Libyan Arab Jamahiriya</td><td>christmas</td><td>3</td></tr><tr><td>Libyan Arab Jamahiriya</td><td>beauty</td><td>3</td></tr><tr><td>Liechtenstein</td><td>art</td><td>2</td></tr><tr><td>Lithuania</td><td>art</td><td>3</td></tr><tr><td>Luxembourg</td><td>art</td><td>1</td></tr><tr><td>Luxembourg</td><td>christmas</td><td>1</td></tr><tr><td>Macao</td><td>christmas</td><td>4</td></tr><tr><td>Macedonia</td><td>beauty</td><td>3</td></tr><tr><td>Madagascar</td><td>beauty</td><td>3</td></tr><tr><td>Malawi</td><td>christmas</td><td>4</td></tr><tr><td>Malaysia</td><td>beauty</td><td>2</td></tr><tr><td>Maldives</td><td>art</td><td>3</td></tr><tr><td>Mali</td><td>christmas</td><td>4</td></tr><tr><td>Mali</td><td>beauty</td><td>4</td></tr><tr><td>Malta</td><td>beauty</td><td>4</td></tr><tr><td>Marshall Islands</td><td>art</td><td>2</td></tr><tr><td>Martinique</td><td>art</td><td>6</td></tr><tr><td>Mauritania</td><td>christmas</td><td>2</td></tr><tr><td>Mauritania</td><td>beauty</td><td>2</td></tr><tr><td>Mauritius</td><td>beauty</td><td>2</td></tr><tr><td>Mayotte</td><td>christmas</td><td>4</td></tr><tr><td>Mexico</td><td>christmas</td><td>2</td></tr><tr><td>Mexico</td><td>beauty</td><td>2</td></tr><tr><td>Micronesia</td><td>art</td><td>2</td></tr><tr><td>Moldova</td><td>beauty</td><td>6</td></tr><tr><td>Monaco</td><td>art</td><td>5</td></tr><tr><td>Mongolia</td><td>christmas</td><td>2</td></tr><tr><td>Mongolia</td><td>beauty</td><td>2</td></tr><tr><td>Montenegro</td><td>art</td><td>3</td></tr><tr><td>Montserrat</td><td>art</td><td>7</td></tr><tr><td>Morocco</td><td>christmas</td><td>2</td></tr><tr><td>Morocco</td><td>art</td><td>2</td></tr><tr><td>Mozambique</td><td>art</td><td>2</td></tr><tr><td>Myanmar</td><td>christmas</td><td>5</td></tr><tr><td>Namibia</td><td>beauty</td><td>3</td></tr><tr><td>Nauru</td><td>beauty</td><td>5</td></tr><tr><td>Nepal</td><td>christmas</td><td>3</td></tr><tr><td>Nepal</td><td>art</td><td>3</td></tr><tr><td>Netherlands</td><td>art</td><td>3</td></tr><tr><td>Netherlands Antilles</td><td>art</td><td>7</td></tr><tr><td>New Caledonia</td><td>beauty</td><td>4</td></tr><tr><td>New Zealand</td><td>beauty</td><td>2</td></tr><tr><td>Nicaragua</td><td>art</td><td>3</td></tr><tr><td>Niger</td><td>beauty</td><td>5</td></tr><tr><td>Nigeria</td><td>beauty</td><td>4</td></tr><tr><td>Niue</td><td>beauty</td><td>2</td></tr><tr><td>Norfolk Island</td><td>beauty</td><td>5</td></tr><tr><td>Northern Mariana Islands</td><td>art</td><td>2</td></tr><tr><td>Norway</td><td>beauty</td><td>1</td></tr><tr><td>Norway</td><td>art</td><td>1</td></tr><tr><td>Oman</td><td>beauty</td><td>3</td></tr><tr><td>Pakistan</td><td>christmas</td><td>2</td></tr><tr><td>Palau</td><td>beauty</td><td>1</td></tr><tr><td>Palau</td><td>art</td><td>1</td></tr><tr><td>Palau</td><td>christmas</td><td>1</td></tr><tr><td>Palestinian Territory</td><td>christmas</td><td>7</td></tr><tr><td>Panama</td><td>beauty</td><td>1</td></tr><tr><td>Papua New Guinea</td><td>beauty</td><td>3</td></tr><tr><td>Paraguay</td><td>art</td><td>2</td></tr><tr><td>Peru</td><td>beauty</td><td>4</td></tr><tr><td>Pitcairn Islands</td><td>art</td><td>1</td></tr><tr><td>Poland</td><td>beauty</td><td>2</td></tr><tr><td>Portugal</td><td>art</td><td>3</td></tr><tr><td>Puerto Rico</td><td>art</td><td>1</td></tr><tr><td>Puerto Rico</td><td>christmas</td><td>1</td></tr><tr><td>Qatar</td><td>art</td><td>2</td></tr><tr><td>Qatar</td><td>beauty</td><td>2</td></tr><tr><td>Reunion</td><td>beauty</td><td>1</td></tr><tr><td>Reunion</td><td>art</td><td>1</td></tr><tr><td>Romania</td><td>art</td><td>1</td></tr><tr><td>Romania</td><td>christmas</td><td>1</td></tr><tr><td>Romania</td><td>beauty</td><td>1</td></tr><tr><td>Russian Federation</td><td>christmas</td><td>3</td></tr><tr><td>Rwanda</td><td>beauty</td><td>1</td></tr><tr><td>Saint Barthelemy</td><td>beauty</td><td>2</td></tr><tr><td>Saint Helena</td><td>beauty</td><td>3</td></tr><tr><td>Saint Kitts and Nevis</td><td>art</td><td>1</td></tr><tr><td>Saint Kitts and Nevis</td><td>beauty</td><td>1</td></tr><tr><td>Saint Kitts and Nevis</td><td>christmas</td><td>1</td></tr><tr><td>Saint Lucia</td><td>christmas</td><td>1</td></tr><tr><td>Saint Lucia</td><td>beauty</td><td>1</td></tr><tr><td>Saint Martin</td><td>christmas</td><td>2</td></tr><tr><td>Saint Pierre and Miquelon</td><td>beauty</td><td>3</td></tr><tr><td>Samoa</td><td>beauty</td><td>1</td></tr><tr><td>Samoa</td><td>christmas</td><td>1</td></tr><tr><td>Samoa</td><td>art</td><td>1</td></tr><tr><td>San Marino</td><td>art</td><td>1</td></tr><tr><td>San Marino</td><td>christmas</td><td>1</td></tr><tr><td>Sao Tome and Principe</td><td>beauty</td><td>1</td></tr><tr><td>Sao Tome and Principe</td><td>art</td><td>1</td></tr><tr><td>Saudi Arabia</td><td>beauty</td><td>4</td></tr><tr><td>Senegal</td><td>beauty</td><td>2</td></tr><tr><td>Serbia</td><td>beauty</td><td>1</td></tr><tr><td>Serbia</td><td>art</td><td>1</td></tr><tr><td>Seychelles</td><td>beauty</td><td>4</td></tr><tr><td>Sierra Leone</td><td>beauty</td><td>2</td></tr><tr><td>Singapore</td><td>art</td><td>4</td></tr><tr><td>Slovakia (Slovak Republic)</td><td>beauty</td><td>1</td></tr><tr><td>Slovenia</td><td>christmas</td><td>2</td></tr><tr><td>Solomon Islands</td><td>art</td><td>1</td></tr><tr><td>Solomon Islands</td><td>beauty</td><td>1</td></tr><tr><td>Solomon Islands</td><td>christmas</td><td>1</td></tr><tr><td>Somalia</td><td>christmas</td><td>3</td></tr><tr><td>South Africa</td><td>beauty</td><td>3</td></tr><tr><td>South Georgia and the South Sandwich Islands</td><td>beauty</td><td>1</td></tr><tr><td>South Georgia and the South Sandwich Islands</td><td>christmas</td><td>1</td></tr><tr><td>Spain</td><td>beauty</td><td>3</td></tr><tr><td>Sri Lanka</td><td>christmas</td><td>2</td></tr><tr><td>Sri Lanka</td><td>art</td><td>2</td></tr><tr><td>Sudan</td><td>art</td><td>3</td></tr><tr><td>Suriname</td><td>beauty</td><td>1</td></tr><tr><td>Svalbard & Jan Mayen Islands</td><td>beauty</td><td>1</td></tr><tr><td>Swaziland</td><td>christmas</td><td>3</td></tr><tr><td>Sweden</td><td>beauty</td><td>2</td></tr><tr><td>Switzerland</td><td>art</td><td>4</td></tr><tr><td>Syrian Arab Republic</td><td>beauty</td><td>3</td></tr><tr><td>Syrian Arab Republic</td><td>christmas</td><td>3</td></tr><tr><td>Taiwan</td><td>christmas</td><td>2</td></tr><tr><td>Taiwan</td><td>beauty</td><td>2</td></tr><tr><td>Tajikistan</td><td>beauty</td><td>2</td></tr><tr><td>Tajikistan</td><td>art</td><td>2</td></tr><tr><td>Tanzania</td><td>art</td><td>2</td></tr><tr><td>Thailand</td><td>beauty</td><td>2</td></tr><tr><td>Timor-Leste</td><td>art</td><td>2</td></tr><tr><td>Timor-Leste</td><td>beauty</td><td>2</td></tr><tr><td>Togo</td><td>christmas</td><td>1</td></tr><tr><td>Togo</td><td>art</td><td>1</td></tr><tr><td>Tokelau</td><td>art</td><td>3</td></tr><tr><td>Tonga</td><td>beauty</td><td>3</td></tr><tr><td>Trinidad and Tobago</td><td>art</td><td>2</td></tr><tr><td>Trinidad and Tobago</td><td>christmas</td><td>2</td></tr><tr><td>Tunisia</td><td>art</td><td>1</td></tr><tr><td>Tunisia</td><td>beauty</td><td>1</td></tr><tr><td>Tunisia</td><td>christmas</td><td>1</td></tr><tr><td>Turkey</td><td>beauty</td><td>3</td></tr><tr><td>Turkmenistan</td><td>beauty</td><td>2</td></tr><tr><td>Turks and Caicos Islands</td><td>beauty</td><td>1</td></tr><tr><td>Tuvalu</td><td>beauty</td><td>2</td></tr><tr><td>Uganda</td><td>beauty</td><td>4</td></tr><tr><td>Ukraine</td><td>beauty</td><td>4</td></tr><tr><td>United Kingdom</td><td>christmas</td><td>3</td></tr><tr><td>United States Minor Outlying Islands</td><td>beauty</td><td>2</td></tr><tr><td>United States Virgin Islands</td><td>beauty</td><td>3</td></tr><tr><td>United States of America</td><td>beauty</td><td>2</td></tr><tr><td>Uruguay</td><td>beauty</td><td>1</td></tr><tr><td>Uruguay</td><td>art</td><td>1</td></tr><tr><td>Uzbekistan</td><td>beauty</td><td>1</td></tr><tr><td>Vanuatu</td><td>art</td><td>1</td></tr><tr><td>Vanuatu</td><td>christmas</td><td>1</td></tr><tr><td>Vanuatu</td><td>beauty</td><td>1</td></tr><tr><td>Venezuela</td><td>beauty</td><td>1</td></tr><tr><td>Venezuela</td><td>art</td><td>1</td></tr><tr><td>Vietnam</td><td>beauty</td><td>1</td></tr><tr><td>Vietnam</td><td>christmas</td><td>1</td></tr><tr><td>Wallis and Futuna</td><td>beauty</td><td>2</td></tr><tr><td>Western Sahara</td><td>beauty</td><td>2</td></tr><tr><td>Yemen</td><td>christmas</td><td>3</td></tr><tr><td>Zimbabwe</td><td>christmas</td><td>2</td></tr></tbody></table></div>"
      ]
     },
     "metadata": {
      "application/vnd.databricks.v1+output": {
       "addedWidgets": {},
       "aggData": [],
       "aggError": "",
       "aggOverflow": false,
       "aggSchema": [],
       "aggSeriesLimitReached": false,
       "aggType": "",
       "arguments": {},
       "columnCustomDisplayInfos": {},
       "data": [
        [
         "Afghanistan",
         "beauty",
         11
        ],
        [
         "Albania",
         "art",
         193
        ],
        [
         "Algeria",
         "beauty",
         13
        ],
        [
         "American Samoa",
         "beauty",
         49
        ],
        [
         "Andorra",
         "art",
         11
        ],
        [
         "Angola",
         "beauty",
         10
        ],
        [
         "Anguilla",
         "beauty",
         19
        ],
        [
         "Antarctica (the territory South of 60 deg S)",
         "christmas",
         25
        ],
        [
         "Antigua and Barbuda",
         "art",
         20
        ],
        [
         "Argentina",
         "art",
         14
        ],
        [
         "Armenia",
         "art",
         22
        ],
        [
         "Aruba",
         "art",
         53
        ],
        [
         "Australia",
         "christmas",
         13
        ],
        [
         "Austria",
         "beauty",
         8
        ],
        [
         "Azerbaijan",
         "beauty",
         11
        ],
        [
         "Bahamas",
         "art",
         21
        ],
        [
         "Bahrain",
         "christmas",
         8
        ],
        [
         "Bangladesh",
         "christmas",
         25
        ],
        [
         "Barbados",
         "art",
         24
        ],
        [
         "Belarus",
         "christmas",
         10
        ],
        [
         "Belgium",
         "christmas",
         10
        ],
        [
         "Belize",
         "art",
         4
        ],
        [
         "Benin",
         "art",
         5
        ],
        [
         "Bermuda",
         "christmas",
         4
        ],
        [
         "Bhutan",
         "beauty",
         7
        ],
        [
         "Bolivia",
         "art",
         7
        ],
        [
         "Bosnia and Herzegovina",
         "art",
         4
        ],
        [
         "Botswana",
         "christmas",
         5
        ],
        [
         "Botswana",
         "art",
         5
        ],
        [
         "Bouvet Island (Bouvetoya)",
         "christmas",
         6
        ],
        [
         "Bouvet Island (Bouvetoya)",
         "beauty",
         6
        ],
        [
         "Brazil",
         "beauty",
         3
        ],
        [
         "British Indian Ocean Territory (Chagos Archipelago)",
         "beauty",
         2
        ],
        [
         "British Virgin Islands",
         "christmas",
         14
        ],
        [
         "Brunei Darussalam",
         "beauty",
         1
        ],
        [
         "Bulgaria",
         "christmas",
         10
        ],
        [
         "Burkina Faso",
         "beauty",
         6
        ],
        [
         "Burundi",
         "beauty",
         13
        ],
        [
         "Cambodia",
         "beauty",
         8
        ],
        [
         "Cameroon",
         "art",
         13
        ],
        [
         "Canada",
         "christmas",
         8
        ],
        [
         "Cape Verde",
         "beauty",
         5
        ],
        [
         "Cayman Islands",
         "christmas",
         5
        ],
        [
         "Cayman Islands",
         "beauty",
         5
        ],
        [
         "Central African Republic",
         "art",
         5
        ],
        [
         "Central African Republic",
         "christmas",
         5
        ],
        [
         "Chad",
         "art",
         4
        ],
        [
         "Chad",
         "christmas",
         4
        ],
        [
         "Chad",
         "beauty",
         4
        ],
        [
         "Chile",
         "beauty",
         10
        ],
        [
         "China",
         "art",
         4
        ],
        [
         "Christmas Island",
         "beauty",
         6
        ],
        [
         "Cocos (Keeling) Islands",
         "beauty",
         5
        ],
        [
         "Colombia",
         "christmas",
         8
        ],
        [
         "Comoros",
         "beauty",
         3
        ],
        [
         "Congo",
         "art",
         10
        ],
        [
         "Cook Islands",
         "christmas",
         6
        ],
        [
         "Costa Rica",
         "christmas",
         8
        ],
        [
         "Cote d'Ivoire",
         "beauty",
         10
        ],
        [
         "Croatia",
         "beauty",
         7
        ],
        [
         "Cuba",
         "beauty",
         6
        ],
        [
         "Cyprus",
         "beauty",
         1
        ],
        [
         "Cyprus",
         "art",
         1
        ],
        [
         "Cyprus",
         "christmas",
         1
        ],
        [
         "Czech Republic",
         "beauty",
         2
        ],
        [
         "Denmark",
         "beauty",
         5
        ],
        [
         "Djibouti",
         "christmas",
         5
        ],
        [
         "Dominica",
         "art",
         2
        ],
        [
         "Dominican Republic",
         "beauty",
         3
        ],
        [
         "Ecuador",
         "beauty",
         6
        ],
        [
         "Egypt",
         "beauty",
         3
        ],
        [
         "El Salvador",
         "beauty",
         4
        ],
        [
         "Equatorial Guinea",
         "beauty",
         5
        ],
        [
         "Eritrea",
         "beauty",
         5
        ],
        [
         "Estonia",
         "christmas",
         10
        ],
        [
         "Ethiopia",
         "art",
         10
        ],
        [
         "Falkland Islands (Malvinas)",
         "christmas",
         6
        ],
        [
         "Faroe Islands",
         "christmas",
         2
        ],
        [
         "Faroe Islands",
         "beauty",
         2
        ],
        [
         "Fiji",
         "art",
         4
        ],
        [
         "Finland",
         "christmas",
         4
        ],
        [
         "Finland",
         "beauty",
         4
        ],
        [
         "Finland",
         "art",
         4
        ],
        [
         "France",
         "beauty",
         7
        ],
        [
         "French Guiana",
         "art",
         3
        ],
        [
         "French Polynesia",
         "beauty",
         3
        ],
        [
         "French Southern Territories",
         "beauty",
         3
        ],
        [
         "French Southern Territories",
         "christmas",
         3
        ],
        [
         "Gabon",
         "beauty",
         6
        ],
        [
         "Gambia",
         "art",
         3
        ],
        [
         "Georgia",
         "beauty",
         3
        ],
        [
         "Germany",
         "christmas",
         1
        ],
        [
         "Germany",
         "art",
         1
        ],
        [
         "Ghana",
         "beauty",
         4
        ],
        [
         "Gibraltar",
         "art",
         5
        ],
        [
         "Greece",
         "christmas",
         4
        ],
        [
         "Greenland",
         "beauty",
         5
        ],
        [
         "Grenada",
         "beauty",
         3
        ],
        [
         "Guadeloupe",
         "beauty",
         3
        ],
        [
         "Guadeloupe",
         "christmas",
         3
        ],
        [
         "Guam",
         "beauty",
         5
        ],
        [
         "Guatemala",
         "art",
         6
        ],
        [
         "Guernsey",
         "beauty",
         3
        ],
        [
         "Guinea",
         "art",
         1
        ],
        [
         "Guinea",
         "christmas",
         1
        ],
        [
         "Guinea",
         "beauty",
         1
        ],
        [
         "Guinea-Bissau",
         "art",
         1
        ],
        [
         "Guinea-Bissau",
         "beauty",
         1
        ],
        [
         "Guyana",
         "art",
         4
        ],
        [
         "Haiti",
         "christmas",
         6
        ],
        [
         "Heard Island and McDonald Islands",
         "christmas",
         1
        ],
        [
         "Heard Island and McDonald Islands",
         "beauty",
         1
        ],
        [
         "Heard Island and McDonald Islands",
         "art",
         1
        ],
        [
         "Honduras",
         "beauty",
         3
        ],
        [
         "Hong Kong",
         "art",
         3
        ],
        [
         "Hungary",
         "christmas",
         2
        ],
        [
         "Hungary",
         "art",
         2
        ],
        [
         "Iceland",
         "beauty",
         4
        ],
        [
         "India",
         "art",
         8
        ],
        [
         "Indonesia",
         "christmas",
         3
        ],
        [
         "Iran",
         "christmas",
         5
        ],
        [
         "Iraq",
         "christmas",
         7
        ],
        [
         "Ireland",
         "christmas",
         2
        ],
        [
         "Isle of Man",
         "art",
         6
        ],
        [
         "Israel",
         "art",
         3
        ],
        [
         "Italy",
         "beauty",
         6
        ],
        [
         "Jamaica",
         "beauty",
         3
        ],
        [
         "Japan",
         "art",
         6
        ],
        [
         "Jersey",
         "art",
         2
        ],
        [
         "Jordan",
         "beauty",
         3
        ],
        [
         "Kazakhstan",
         "christmas",
         5
        ],
        [
         "Kenya",
         "christmas",
         4
        ],
        [
         "Kiribati",
         "christmas",
         3
        ],
        [
         "Kiribati",
         "beauty",
         3
        ],
        [
         "Korea",
         "art",
         9
        ],
        [
         "Kuwait",
         "beauty",
         4
        ],
        [
         "Kyrgyz Republic",
         "christmas",
         7
        ],
        [
         "Lao People's Democratic Republic",
         "beauty",
         6
        ],
        [
         "Latvia",
         "art",
         3
        ],
        [
         "Lebanon",
         "christmas",
         2
        ],
        [
         "Lesotho",
         "art",
         6
        ],
        [
         "Liberia",
         "beauty",
         2
        ],
        [
         "Libyan Arab Jamahiriya",
         "christmas",
         3
        ],
        [
         "Libyan Arab Jamahiriya",
         "beauty",
         3
        ],
        [
         "Liechtenstein",
         "art",
         2
        ],
        [
         "Lithuania",
         "art",
         3
        ],
        [
         "Luxembourg",
         "art",
         1
        ],
        [
         "Luxembourg",
         "christmas",
         1
        ],
        [
         "Macao",
         "christmas",
         4
        ],
        [
         "Macedonia",
         "beauty",
         3
        ],
        [
         "Madagascar",
         "beauty",
         3
        ],
        [
         "Malawi",
         "christmas",
         4
        ],
        [
         "Malaysia",
         "beauty",
         2
        ],
        [
         "Maldives",
         "art",
         3
        ],
        [
         "Mali",
         "christmas",
         4
        ],
        [
         "Mali",
         "beauty",
         4
        ],
        [
         "Malta",
         "beauty",
         4
        ],
        [
         "Marshall Islands",
         "art",
         2
        ],
        [
         "Martinique",
         "art",
         6
        ],
        [
         "Mauritania",
         "christmas",
         2
        ],
        [
         "Mauritania",
         "beauty",
         2
        ],
        [
         "Mauritius",
         "beauty",
         2
        ],
        [
         "Mayotte",
         "christmas",
         4
        ],
        [
         "Mexico",
         "christmas",
         2
        ],
        [
         "Mexico",
         "beauty",
         2
        ],
        [
         "Micronesia",
         "art",
         2
        ],
        [
         "Moldova",
         "beauty",
         6
        ],
        [
         "Monaco",
         "art",
         5
        ],
        [
         "Mongolia",
         "christmas",
         2
        ],
        [
         "Mongolia",
         "beauty",
         2
        ],
        [
         "Montenegro",
         "art",
         3
        ],
        [
         "Montserrat",
         "art",
         7
        ],
        [
         "Morocco",
         "christmas",
         2
        ],
        [
         "Morocco",
         "art",
         2
        ],
        [
         "Mozambique",
         "art",
         2
        ],
        [
         "Myanmar",
         "christmas",
         5
        ],
        [
         "Namibia",
         "beauty",
         3
        ],
        [
         "Nauru",
         "beauty",
         5
        ],
        [
         "Nepal",
         "christmas",
         3
        ],
        [
         "Nepal",
         "art",
         3
        ],
        [
         "Netherlands",
         "art",
         3
        ],
        [
         "Netherlands Antilles",
         "art",
         7
        ],
        [
         "New Caledonia",
         "beauty",
         4
        ],
        [
         "New Zealand",
         "beauty",
         2
        ],
        [
         "Nicaragua",
         "art",
         3
        ],
        [
         "Niger",
         "beauty",
         5
        ],
        [
         "Nigeria",
         "beauty",
         4
        ],
        [
         "Niue",
         "beauty",
         2
        ],
        [
         "Norfolk Island",
         "beauty",
         5
        ],
        [
         "Northern Mariana Islands",
         "art",
         2
        ],
        [
         "Norway",
         "beauty",
         1
        ],
        [
         "Norway",
         "art",
         1
        ],
        [
         "Oman",
         "beauty",
         3
        ],
        [
         "Pakistan",
         "christmas",
         2
        ],
        [
         "Palau",
         "beauty",
         1
        ],
        [
         "Palau",
         "art",
         1
        ],
        [
         "Palau",
         "christmas",
         1
        ],
        [
         "Palestinian Territory",
         "christmas",
         7
        ],
        [
         "Panama",
         "beauty",
         1
        ],
        [
         "Papua New Guinea",
         "beauty",
         3
        ],
        [
         "Paraguay",
         "art",
         2
        ],
        [
         "Peru",
         "beauty",
         4
        ],
        [
         "Pitcairn Islands",
         "art",
         1
        ],
        [
         "Poland",
         "beauty",
         2
        ],
        [
         "Portugal",
         "art",
         3
        ],
        [
         "Puerto Rico",
         "art",
         1
        ],
        [
         "Puerto Rico",
         "christmas",
         1
        ],
        [
         "Qatar",
         "art",
         2
        ],
        [
         "Qatar",
         "beauty",
         2
        ],
        [
         "Reunion",
         "beauty",
         1
        ],
        [
         "Reunion",
         "art",
         1
        ],
        [
         "Romania",
         "art",
         1
        ],
        [
         "Romania",
         "christmas",
         1
        ],
        [
         "Romania",
         "beauty",
         1
        ],
        [
         "Russian Federation",
         "christmas",
         3
        ],
        [
         "Rwanda",
         "beauty",
         1
        ],
        [
         "Saint Barthelemy",
         "beauty",
         2
        ],
        [
         "Saint Helena",
         "beauty",
         3
        ],
        [
         "Saint Kitts and Nevis",
         "art",
         1
        ],
        [
         "Saint Kitts and Nevis",
         "beauty",
         1
        ],
        [
         "Saint Kitts and Nevis",
         "christmas",
         1
        ],
        [
         "Saint Lucia",
         "christmas",
         1
        ],
        [
         "Saint Lucia",
         "beauty",
         1
        ],
        [
         "Saint Martin",
         "christmas",
         2
        ],
        [
         "Saint Pierre and Miquelon",
         "beauty",
         3
        ],
        [
         "Samoa",
         "beauty",
         1
        ],
        [
         "Samoa",
         "christmas",
         1
        ],
        [
         "Samoa",
         "art",
         1
        ],
        [
         "San Marino",
         "art",
         1
        ],
        [
         "San Marino",
         "christmas",
         1
        ],
        [
         "Sao Tome and Principe",
         "beauty",
         1
        ],
        [
         "Sao Tome and Principe",
         "art",
         1
        ],
        [
         "Saudi Arabia",
         "beauty",
         4
        ],
        [
         "Senegal",
         "beauty",
         2
        ],
        [
         "Serbia",
         "beauty",
         1
        ],
        [
         "Serbia",
         "art",
         1
        ],
        [
         "Seychelles",
         "beauty",
         4
        ],
        [
         "Sierra Leone",
         "beauty",
         2
        ],
        [
         "Singapore",
         "art",
         4
        ],
        [
         "Slovakia (Slovak Republic)",
         "beauty",
         1
        ],
        [
         "Slovenia",
         "christmas",
         2
        ],
        [
         "Solomon Islands",
         "art",
         1
        ],
        [
         "Solomon Islands",
         "beauty",
         1
        ],
        [
         "Solomon Islands",
         "christmas",
         1
        ],
        [
         "Somalia",
         "christmas",
         3
        ],
        [
         "South Africa",
         "beauty",
         3
        ],
        [
         "South Georgia and the South Sandwich Islands",
         "beauty",
         1
        ],
        [
         "South Georgia and the South Sandwich Islands",
         "christmas",
         1
        ],
        [
         "Spain",
         "beauty",
         3
        ],
        [
         "Sri Lanka",
         "christmas",
         2
        ],
        [
         "Sri Lanka",
         "art",
         2
        ],
        [
         "Sudan",
         "art",
         3
        ],
        [
         "Suriname",
         "beauty",
         1
        ],
        [
         "Svalbard & Jan Mayen Islands",
         "beauty",
         1
        ],
        [
         "Swaziland",
         "christmas",
         3
        ],
        [
         "Sweden",
         "beauty",
         2
        ],
        [
         "Switzerland",
         "art",
         4
        ],
        [
         "Syrian Arab Republic",
         "beauty",
         3
        ],
        [
         "Syrian Arab Republic",
         "christmas",
         3
        ],
        [
         "Taiwan",
         "christmas",
         2
        ],
        [
         "Taiwan",
         "beauty",
         2
        ],
        [
         "Tajikistan",
         "beauty",
         2
        ],
        [
         "Tajikistan",
         "art",
         2
        ],
        [
         "Tanzania",
         "art",
         2
        ],
        [
         "Thailand",
         "beauty",
         2
        ],
        [
         "Timor-Leste",
         "art",
         2
        ],
        [
         "Timor-Leste",
         "beauty",
         2
        ],
        [
         "Togo",
         "christmas",
         1
        ],
        [
         "Togo",
         "art",
         1
        ],
        [
         "Tokelau",
         "art",
         3
        ],
        [
         "Tonga",
         "beauty",
         3
        ],
        [
         "Trinidad and Tobago",
         "art",
         2
        ],
        [
         "Trinidad and Tobago",
         "christmas",
         2
        ],
        [
         "Tunisia",
         "art",
         1
        ],
        [
         "Tunisia",
         "beauty",
         1
        ],
        [
         "Tunisia",
         "christmas",
         1
        ],
        [
         "Turkey",
         "beauty",
         3
        ],
        [
         "Turkmenistan",
         "beauty",
         2
        ],
        [
         "Turks and Caicos Islands",
         "beauty",
         1
        ],
        [
         "Tuvalu",
         "beauty",
         2
        ],
        [
         "Uganda",
         "beauty",
         4
        ],
        [
         "Ukraine",
         "beauty",
         4
        ],
        [
         "United Kingdom",
         "christmas",
         3
        ],
        [
         "United States Minor Outlying Islands",
         "beauty",
         2
        ],
        [
         "United States Virgin Islands",
         "beauty",
         3
        ],
        [
         "United States of America",
         "beauty",
         2
        ],
        [
         "Uruguay",
         "beauty",
         1
        ],
        [
         "Uruguay",
         "art",
         1
        ],
        [
         "Uzbekistan",
         "beauty",
         1
        ],
        [
         "Vanuatu",
         "art",
         1
        ],
        [
         "Vanuatu",
         "christmas",
         1
        ],
        [
         "Vanuatu",
         "beauty",
         1
        ],
        [
         "Venezuela",
         "beauty",
         1
        ],
        [
         "Venezuela",
         "art",
         1
        ],
        [
         "Vietnam",
         "beauty",
         1
        ],
        [
         "Vietnam",
         "christmas",
         1
        ],
        [
         "Wallis and Futuna",
         "beauty",
         2
        ],
        [
         "Western Sahara",
         "beauty",
         2
        ],
        [
         "Yemen",
         "christmas",
         3
        ],
        [
         "Zimbabwe",
         "christmas",
         2
        ]
       ],
       "datasetInfos": [],
       "dbfsResultPath": null,
       "isJsonSchema": true,
       "metadata": {},
       "overflow": false,
       "plotOptions": {
        "customPlotOptions": {},
        "displayType": "table",
        "pivotAggregation": null,
        "pivotColumns": null,
        "xColumns": null,
        "yColumns": null
       },
       "removedWidgets": [],
       "schema": [
        {
         "metadata": "{}",
         "name": "country",
         "type": "\"string\""
        },
        {
         "metadata": "{}",
         "name": "category",
         "type": "\"string\""
        },
        {
         "metadata": "{}",
         "name": "category_count",
         "type": "\"long\""
        }
       ],
       "type": "table"
      }
     },
     "output_type": "display_data"
    }
   ],
   "source": [
    "# Find the most popular Pinterest category people post to based on their country.\n",
    "# return a DataFrame that contains the following columns:\n",
    "#     country\n",
    "#     category\n",
    "#     category_count, a new column containing the desired query output\n",
    "\n",
    "# join pin and geo tables so we have country and category together\n",
    "combined_geo_df = df_pin.join(df_geo, df_geo[\"ind\"] == df_pin[\"ind\"], how=\"inner\")\n",
    "# display(combined_geo_df)\n",
    "# count category use per country\n",
    "grouped_df = combined_geo_df.groupBy(\"country\",\"category\").agg(count(\"category\")).withColumnRenamed(\"count(category)\", \"category_count\")\n",
    "# display(grouped_df)\n",
    "# get the maximum value for each country\n",
    "max_df = grouped_df.groupBy(\"country\").agg(max(\"category_count\")).withColumnRenamed(\"country\", \"max_country\")\n",
    "# display(max_df)\n",
    "# filter to only the maximum category per country\n",
    "most_popular_category_per_country_df = max_df.join(grouped_df, ((grouped_df[\"country\"] == max_df[\"max_country\"]) & (grouped_df[\"category_count\"] == max_df[\"max(category_count)\"])), how=\"inner\")\n",
    "# display(most_popular_category_per_country)\n",
    "# Selecting only the relevant columns\n",
    "most_popular_category_per_country_df = most_popular_category_per_country_df.select(\"country\", \"category\", \"category_count\")\n",
    "display(most_popular_category_per_country_df.orderBy(\"country\"))\n"
   ]
  },
  {
   "cell_type": "code",
   "execution_count": 0,
   "metadata": {
    "application/vnd.databricks.v1+cell": {
     "cellMetadata": {
      "byteLimit": 2048000,
      "rowLimit": 10000
     },
     "inputWidgets": {},
     "nuid": "b75c9fb1-0ba1-42b6-b394-9dbbd73844e3",
     "showTitle": false,
     "title": ""
    }
   },
   "outputs": [
    {
     "output_type": "display_data",
     "data": {
      "text/html": [
       "<style scoped>\n",
       "  .table-result-container {\n",
       "    max-height: 300px;\n",
       "    overflow: auto;\n",
       "  }\n",
       "  table, th, td {\n",
       "    border: 1px solid black;\n",
       "    border-collapse: collapse;\n",
       "  }\n",
       "  th, td {\n",
       "    padding: 5px;\n",
       "  }\n",
       "  th {\n",
       "    text-align: left;\n",
       "  }\n",
       "</style><div class='table-result-container'><table class='table-result'><thead style='background-color: white'><tr><th>post_year</th><th>category</th><th>category_count</th></tr></thead><tbody><tr><td>2018</td><td>art</td><td>176</td></tr><tr><td>2018</td><td>beauty</td><td>152</td></tr><tr><td>2018</td><td>christmas</td><td>148</td></tr><tr><td>2019</td><td>art</td><td>176</td></tr><tr><td>2019</td><td>beauty</td><td>131</td></tr><tr><td>2019</td><td>christmas</td><td>127</td></tr><tr><td>2020</td><td>art</td><td>188</td></tr><tr><td>2020</td><td>beauty</td><td>158</td></tr><tr><td>2020</td><td>christmas</td><td>126</td></tr><tr><td>2020</td><td>mens-fashion</td><td>1</td></tr><tr><td>2021</td><td>art</td><td>172</td></tr><tr><td>2021</td><td>beauty</td><td>144</td></tr><tr><td>2021</td><td>christmas</td><td>120</td></tr><tr><td>2022</td><td>art</td><td>142</td></tr><tr><td>2022</td><td>beauty</td><td>135</td></tr><tr><td>2022</td><td>christmas</td><td>111</td></tr></tbody></table></div>"
      ]
     },
     "metadata": {
      "application/vnd.databricks.v1+output": {
       "addedWidgets": {},
       "aggData": [],
       "aggError": "",
       "aggOverflow": false,
       "aggSchema": [],
       "aggSeriesLimitReached": false,
       "aggType": "",
       "arguments": {},
       "columnCustomDisplayInfos": {},
       "data": [
        [
         2018,
         "art",
         176
        ],
        [
         2018,
         "beauty",
         152
        ],
        [
         2018,
         "christmas",
         148
        ],
        [
         2019,
         "art",
         176
        ],
        [
         2019,
         "beauty",
         131
        ],
        [
         2019,
         "christmas",
         127
        ],
        [
         2020,
         "art",
         188
        ],
        [
         2020,
         "beauty",
         158
        ],
        [
         2020,
         "christmas",
         126
        ],
        [
         2020,
         "mens-fashion",
         1
        ],
        [
         2021,
         "art",
         172
        ],
        [
         2021,
         "beauty",
         144
        ],
        [
         2021,
         "christmas",
         120
        ],
        [
         2022,
         "art",
         142
        ],
        [
         2022,
         "beauty",
         135
        ],
        [
         2022,
         "christmas",
         111
        ]
       ],
       "datasetInfos": [],
       "dbfsResultPath": null,
       "isJsonSchema": true,
       "metadata": {},
       "overflow": false,
       "plotOptions": {
        "customPlotOptions": {},
        "displayType": "table",
        "pivotAggregation": null,
        "pivotColumns": null,
        "xColumns": null,
        "yColumns": null
       },
       "removedWidgets": [],
       "schema": [
        {
         "metadata": "{}",
         "name": "post_year",
         "type": "\"integer\""
        },
        {
         "metadata": "{}",
         "name": "category",
         "type": "\"string\""
        },
        {
         "metadata": "{}",
         "name": "category_count",
         "type": "\"long\""
        }
       ],
       "type": "table"
      }
     },
     "output_type": "display_data"
    }
   ],
   "source": [
    "# Find how many posts each category had between 2018 and 2022.\n",
    "# return a DataFrame that contains the following columns:\n",
    "#     post_year, a new column that contains only the year from the timestamp column\n",
    "#     category\n",
    "#     category_count, a new column containing the desired query output\n",
    "\n",
    "# combined_geo_df already has timestamp and category together so we'll use it again here\n",
    "# create post_year column which will be of type in\n",
    "grouped_df = combined_geo_df.withColumn('post_year', year(combined_geo_df[\"timestamp\"]))\n",
    "# filter out requested years and count categories per country/year after filter\n",
    "grouped_df = grouped_df.where(\"post_year >= 2018 and post_year <= 2022\").groupBy(\"post_year\",\"category\").agg(count(\"category\")).withColumnRenamed(\"count(category)\", \"category_count\")\n",
    "display(grouped_df.orderBy(\"post_year\", \"category\"))\n"
   ]
  },
  {
   "cell_type": "code",
   "execution_count": 0,
   "metadata": {
    "application/vnd.databricks.v1+cell": {
     "cellMetadata": {
      "byteLimit": 2048000,
      "rowLimit": 10000
     },
     "inputWidgets": {},
     "nuid": "6586eba9-4789-43df-a8ee-7ddd1922720e",
     "showTitle": false,
     "title": ""
    }
   },
   "outputs": [
    {
     "output_type": "display_data",
     "data": {
      "text/html": [
       "<style scoped>\n",
       "  .table-result-container {\n",
       "    max-height: 300px;\n",
       "    overflow: auto;\n",
       "  }\n",
       "  table, th, td {\n",
       "    border: 1px solid black;\n",
       "    border-collapse: collapse;\n",
       "  }\n",
       "  th, td {\n",
       "    padding: 5px;\n",
       "  }\n",
       "  th {\n",
       "    text-align: left;\n",
       "  }\n",
       "</style><div class='table-result-container'><table class='table-result'><thead style='background-color: white'><tr><th>country</th><th>poster_name</th><th>follower_count</th></tr></thead><tbody><tr><td>Afghanistan</td><td>Blossom</td><td>6000000</td></tr><tr><td>Albania</td><td>Bored Panda</td><td>220000000</td></tr><tr><td>Algeria</td><td>Apartment Therapy</td><td>20000000</td></tr><tr><td>American Samoa</td><td>BuzzFeed</td><td>255000000</td></tr><tr><td>Andorra</td><td>Glaminati</td><td>4794000</td></tr><tr><td>Angola</td><td>Tastemade</td><td>16000000</td></tr><tr><td>Anguilla</td><td>We Heart It</td><td>45000000</td></tr><tr><td>Antarctica (the territory South of 60 deg S)</td><td>HikenDip</td><td>9500000</td></tr><tr><td>Antigua and Barbuda</td><td>Country Living Magazine</td><td>2000000</td></tr><tr><td>Argentina</td><td>Cheezburger</td><td>10000000</td></tr><tr><td>Armenia</td><td>DIYnCrafts.Com</td><td>6714000</td></tr><tr><td>Aruba</td><td>One Kindesign</td><td>3942000</td></tr><tr><td>Australia</td><td>Mujer de 10 </td><td>2000000</td></tr><tr><td>Austria</td><td>Diply</td><td>502000</td></tr><tr><td>Azerbaijan</td><td>SOCIETY19</td><td>12000000</td></tr><tr><td>Bahamas</td><td>Stylecraze</td><td>36000000</td></tr><tr><td>Bahrain</td><td>Decor Home Ideas</td><td>864000</td></tr><tr><td>Bangladesh</td><td>Better Homes and Gardens</td><td>36000000</td></tr><tr><td>Barbados</td><td>The Creativity Exchange</td><td>6150000</td></tr><tr><td>Belarus</td><td>Prudent Penny Pincher - Home Decor, Organization, Crafts, Recipes</td><td>6472000</td></tr><tr><td>Belgium</td><td>The Krazy Coupon Lady</td><td>1732000</td></tr><tr><td>Belize</td><td>Easy Kids Crafts & Activities | Preschool & Kindergarten Ideas</td><td>801000</td></tr><tr><td>Benin</td><td>Decoist.com</td><td>432000</td></tr><tr><td>Bermuda</td><td>Healthline</td><td>118000</td></tr><tr><td>Bhutan</td><td>Sarah, Ruffles and Rain Boots</td><td>204000</td></tr><tr><td>Bolivia</td><td>Squarespace</td><td>656000</td></tr><tr><td>Bosnia and Herzegovina</td><td>5-Minute Crafts Family</td><td>370000</td></tr><tr><td>Botswana</td><td>Crafts and Activities for Kids with Fireflies and Mud Pies</td><td>357000</td></tr><tr><td>Bouvet Island (Bouvetoya)</td><td>POPSUGAR</td><td>5000000</td></tr><tr><td>Brazil</td><td>The Country Chic Cottage - DIY, Cricut, crafts, recipes, decor</td><td>602000</td></tr><tr><td>British Indian Ocean Territory (Chagos Archipelago)</td><td>Crafts Meet Kids | Crafts & Activities For Kids</td><td>600</td></tr><tr><td>British Virgin Islands</td><td>The WHOot</td><td>2000000</td></tr><tr><td>Brunei Darussalam</td><td>hair buddha</td><td>9000</td></tr><tr><td>Bulgaria</td><td>A Piece of Rainbow</td><td>6633000</td></tr><tr><td>Burkina Faso</td><td>Home Hacks</td><td>705000</td></tr><tr><td>Burundi</td><td>LITTLE SHINE</td><td>1584000</td></tr><tr><td>Cambodia</td><td>Women’s Health Magazine</td><td>2433000</td></tr><tr><td>Cameroon</td><td>Curbly</td><td>409000</td></tr><tr><td>Canada</td><td>ArtStation</td><td>2000000</td></tr><tr><td>Cape Verde</td><td>The Craft Train</td><td>738000</td></tr><tr><td>Cayman Islands</td><td>InStyle</td><td>5000000</td></tr><tr><td>Central African Republic</td><td>PureWow</td><td>3472000</td></tr><tr><td>Chad</td><td>ArchZine FR</td><td>761000</td></tr><tr><td>Chile</td><td>TODAY Show</td><td>2130000</td></tr><tr><td>China</td><td>Josie Lewis Art</td><td>585000</td></tr><tr><td>Christmas Island</td><td>Instructables</td><td>9000000</td></tr><tr><td>Cocos (Keeling) Islands</td><td>How Does She</td><td>1418000</td></tr><tr><td>Colombia</td><td>Abbi Kirsten at CC Designs | Paper Flower Templates & Tutorials </td><td>594000</td></tr><tr><td>Comoros</td><td>The Body Clinic SkinCare</td><td>104000</td></tr><tr><td>Congo</td><td>The Design Files</td><td>1167000</td></tr><tr><td>Cook Islands</td><td>SeedTime (Money Tips)</td><td>77000</td></tr><tr><td>Costa Rica</td><td>Martha Stewart Living</td><td>4000000</td></tr><tr><td>Cote d'Ivoire</td><td>Beauty Epic</td><td>2704000</td></tr><tr><td>Croatia</td><td>Meraki Lane</td><td>2184000</td></tr><tr><td>Cuba</td><td>Listotic - Easy Ideas | Fun DIY Projects | Easy Recipes | Lists</td><td>1228000</td></tr><tr><td>Cyprus</td><td>Redbubble</td><td>3000000</td></tr><tr><td>Czech Republic</td><td>Charlene Haugsven (My Frugal Adventures)</td><td>87000</td></tr><tr><td>Denmark</td><td>ManMadeDIY</td><td>157000</td></tr><tr><td>Djibouti</td><td>Instrupix | Lilly Childers</td><td>550000</td></tr><tr><td>Dominica</td><td>Time Out</td><td>77000</td></tr><tr><td>Dominican Republic</td><td>Soap Deli News Blog</td><td>609000</td></tr><tr><td>Ecuador</td><td>The Thrifty Couple | DIY, Crafts, Frugal Living, Recipes, Tips for Intentional Living</td><td>170000</td></tr><tr><td>Egypt</td><td>Allure</td><td>1038000</td></tr><tr><td>El Salvador</td><td>Jessica Autumn Planners | Free Printables + Digital Planners</td><td>108000</td></tr><tr><td>Equatorial Guinea</td><td>Meg O.</td><td>396000</td></tr><tr><td>Eritrea</td><td>TIDBITS</td><td>192000</td></tr><tr><td>Eritrea</td><td>Kelly @ Redefined Mom</td><td>192000</td></tr><tr><td>Estonia</td><td>Jenna Sue Design Co.</td><td>348000</td></tr><tr><td>Ethiopia</td><td>eBaumsWorld</td><td>1000000</td></tr><tr><td>Falkland Islands (Malvinas)</td><td>TES | Teaching Resources</td><td>336000</td></tr><tr><td>Faroe Islands</td><td>British Vogue</td><td>1000000</td></tr><tr><td>Fiji</td><td>The Graphics Fairy</td><td>1014000</td></tr><tr><td>Finland</td><td>Buggy and Buddy</td><td>925000</td></tr><tr><td>France</td><td>Glamour</td><td>2124000</td></tr><tr><td>French Guiana</td><td>Sweet Red Poppy Free Sewing Patterns, Cut Files & Craft Tutorials</td><td>723000</td></tr><tr><td>French Polynesia</td><td>The Skincare Edit</td><td>916000</td></tr><tr><td>French Southern Territories</td><td>Mary at Home is Where the Boat Is</td><td>118000</td></tr><tr><td>Gabon</td><td>Dr. Josh Axe</td><td>1779000</td></tr><tr><td>Gambia</td><td>HonestlyWTF</td><td>7000000</td></tr><tr><td>Georgia</td><td>Agodeal | Trendy Fashion Outfits</td><td>49000</td></tr><tr><td>Germany</td><td>Jessica Clodfelter</td><td>2000</td></tr><tr><td>Ghana</td><td>Pillarboxblue</td><td>57000</td></tr><tr><td>Gibraltar</td><td>Top Inspired</td><td>2565000</td></tr><tr><td>Greece</td><td>Love Grows Wild // Liz Fourez | Interior Design, Home Renovating, Styling + DIY Projects</td><td>390000</td></tr><tr><td>Greenland</td><td>The Educators' Spin On It</td><td>2000000</td></tr><tr><td>Grenada</td><td>Bustle.com</td><td>821000</td></tr><tr><td>Guadeloupe</td><td>Kathy+Steve | TBD + TGG + OhMeOhMy</td><td>355000</td></tr><tr><td>Guam</td><td>imgur</td><td>4000000</td></tr><tr><td>Guatemala</td><td>Homedit.com</td><td>1930000</td></tr><tr><td>Guernsey</td><td>SELF Magazine</td><td>1200000</td></tr><tr><td>Guinea</td><td>LaMenteEsMaravillosa</td><td>303000</td></tr><tr><td>Guinea-Bissau</td><td>Modishstore • Stylish Sustainable Living- decor, furniture, light</td><td>115000</td></tr><tr><td>Guyana</td><td>Life as Mama</td><td>527000</td></tr><tr><td>Haiti</td><td>No Time For Flash Cards</td><td>610000</td></tr><tr><td>Heard Island and McDonald Islands</td><td>TANIA MARAS</td><td>45000</td></tr><tr><td>Honduras</td><td>Mad in Crafts</td><td>106000</td></tr><tr><td>Hong Kong</td><td>Daisy Yellow</td><td>7000</td></tr><tr><td>Hungary</td><td>SHEfinds | Weddings</td><td>204000</td></tr><tr><td>Iceland</td><td>PositiveMed</td><td>742000</td></tr><tr><td>India</td><td>Zezè</td><td>750000</td></tr><tr><td>Indonesia</td><td>Weekend Craft</td><td>68000</td></tr><tr><td>Iran</td><td>Yourwillbearwitness</td><td>33000</td></tr><tr><td>Iraq</td><td>House Beautiful</td><td>3500000</td></tr><tr><td>Ireland</td><td>Mrs. Karle's Sight and Sound Reading</td><td>29000</td></tr><tr><td>Isle of Man</td><td>Abbotts At Home</td><td>156000</td></tr><tr><td>Israel</td><td>The little Green Bean - Handmade Gnomes For Holidays, Subscription Boxes, Handmade gifts, DIY Crafts</td><td>16000</td></tr><tr><td>Italy</td><td>Setting for Four</td><td>870000</td></tr><tr><td>Jamaica</td><td>Eating Bird Food</td><td>397000</td></tr><tr><td>Japan</td><td>Eyes On Walls</td><td>34000</td></tr><tr><td>Jersey</td><td>Collab with Kai</td><td>2000</td></tr><tr><td>Jordan</td><td>Alfiya Karim Khan</td><td>63000</td></tr><tr><td>Kazakhstan</td><td>Bespoke Bride</td><td>60000</td></tr><tr><td>Kenya</td><td>Intelligent Domestications</td><td>86000</td></tr><tr><td>Kiribati</td><td>MOMtivational // Parenting + Pregnancy + More</td><td>8000</td></tr><tr><td>Kiribati</td><td>Pams Party & Practical Tips</td><td>8000</td></tr><tr><td>Korea</td><td>Society6</td><td>3000000</td></tr><tr><td>Kuwait</td><td>Real Simple</td><td>2000000</td></tr><tr><td>Kyrgyz Republic</td><td>Laura Beth Love</td><td>315000</td></tr><tr><td>Lao People's Democratic Republic</td><td>Who What Wear UK</td><td>2250000</td></tr><tr><td>Latvia</td><td>Olay</td><td>23000</td></tr><tr><td>Lebanon</td><td>Destiny Alfonso //Just Destiny Home</td><td>40000</td></tr><tr><td>Lesotho</td><td>The Guardian</td><td>908000</td></tr><tr><td>Liberia</td><td>Freundin</td><td>534000</td></tr><tr><td>Libyan Arab Jamahiriya</td><td>miss coco</td><td>157000</td></tr><tr><td>Liechtenstein</td><td>5-Minute Recipes</td><td>139000</td></tr><tr><td>Lithuania</td><td>Dunpie</td><td>154000</td></tr><tr><td>Luxembourg</td><td>Homeroad</td><td>45000</td></tr><tr><td>Macao</td><td>Cinefilia Incandescente</td><td>113000</td></tr><tr><td>Macedonia</td><td>Kiwi tandon</td><td>19000</td></tr><tr><td>Madagascar</td><td>Solutions To All Your Problems | Life coach for introverts & HSPs</td><td>25000</td></tr><tr><td>Malawi</td><td>Make Your Own Zone | Bev Leestma</td><td>75000</td></tr><tr><td>Malaysia</td><td>Younique Products</td><td>135000</td></tr><tr><td>Maldives</td><td>ZILL SKILL</td><td>53000</td></tr><tr><td>Mali</td><td>Lia Griffith | Paper Flowers | SVGs | More!</td><td>501000</td></tr><tr><td>Malta</td><td>Demotivateur Food</td><td>339000</td></tr><tr><td>Marshall Islands</td><td>Susan Hartley</td><td>7000</td></tr><tr><td>Martinique</td><td>NurtureStore</td><td>516000</td></tr><tr><td>Mauritania</td><td>A Subtle Revelry</td><td>118000</td></tr><tr><td>Mauritius</td><td>Good Housekeeping</td><td>1090000</td></tr><tr><td>Mayotte</td><td>Ali Martin (Gimme Some Oven)</td><td>766000</td></tr><tr><td>Mexico</td><td>Shellie</td><td>72000</td></tr><tr><td>Micronesia</td><td>Brighter Craft | Art, Crafts & Food Recipes</td><td>156000</td></tr><tr><td>Moldova</td><td>A Blossoming Life DIY Projects + Recipes +     Natural Living</td><td>132000</td></tr><tr><td>Monaco</td><td>Artists Network</td><td>681000</td></tr><tr><td>Mongolia</td><td>ELLE DECOR</td><td>684000</td></tr><tr><td>Montenegro</td><td>Mari & Maison</td><td>892</td></tr><tr><td>Montserrat</td><td>Dear Crissy</td><td>242000</td></tr><tr><td>Morocco</td><td>Clare Swindlehurst</td><td>268000</td></tr><tr><td>Mozambique</td><td>Stylin by Aylin</td><td>83000</td></tr><tr><td>Myanmar</td><td>Jen Rizzo/Jennifer Rizzo Design Company</td><td>99000</td></tr><tr><td>Namibia</td><td>Lovely Indeed</td><td>214000</td></tr><tr><td>Nauru</td><td>LittleThings.com</td><td>200000</td></tr><tr><td>Nepal</td><td>Christie @Childhood101</td><td>222000</td></tr><tr><td>Netherlands</td><td>Tracie Kiernan | Step By Step Painting |</td><td>616000</td></tr><tr><td>Netherlands Antilles</td><td>Sweet T Makes Three</td><td>61000</td></tr><tr><td>New Caledonia</td><td>Mixed Makeup</td><td>200000</td></tr><tr><td>New Zealand</td><td>mattloveshair</td><td>3000</td></tr><tr><td>Nicaragua</td><td>Styledby_yalemichelle</td><td>232000</td></tr><tr><td>Niger</td><td>Well+Good</td><td>999000</td></tr><tr><td>Nigeria</td><td>Dimpy Munparia</td><td>123000</td></tr><tr><td>Niue</td><td>Pink Spark Studio | Art Journal | Mixed Media | Watercolor |</td><td>3000</td></tr><tr><td>Norfolk Island</td><td>The Happy Sloths</td><td>296000</td></tr><tr><td>Northern Mariana Islands</td><td>I Love Painted Rocks by Carissa Bonham</td><td>38000</td></tr><tr><td>Norway</td><td>epicurious</td><td>409000</td></tr><tr><td>Oman</td><td>Mindy Benkert | Simple Pure Beauty</td><td>138000</td></tr><tr><td>Pakistan</td><td>Buyer Select</td><td>441000</td></tr><tr><td>Palau</td><td>Blog de Decoração Reciclar e Decorar - Fabiana Tardochi</td><td>732000</td></tr><tr><td>Palestinian Territory</td><td>Onedio.com</td><td>1122000</td></tr><tr><td>Panama</td><td>TINGE</td><td>21</td></tr><tr><td>Papua New Guinea</td><td>Antara Sarkar</td><td>22000</td></tr><tr><td>Paraguay</td><td>Godiygo</td><td>40000</td></tr><tr><td>Peru</td><td>Uptown with Elly Brown</td><td>38000</td></tr><tr><td>Pitcairn Islands</td><td>Shihori Obata</td><td>292000</td></tr><tr><td>Poland</td><td>Not In Jersey - Mom Blog</td><td>4000</td></tr><tr><td>Portugal</td><td>DeviantArt</td><td>7000000</td></tr><tr><td>Puerto Rico</td><td>Stephanie Lynn</td><td>116000</td></tr><tr><td>Qatar</td><td>Hudson Farmhouse</td><td>45000</td></tr><tr><td>Reunion</td><td>Free People</td><td>947000</td></tr><tr><td>Romania</td><td>My Merry Messy Life</td><td>73000</td></tr><tr><td>Russian Federation</td><td>Plaid Crafts</td><td>256000</td></tr><tr><td>Rwanda</td><td>Karen Nave, Independent Consultant, Thirty-One Gifts</td><td>28000</td></tr><tr><td>Saint Barthelemy</td><td>ThePinkDream</td><td>78000</td></tr><tr><td>Saint Helena</td><td>Book Riot</td><td>154000</td></tr><tr><td>Saint Kitts and Nevis</td><td>Heartwork City by Artist Denise Braun</td><td>2000</td></tr><tr><td>Saint Lucia</td><td>Mama Instincts®</td><td>27000</td></tr><tr><td>Saint Martin</td><td>The Pragmatic Parent </td><td>47000</td></tr><tr><td>Saint Pierre and Miquelon</td><td>DontPayFull.com | Coupons & Deals | Money-Saving Tips</td><td>142000</td></tr><tr><td>Samoa</td><td>Chic Pursuit</td><td>222000</td></tr><tr><td>San Marino</td><td>Daydream Into Reality</td><td>86000</td></tr><tr><td>Sao Tome and Principe</td><td>Fabulessly Frugal</td><td>89000</td></tr><tr><td>Saudi Arabia</td><td>The Navage Patch®</td><td>136000</td></tr><tr><td>Senegal</td><td>Life-n-Reflection</td><td>24000</td></tr><tr><td>Serbia</td><td>ATX Fine Arts</td><td>8000</td></tr><tr><td>Seychelles</td><td>Pronounce Skincare & Herbal Boutique (Scratch Mommy, LLC)</td><td>54000</td></tr><tr><td>Sierra Leone</td><td>Tyler Schmitt</td><td>11000</td></tr><tr><td>Singapore</td><td>On Sutton Place | Home Decor Ideas + Free Printables + Recipes</td><td>191000</td></tr><tr><td>Slovakia (Slovak Republic)</td><td>Me And My Mans Metalsmithing</td><td>2000</td></tr><tr><td>Slovenia</td><td>El Mueble</td><td>904000</td></tr><tr><td>Solomon Islands</td><td>Christy from Our Southern Home</td><td>81000</td></tr><tr><td>Somalia</td><td>Southern Hospitality</td><td>202000</td></tr><tr><td>South Africa</td><td>Dieline</td><td>156000</td></tr><tr><td>South Georgia and the South Sandwich Islands</td><td>Kelly Page / BlueGrayGal</td><td>14000</td></tr><tr><td>Spain</td><td>African American Hairstyles</td><td>924000</td></tr><tr><td>Sri Lanka</td><td>The DIY Mommy</td><td>144000</td></tr><tr><td>Sudan</td><td>Kate Hadfield</td><td>36000</td></tr><tr><td>Suriname</td><td>Kelly Winters | Primally Inspired</td><td>112000</td></tr><tr><td>Svalbard & Jan Mayen Islands</td><td>Merissa (Little House Living) | Simple Living + Frugal Living</td><td>152000</td></tr><tr><td>Swaziland</td><td>Casa Vogue</td><td>685000</td></tr><tr><td>Sweden</td><td>ELLE Magazine (US)</td><td>657000</td></tr><tr><td>Switzerland</td><td>Nevue Fine Art Marketing</td><td>14000</td></tr><tr><td>Syrian Arab Republic</td><td>Moral Fibres</td><td>317000</td></tr><tr><td>Taiwan</td><td>The Creek Line House</td><td>259000</td></tr><tr><td>Tajikistan</td><td>Art Projects for Kids</td><td>193000</td></tr><tr><td>Tanzania</td><td>This N That with Olivia LLC</td><td>28000</td></tr><tr><td>Thailand</td><td>FunintheSon</td><td>2000</td></tr><tr><td>Timor-Leste</td><td>Forget Him Knot | Christian Homeschool & Christian Weddings</td><td>2000</td></tr><tr><td>Timor-Leste</td><td>Kendra Raymer</td><td>2000</td></tr><tr><td>Togo</td><td>Jamie Hoover | anderson + grant</td><td>58000</td></tr><tr><td>Tokelau</td><td>Budget Savvy Diva</td><td>384000</td></tr><tr><td>Tonga</td><td>Root + Revel | Clean Eating, Natural Beauty + Healthy Inspiration</td><td>22000</td></tr><tr><td>Trinidad and Tobago</td><td>Dimples and Tangles</td><td>50000</td></tr><tr><td>Tunisia</td><td>Carla Aston</td><td>259000</td></tr><tr><td>Turkey</td><td>Consumer Health Digest</td><td>55000</td></tr><tr><td>Turkmenistan</td><td>MusingsofaMuse</td><td>42000</td></tr><tr><td>Turks and Caicos Islands</td><td>Johanna Pearce</td><td>387</td></tr><tr><td>Tuvalu</td><td>Sneha Sen | Five Feet Five</td><td>50000</td></tr><tr><td>Uganda</td><td>Inspired by Charm</td><td>3000000</td></tr><tr><td>Ukraine</td><td>Mom like you mean it</td><td>10000</td></tr><tr><td>United Kingdom</td><td>Kim Purvis | Made in a Day</td><td>76000</td></tr><tr><td>United States Minor Outlying Islands</td><td>Bloglovin'</td><td>3000000</td></tr><tr><td>United States Virgin Islands</td><td>PinkWhen | Easy Recipes For Everyone</td><td>106000</td></tr><tr><td>United States of America</td><td>// THE FASHION SPOT</td><td>446000</td></tr><tr><td>Uruguay</td><td>Erin | Mother's Niche</td><td>97000</td></tr><tr><td>Uzbekistan</td><td>Olio Essence | Shop All Aesthetic Beauty Essentials Here</td><td>1000</td></tr><tr><td>Vanuatu</td><td>The Mind Circle</td><td>54000</td></tr><tr><td>Venezuela</td><td>The NaughtOn Weekly (The N.O.W.)</td><td>6000</td></tr><tr><td>Vietnam</td><td>KOODING</td><td>20000</td></tr><tr><td>Wallis and Futuna</td><td>Seventeen</td><td>320000</td></tr><tr><td>Western Sahara</td><td>Body Unburdened | Natural Skincare | Clear Skin | Holistic Health</td><td>62000</td></tr><tr><td>Yemen</td><td>Prevention Magazine</td><td>371000</td></tr><tr><td>Zimbabwe</td><td>Sharla | The Chaos and the Clutter</td><td>373000</td></tr></tbody></table></div>"
      ]
     },
     "metadata": {
      "application/vnd.databricks.v1+output": {
       "addedWidgets": {},
       "aggData": [],
       "aggError": "",
       "aggOverflow": false,
       "aggSchema": [],
       "aggSeriesLimitReached": false,
       "aggType": "",
       "arguments": {},
       "columnCustomDisplayInfos": {},
       "data": [
        [
         "Afghanistan",
         "Blossom",
         6000000
        ],
        [
         "Albania",
         "Bored Panda",
         220000000
        ],
        [
         "Algeria",
         "Apartment Therapy",
         20000000
        ],
        [
         "American Samoa",
         "BuzzFeed",
         255000000
        ],
        [
         "Andorra",
         "Glaminati",
         4794000
        ],
        [
         "Angola",
         "Tastemade",
         16000000
        ],
        [
         "Anguilla",
         "We Heart It",
         45000000
        ],
        [
         "Antarctica (the territory South of 60 deg S)",
         "HikenDip",
         9500000
        ],
        [
         "Antigua and Barbuda",
         "Country Living Magazine",
         2000000
        ],
        [
         "Argentina",
         "Cheezburger",
         10000000
        ],
        [
         "Armenia",
         "DIYnCrafts.Com",
         6714000
        ],
        [
         "Aruba",
         "One Kindesign",
         3942000
        ],
        [
         "Australia",
         "Mujer de 10 ",
         2000000
        ],
        [
         "Austria",
         "Diply",
         502000
        ],
        [
         "Azerbaijan",
         "SOCIETY19",
         12000000
        ],
        [
         "Bahamas",
         "Stylecraze",
         36000000
        ],
        [
         "Bahrain",
         "Decor Home Ideas",
         864000
        ],
        [
         "Bangladesh",
         "Better Homes and Gardens",
         36000000
        ],
        [
         "Barbados",
         "The Creativity Exchange",
         6150000
        ],
        [
         "Belarus",
         "Prudent Penny Pincher - Home Decor, Organization, Crafts, Recipes",
         6472000
        ],
        [
         "Belgium",
         "The Krazy Coupon Lady",
         1732000
        ],
        [
         "Belize",
         "Easy Kids Crafts & Activities | Preschool & Kindergarten Ideas",
         801000
        ],
        [
         "Benin",
         "Decoist.com",
         432000
        ],
        [
         "Bermuda",
         "Healthline",
         118000
        ],
        [
         "Bhutan",
         "Sarah, Ruffles and Rain Boots",
         204000
        ],
        [
         "Bolivia",
         "Squarespace",
         656000
        ],
        [
         "Bosnia and Herzegovina",
         "5-Minute Crafts Family",
         370000
        ],
        [
         "Botswana",
         "Crafts and Activities for Kids with Fireflies and Mud Pies",
         357000
        ],
        [
         "Bouvet Island (Bouvetoya)",
         "POPSUGAR",
         5000000
        ],
        [
         "Brazil",
         "The Country Chic Cottage - DIY, Cricut, crafts, recipes, decor",
         602000
        ],
        [
         "British Indian Ocean Territory (Chagos Archipelago)",
         "Crafts Meet Kids | Crafts & Activities For Kids",
         600
        ],
        [
         "British Virgin Islands",
         "The WHOot",
         2000000
        ],
        [
         "Brunei Darussalam",
         "hair buddha",
         9000
        ],
        [
         "Bulgaria",
         "A Piece of Rainbow",
         6633000
        ],
        [
         "Burkina Faso",
         "Home Hacks",
         705000
        ],
        [
         "Burundi",
         "LITTLE SHINE",
         1584000
        ],
        [
         "Cambodia",
         "Women’s Health Magazine",
         2433000
        ],
        [
         "Cameroon",
         "Curbly",
         409000
        ],
        [
         "Canada",
         "ArtStation",
         2000000
        ],
        [
         "Cape Verde",
         "The Craft Train",
         738000
        ],
        [
         "Cayman Islands",
         "InStyle",
         5000000
        ],
        [
         "Central African Republic",
         "PureWow",
         3472000
        ],
        [
         "Chad",
         "ArchZine FR",
         761000
        ],
        [
         "Chile",
         "TODAY Show",
         2130000
        ],
        [
         "China",
         "Josie Lewis Art",
         585000
        ],
        [
         "Christmas Island",
         "Instructables",
         9000000
        ],
        [
         "Cocos (Keeling) Islands",
         "How Does She",
         1418000
        ],
        [
         "Colombia",
         "Abbi Kirsten at CC Designs | Paper Flower Templates & Tutorials ",
         594000
        ],
        [
         "Comoros",
         "The Body Clinic SkinCare",
         104000
        ],
        [
         "Congo",
         "The Design Files",
         1167000
        ],
        [
         "Cook Islands",
         "SeedTime (Money Tips)",
         77000
        ],
        [
         "Costa Rica",
         "Martha Stewart Living",
         4000000
        ],
        [
         "Cote d'Ivoire",
         "Beauty Epic",
         2704000
        ],
        [
         "Croatia",
         "Meraki Lane",
         2184000
        ],
        [
         "Cuba",
         "Listotic - Easy Ideas | Fun DIY Projects | Easy Recipes | Lists",
         1228000
        ],
        [
         "Cyprus",
         "Redbubble",
         3000000
        ],
        [
         "Czech Republic",
         "Charlene Haugsven (My Frugal Adventures)",
         87000
        ],
        [
         "Denmark",
         "ManMadeDIY",
         157000
        ],
        [
         "Djibouti",
         "Instrupix | Lilly Childers",
         550000
        ],
        [
         "Dominica",
         "Time Out",
         77000
        ],
        [
         "Dominican Republic",
         "Soap Deli News Blog",
         609000
        ],
        [
         "Ecuador",
         "The Thrifty Couple | DIY, Crafts, Frugal Living, Recipes, Tips for Intentional Living",
         170000
        ],
        [
         "Egypt",
         "Allure",
         1038000
        ],
        [
         "El Salvador",
         "Jessica Autumn Planners | Free Printables + Digital Planners",
         108000
        ],
        [
         "Equatorial Guinea",
         "Meg O.",
         396000
        ],
        [
         "Eritrea",
         "TIDBITS",
         192000
        ],
        [
         "Eritrea",
         "Kelly @ Redefined Mom",
         192000
        ],
        [
         "Estonia",
         "Jenna Sue Design Co.",
         348000
        ],
        [
         "Ethiopia",
         "eBaumsWorld",
         1000000
        ],
        [
         "Falkland Islands (Malvinas)",
         "TES | Teaching Resources",
         336000
        ],
        [
         "Faroe Islands",
         "British Vogue",
         1000000
        ],
        [
         "Fiji",
         "The Graphics Fairy",
         1014000
        ],
        [
         "Finland",
         "Buggy and Buddy",
         925000
        ],
        [
         "France",
         "Glamour",
         2124000
        ],
        [
         "French Guiana",
         "Sweet Red Poppy Free Sewing Patterns, Cut Files & Craft Tutorials",
         723000
        ],
        [
         "French Polynesia",
         "The Skincare Edit",
         916000
        ],
        [
         "French Southern Territories",
         "Mary at Home is Where the Boat Is",
         118000
        ],
        [
         "Gabon",
         "Dr. Josh Axe",
         1779000
        ],
        [
         "Gambia",
         "HonestlyWTF",
         7000000
        ],
        [
         "Georgia",
         "Agodeal | Trendy Fashion Outfits",
         49000
        ],
        [
         "Germany",
         "Jessica Clodfelter",
         2000
        ],
        [
         "Ghana",
         "Pillarboxblue",
         57000
        ],
        [
         "Gibraltar",
         "Top Inspired",
         2565000
        ],
        [
         "Greece",
         "Love Grows Wild // Liz Fourez | Interior Design, Home Renovating, Styling + DIY Projects",
         390000
        ],
        [
         "Greenland",
         "The Educators' Spin On It",
         2000000
        ],
        [
         "Grenada",
         "Bustle.com",
         821000
        ],
        [
         "Guadeloupe",
         "Kathy+Steve | TBD + TGG + OhMeOhMy",
         355000
        ],
        [
         "Guam",
         "imgur",
         4000000
        ],
        [
         "Guatemala",
         "Homedit.com",
         1930000
        ],
        [
         "Guernsey",
         "SELF Magazine",
         1200000
        ],
        [
         "Guinea",
         "LaMenteEsMaravillosa",
         303000
        ],
        [
         "Guinea-Bissau",
         "Modishstore • Stylish Sustainable Living- decor, furniture, light",
         115000
        ],
        [
         "Guyana",
         "Life as Mama",
         527000
        ],
        [
         "Haiti",
         "No Time For Flash Cards",
         610000
        ],
        [
         "Heard Island and McDonald Islands",
         "TANIA MARAS",
         45000
        ],
        [
         "Honduras",
         "Mad in Crafts",
         106000
        ],
        [
         "Hong Kong",
         "Daisy Yellow",
         7000
        ],
        [
         "Hungary",
         "SHEfinds | Weddings",
         204000
        ],
        [
         "Iceland",
         "PositiveMed",
         742000
        ],
        [
         "India",
         "Zezè",
         750000
        ],
        [
         "Indonesia",
         "Weekend Craft",
         68000
        ],
        [
         "Iran",
         "Yourwillbearwitness",
         33000
        ],
        [
         "Iraq",
         "House Beautiful",
         3500000
        ],
        [
         "Ireland",
         "Mrs. Karle's Sight and Sound Reading",
         29000
        ],
        [
         "Isle of Man",
         "Abbotts At Home",
         156000
        ],
        [
         "Israel",
         "The little Green Bean - Handmade Gnomes For Holidays, Subscription Boxes, Handmade gifts, DIY Crafts",
         16000
        ],
        [
         "Italy",
         "Setting for Four",
         870000
        ],
        [
         "Jamaica",
         "Eating Bird Food",
         397000
        ],
        [
         "Japan",
         "Eyes On Walls",
         34000
        ],
        [
         "Jersey",
         "Collab with Kai",
         2000
        ],
        [
         "Jordan",
         "Alfiya Karim Khan",
         63000
        ],
        [
         "Kazakhstan",
         "Bespoke Bride",
         60000
        ],
        [
         "Kenya",
         "Intelligent Domestications",
         86000
        ],
        [
         "Kiribati",
         "MOMtivational // Parenting + Pregnancy + More",
         8000
        ],
        [
         "Kiribati",
         "Pams Party & Practical Tips",
         8000
        ],
        [
         "Korea",
         "Society6",
         3000000
        ],
        [
         "Kuwait",
         "Real Simple",
         2000000
        ],
        [
         "Kyrgyz Republic",
         "Laura Beth Love",
         315000
        ],
        [
         "Lao People's Democratic Republic",
         "Who What Wear UK",
         2250000
        ],
        [
         "Latvia",
         "Olay",
         23000
        ],
        [
         "Lebanon",
         "Destiny Alfonso //Just Destiny Home",
         40000
        ],
        [
         "Lesotho",
         "The Guardian",
         908000
        ],
        [
         "Liberia",
         "Freundin",
         534000
        ],
        [
         "Libyan Arab Jamahiriya",
         "miss coco",
         157000
        ],
        [
         "Liechtenstein",
         "5-Minute Recipes",
         139000
        ],
        [
         "Lithuania",
         "Dunpie",
         154000
        ],
        [
         "Luxembourg",
         "Homeroad",
         45000
        ],
        [
         "Macao",
         "Cinefilia Incandescente",
         113000
        ],
        [
         "Macedonia",
         "Kiwi tandon",
         19000
        ],
        [
         "Madagascar",
         "Solutions To All Your Problems | Life coach for introverts & HSPs",
         25000
        ],
        [
         "Malawi",
         "Make Your Own Zone | Bev Leestma",
         75000
        ],
        [
         "Malaysia",
         "Younique Products",
         135000
        ],
        [
         "Maldives",
         "ZILL SKILL",
         53000
        ],
        [
         "Mali",
         "Lia Griffith | Paper Flowers | SVGs | More!",
         501000
        ],
        [
         "Malta",
         "Demotivateur Food",
         339000
        ],
        [
         "Marshall Islands",
         "Susan Hartley",
         7000
        ],
        [
         "Martinique",
         "NurtureStore",
         516000
        ],
        [
         "Mauritania",
         "A Subtle Revelry",
         118000
        ],
        [
         "Mauritius",
         "Good Housekeeping",
         1090000
        ],
        [
         "Mayotte",
         "Ali Martin (Gimme Some Oven)",
         766000
        ],
        [
         "Mexico",
         "Shellie",
         72000
        ],
        [
         "Micronesia",
         "Brighter Craft | Art, Crafts & Food Recipes",
         156000
        ],
        [
         "Moldova",
         "A Blossoming Life DIY Projects + Recipes +     Natural Living",
         132000
        ],
        [
         "Monaco",
         "Artists Network",
         681000
        ],
        [
         "Mongolia",
         "ELLE DECOR",
         684000
        ],
        [
         "Montenegro",
         "Mari & Maison",
         892
        ],
        [
         "Montserrat",
         "Dear Crissy",
         242000
        ],
        [
         "Morocco",
         "Clare Swindlehurst",
         268000
        ],
        [
         "Mozambique",
         "Stylin by Aylin",
         83000
        ],
        [
         "Myanmar",
         "Jen Rizzo/Jennifer Rizzo Design Company",
         99000
        ],
        [
         "Namibia",
         "Lovely Indeed",
         214000
        ],
        [
         "Nauru",
         "LittleThings.com",
         200000
        ],
        [
         "Nepal",
         "Christie @Childhood101",
         222000
        ],
        [
         "Netherlands",
         "Tracie Kiernan | Step By Step Painting |",
         616000
        ],
        [
         "Netherlands Antilles",
         "Sweet T Makes Three",
         61000
        ],
        [
         "New Caledonia",
         "Mixed Makeup",
         200000
        ],
        [
         "New Zealand",
         "mattloveshair",
         3000
        ],
        [
         "Nicaragua",
         "Styledby_yalemichelle",
         232000
        ],
        [
         "Niger",
         "Well+Good",
         999000
        ],
        [
         "Nigeria",
         "Dimpy Munparia",
         123000
        ],
        [
         "Niue",
         "Pink Spark Studio | Art Journal | Mixed Media | Watercolor |",
         3000
        ],
        [
         "Norfolk Island",
         "The Happy Sloths",
         296000
        ],
        [
         "Northern Mariana Islands",
         "I Love Painted Rocks by Carissa Bonham",
         38000
        ],
        [
         "Norway",
         "epicurious",
         409000
        ],
        [
         "Oman",
         "Mindy Benkert | Simple Pure Beauty",
         138000
        ],
        [
         "Pakistan",
         "Buyer Select",
         441000
        ],
        [
         "Palau",
         "Blog de Decoração Reciclar e Decorar - Fabiana Tardochi",
         732000
        ],
        [
         "Palestinian Territory",
         "Onedio.com",
         1122000
        ],
        [
         "Panama",
         "TINGE",
         21
        ],
        [
         "Papua New Guinea",
         "Antara Sarkar",
         22000
        ],
        [
         "Paraguay",
         "Godiygo",
         40000
        ],
        [
         "Peru",
         "Uptown with Elly Brown",
         38000
        ],
        [
         "Pitcairn Islands",
         "Shihori Obata",
         292000
        ],
        [
         "Poland",
         "Not In Jersey - Mom Blog",
         4000
        ],
        [
         "Portugal",
         "DeviantArt",
         7000000
        ],
        [
         "Puerto Rico",
         "Stephanie Lynn",
         116000
        ],
        [
         "Qatar",
         "Hudson Farmhouse",
         45000
        ],
        [
         "Reunion",
         "Free People",
         947000
        ],
        [
         "Romania",
         "My Merry Messy Life",
         73000
        ],
        [
         "Russian Federation",
         "Plaid Crafts",
         256000
        ],
        [
         "Rwanda",
         "Karen Nave, Independent Consultant, Thirty-One Gifts",
         28000
        ],
        [
         "Saint Barthelemy",
         "ThePinkDream",
         78000
        ],
        [
         "Saint Helena",
         "Book Riot",
         154000
        ],
        [
         "Saint Kitts and Nevis",
         "Heartwork City by Artist Denise Braun",
         2000
        ],
        [
         "Saint Lucia",
         "Mama Instincts®",
         27000
        ],
        [
         "Saint Martin",
         "The Pragmatic Parent ",
         47000
        ],
        [
         "Saint Pierre and Miquelon",
         "DontPayFull.com | Coupons & Deals | Money-Saving Tips",
         142000
        ],
        [
         "Samoa",
         "Chic Pursuit",
         222000
        ],
        [
         "San Marino",
         "Daydream Into Reality",
         86000
        ],
        [
         "Sao Tome and Principe",
         "Fabulessly Frugal",
         89000
        ],
        [
         "Saudi Arabia",
         "The Navage Patch®",
         136000
        ],
        [
         "Senegal",
         "Life-n-Reflection",
         24000
        ],
        [
         "Serbia",
         "ATX Fine Arts",
         8000
        ],
        [
         "Seychelles",
         "Pronounce Skincare & Herbal Boutique (Scratch Mommy, LLC)",
         54000
        ],
        [
         "Sierra Leone",
         "Tyler Schmitt",
         11000
        ],
        [
         "Singapore",
         "On Sutton Place | Home Decor Ideas + Free Printables + Recipes",
         191000
        ],
        [
         "Slovakia (Slovak Republic)",
         "Me And My Mans Metalsmithing",
         2000
        ],
        [
         "Slovenia",
         "El Mueble",
         904000
        ],
        [
         "Solomon Islands",
         "Christy from Our Southern Home",
         81000
        ],
        [
         "Somalia",
         "Southern Hospitality",
         202000
        ],
        [
         "South Africa",
         "Dieline",
         156000
        ],
        [
         "South Georgia and the South Sandwich Islands",
         "Kelly Page / BlueGrayGal",
         14000
        ],
        [
         "Spain",
         "African American Hairstyles",
         924000
        ],
        [
         "Sri Lanka",
         "The DIY Mommy",
         144000
        ],
        [
         "Sudan",
         "Kate Hadfield",
         36000
        ],
        [
         "Suriname",
         "Kelly Winters | Primally Inspired",
         112000
        ],
        [
         "Svalbard & Jan Mayen Islands",
         "Merissa (Little House Living) | Simple Living + Frugal Living",
         152000
        ],
        [
         "Swaziland",
         "Casa Vogue",
         685000
        ],
        [
         "Sweden",
         "ELLE Magazine (US)",
         657000
        ],
        [
         "Switzerland",
         "Nevue Fine Art Marketing",
         14000
        ],
        [
         "Syrian Arab Republic",
         "Moral Fibres",
         317000
        ],
        [
         "Taiwan",
         "The Creek Line House",
         259000
        ],
        [
         "Tajikistan",
         "Art Projects for Kids",
         193000
        ],
        [
         "Tanzania",
         "This N That with Olivia LLC",
         28000
        ],
        [
         "Thailand",
         "FunintheSon",
         2000
        ],
        [
         "Timor-Leste",
         "Forget Him Knot | Christian Homeschool & Christian Weddings",
         2000
        ],
        [
         "Timor-Leste",
         "Kendra Raymer",
         2000
        ],
        [
         "Togo",
         "Jamie Hoover | anderson + grant",
         58000
        ],
        [
         "Tokelau",
         "Budget Savvy Diva",
         384000
        ],
        [
         "Tonga",
         "Root + Revel | Clean Eating, Natural Beauty + Healthy Inspiration",
         22000
        ],
        [
         "Trinidad and Tobago",
         "Dimples and Tangles",
         50000
        ],
        [
         "Tunisia",
         "Carla Aston",
         259000
        ],
        [
         "Turkey",
         "Consumer Health Digest",
         55000
        ],
        [
         "Turkmenistan",
         "MusingsofaMuse",
         42000
        ],
        [
         "Turks and Caicos Islands",
         "Johanna Pearce",
         387
        ],
        [
         "Tuvalu",
         "Sneha Sen | Five Feet Five",
         50000
        ],
        [
         "Uganda",
         "Inspired by Charm",
         3000000
        ],
        [
         "Ukraine",
         "Mom like you mean it",
         10000
        ],
        [
         "United Kingdom",
         "Kim Purvis | Made in a Day",
         76000
        ],
        [
         "United States Minor Outlying Islands",
         "Bloglovin'",
         3000000
        ],
        [
         "United States Virgin Islands",
         "PinkWhen | Easy Recipes For Everyone",
         106000
        ],
        [
         "United States of America",
         "// THE FASHION SPOT",
         446000
        ],
        [
         "Uruguay",
         "Erin | Mother's Niche",
         97000
        ],
        [
         "Uzbekistan",
         "Olio Essence | Shop All Aesthetic Beauty Essentials Here",
         1000
        ],
        [
         "Vanuatu",
         "The Mind Circle",
         54000
        ],
        [
         "Venezuela",
         "The NaughtOn Weekly (The N.O.W.)",
         6000
        ],
        [
         "Vietnam",
         "KOODING",
         20000
        ],
        [
         "Wallis and Futuna",
         "Seventeen",
         320000
        ],
        [
         "Western Sahara",
         "Body Unburdened | Natural Skincare | Clear Skin | Holistic Health",
         62000
        ],
        [
         "Yemen",
         "Prevention Magazine",
         371000
        ],
        [
         "Zimbabwe",
         "Sharla | The Chaos and the Clutter",
         373000
        ]
       ],
       "datasetInfos": [],
       "dbfsResultPath": null,
       "isJsonSchema": true,
       "metadata": {},
       "overflow": false,
       "plotOptions": {
        "customPlotOptions": {},
        "displayType": "table",
        "pivotAggregation": null,
        "pivotColumns": null,
        "xColumns": null,
        "yColumns": null
       },
       "removedWidgets": [],
       "schema": [
        {
         "metadata": "{}",
         "name": "country",
         "type": "\"string\""
        },
        {
         "metadata": "{}",
         "name": "poster_name",
         "type": "\"string\""
        },
        {
         "metadata": "{}",
         "name": "follower_count",
         "type": "\"long\""
        }
       ],
       "type": "table"
      }
     },
     "output_type": "display_data"
    },
    {
     "output_type": "display_data",
     "data": {
      "text/html": [
       "<style scoped>\n",
       "  .table-result-container {\n",
       "    max-height: 300px;\n",
       "    overflow: auto;\n",
       "  }\n",
       "  table, th, td {\n",
       "    border: 1px solid black;\n",
       "    border-collapse: collapse;\n",
       "  }\n",
       "  th, td {\n",
       "    padding: 5px;\n",
       "  }\n",
       "  th {\n",
       "    text-align: left;\n",
       "  }\n",
       "</style><div class='table-result-container'><table class='table-result'><thead style='background-color: white'><tr><th>country</th><th>follower_count</th></tr></thead><tbody><tr><td>American Samoa</td><td>255000000</td></tr></tbody></table></div>"
      ]
     },
     "metadata": {
      "application/vnd.databricks.v1+output": {
       "addedWidgets": {},
       "aggData": [],
       "aggError": "",
       "aggOverflow": false,
       "aggSchema": [],
       "aggSeriesLimitReached": false,
       "aggType": "",
       "arguments": {},
       "columnCustomDisplayInfos": {},
       "data": [
        [
         "American Samoa",
         255000000
        ]
       ],
       "datasetInfos": [],
       "dbfsResultPath": null,
       "isJsonSchema": true,
       "metadata": {},
       "overflow": false,
       "plotOptions": {
        "customPlotOptions": {},
        "displayType": "table",
        "pivotAggregation": null,
        "pivotColumns": null,
        "xColumns": null,
        "yColumns": null
       },
       "removedWidgets": [],
       "schema": [
        {
         "metadata": "{}",
         "name": "country",
         "type": "\"string\""
        },
        {
         "metadata": "{}",
         "name": "follower_count",
         "type": "\"long\""
        }
       ],
       "type": "table"
      }
     },
     "output_type": "display_data"
    }
   ],
   "source": [
    "# Step 1: For each country find the user with the most followers.\n",
    "# return a DataFrame that contains the following columns:\n",
    "#     country\n",
    "#     poster_name\n",
    "#     follower_count\n",
    "\n",
    "# combined_geo_df already has country and poster_name together so we'll use it again here\n",
    "df_pin_sum_followers = combined_geo_df.groupBy(\"country\", \"poster_name\").agg(sum(\"follower_count\")).withColumnRenamed(\"sum(follower_count)\", \"follower_count\")\n",
    "#display(df_pin_sum_followers)\n",
    "df_pin_max_followers = df_pin_sum_followers.groupBy(\"country\").agg(max(\"follower_count\")).withColumnRenamed(\"country\", \"max_country\")\n",
    "#display(df_pin_max_followers)\n",
    "# filter to only the most follower user per country\n",
    "most_followed_per_country_df = df_pin_max_followers.join(df_pin_sum_followers, ((df_pin_sum_followers[\"country\"] == df_pin_max_followers[\"max_country\"]) & (df_pin_sum_followers[\"follower_count\"] == df_pin_max_followers[\"max(follower_count)\"])), how=\"inner\")\n",
    "#display(most_followed_per_country_df)\n",
    "# filter to relevant columns\n",
    "most_followed_per_country_df = most_followed_per_country_df.select(\"country\", \"poster_name\", \"follower_count\")\n",
    "# display sorted by country - confirm one poster_name per country\n",
    "display(most_followed_per_country_df.orderBy(\"country\"))\n",
    "\n",
    "# Step 2: Based on the above query, find the country with the user with most followers.\n",
    "# return a DataFrame that contains the following columns:\n",
    "#     country\n",
    "#     follower_count\n",
    "# This DataFrame should have only one entry.\n",
    "country_with_user_with_most_followers_df = most_followed_per_country_df.select(\"country\", \"follower_count\").orderBy(\"follower_count\").tail(1)\n",
    "display(country_with_user_with_most_followers_df)\n"
   ]
  },
  {
   "cell_type": "code",
   "execution_count": 0,
   "metadata": {
    "application/vnd.databricks.v1+cell": {
     "cellMetadata": {
      "byteLimit": 2048000,
      "rowLimit": 10000
     },
     "inputWidgets": {},
     "nuid": "ac6449f2-f120-4eaa-9f3b-93f345796661",
     "showTitle": false,
     "title": ""
    }
   },
   "outputs": [
    {
     "output_type": "display_data",
     "data": {
      "text/html": [
       "<style scoped>\n",
       "  .table-result-container {\n",
       "    max-height: 300px;\n",
       "    overflow: auto;\n",
       "  }\n",
       "  table, th, td {\n",
       "    border: 1px solid black;\n",
       "    border-collapse: collapse;\n",
       "  }\n",
       "  th, td {\n",
       "    padding: 5px;\n",
       "  }\n",
       "  th {\n",
       "    text-align: left;\n",
       "  }\n",
       "</style><div class='table-result-container'><table class='table-result'><thead style='background-color: white'><tr><th>age_group</th><th>category</th><th>category_count</th></tr></thead><tbody><tr><td>+50</td><td>vehicles</td><td>114</td></tr><tr><td>18-24</td><td>tattoos</td><td>615</td></tr><tr><td>25-35</td><td>christmas</td><td>321</td></tr><tr><td>36-50</td><td>vehicles</td><td>215</td></tr></tbody></table></div>"
      ]
     },
     "metadata": {
      "application/vnd.databricks.v1+output": {
       "addedWidgets": {},
       "aggData": [],
       "aggError": "",
       "aggOverflow": false,
       "aggSchema": [],
       "aggSeriesLimitReached": false,
       "aggType": "",
       "arguments": {},
       "columnCustomDisplayInfos": {},
       "data": [
        [
         "+50",
         "vehicles",
         114
        ],
        [
         "18-24",
         "tattoos",
         615
        ],
        [
         "25-35",
         "christmas",
         321
        ],
        [
         "36-50",
         "vehicles",
         215
        ]
       ],
       "datasetInfos": [],
       "dbfsResultPath": null,
       "isJsonSchema": true,
       "metadata": {},
       "overflow": false,
       "plotOptions": {
        "customPlotOptions": {},
        "displayType": "table",
        "pivotAggregation": null,
        "pivotColumns": null,
        "xColumns": null,
        "yColumns": null
       },
       "removedWidgets": [],
       "schema": [
        {
         "metadata": "{}",
         "name": "age_group",
         "type": "\"string\""
        },
        {
         "metadata": "{}",
         "name": "category",
         "type": "\"string\""
        },
        {
         "metadata": "{}",
         "name": "category_count",
         "type": "\"long\""
        }
       ],
       "type": "table"
      }
     },
     "output_type": "display_data"
    }
   ],
   "source": [
    "# find the most popular category people post to based on the following age groups:\n",
    "#     18-24\n",
    "#     25-35\n",
    "#     36-50\n",
    "#     +50\n",
    "# return a DataFrame that contains the following columns:\n",
    "#     age_group, a new column based on the original age column\n",
    "#     category\n",
    "#     category_count, a new column containing the desired query output\n",
    "\n",
    "# join user with age field to piin with category field\n",
    "combined_user_df = df_pin.join(df_user, df_user[\"ind\"] == df_pin[\"ind\"], how=\"inner\")\n",
    "# create age_group - note this will be used by other report requests in cells below\n",
    "combined_user_df = combined_user_df.withColumn(\"age_group\",when(combined_user_df.age > 50, '+50').when(combined_user_df.age > 35, '36-50').when(combined_user_df.age > 24, '25-35').when(combined_user_df.age > 17, '18-24').otherwise('other'))\n",
    "\n",
    "# back to specifics to this reporting request\n",
    "user_category_count_df = combined_user_df.groupBy(\"age_group\",\"category\").agg(count(\"category\")).withColumnRenamed(\"count(category)\", \"category_count\")\n",
    "# display(user_category_count_df)\n",
    "\n",
    "# get the maximum category count per age group\n",
    "user_category_max_df = user_category_count_df.groupBy(\"age_group\").agg(max(\"category_count\")).withColumnRenamed(\"age_group\",\"max_age_group\")\n",
    "# display(user_category_max_df)\n",
    "# filter to keep only the maximum category count per age group\n",
    "user_category_max_df = user_category_count_df.join(user_category_max_df, (user_category_max_df['max_age_group'] == user_category_count_df['age_group']) & (user_category_max_df['max(category_count)'] == user_category_count_df['category_count']), how=\"inner\")\n",
    "# display(user_category_max_df)\n",
    "# reduce to the columns as per specification\n",
    "user_category_max_df = user_category_max_df.select(\"age_group\", \"category\", \"category_count\")\n",
    "display(user_category_max_df)\n"
   ]
  },
  {
   "cell_type": "code",
   "execution_count": 0,
   "metadata": {
    "application/vnd.databricks.v1+cell": {
     "cellMetadata": {
      "byteLimit": 2048000,
      "rowLimit": 10000
     },
     "inputWidgets": {},
     "nuid": "5769af33-d284-45a5-abed-bc9f92426ca4",
     "showTitle": false,
     "title": ""
    }
   },
   "outputs": [
    {
     "output_type": "display_data",
     "data": {
      "text/html": [
       "<style scoped>\n",
       "  .table-result-container {\n",
       "    max-height: 300px;\n",
       "    overflow: auto;\n",
       "  }\n",
       "  table, th, td {\n",
       "    border: 1px solid black;\n",
       "    border-collapse: collapse;\n",
       "  }\n",
       "  th, td {\n",
       "    padding: 5px;\n",
       "  }\n",
       "  th {\n",
       "    text-align: left;\n",
       "  }\n",
       "</style><div class='table-result-container'><table class='table-result'><thead style='background-color: white'><tr><th>age_group</th><th>median_follower_count</th></tr></thead><tbody><tr><td>+50</td><td>4000</td></tr><tr><td>18-24</td><td>119000</td></tr><tr><td>25-35</td><td>22000</td></tr><tr><td>36-50</td><td>8000</td></tr></tbody></table></div>"
      ]
     },
     "metadata": {
      "application/vnd.databricks.v1+output": {
       "addedWidgets": {},
       "aggData": [],
       "aggError": "",
       "aggOverflow": false,
       "aggSchema": [],
       "aggSeriesLimitReached": false,
       "aggType": "",
       "arguments": {},
       "columnCustomDisplayInfos": {},
       "data": [
        [
         "+50",
         4000
        ],
        [
         "18-24",
         119000
        ],
        [
         "25-35",
         22000
        ],
        [
         "36-50",
         8000
        ]
       ],
       "datasetInfos": [],
       "dbfsResultPath": null,
       "isJsonSchema": true,
       "metadata": {},
       "overflow": false,
       "plotOptions": {
        "customPlotOptions": {},
        "displayType": "table",
        "pivotAggregation": null,
        "pivotColumns": null,
        "xColumns": null,
        "yColumns": null
       },
       "removedWidgets": [],
       "schema": [
        {
         "metadata": "{}",
         "name": "age_group",
         "type": "\"string\""
        },
        {
         "metadata": "{}",
         "name": "median_follower_count",
         "type": "\"integer\""
        }
       ],
       "type": "table"
      }
     },
     "output_type": "display_data"
    }
   ],
   "source": [
    "# Find the median follower count for users in the following age groups:\n",
    "#     18-24\n",
    "#     25-35\n",
    "#     36-50\n",
    "#     +50\n",
    "# return a DataFrame that contains the following columns:\n",
    "#     age_group, a new column based on the original age column\n",
    "#     median_follower_count, a new column containing the desired query output\n",
    "\n",
    "# we have our age group in our combined_user_df, so we'll use that here\n",
    "# Databricks is using an older version of Spark (3.2.1). With version 3.4.0 and later, the following should work and avoid the \"NameError: name 'median' is not defined\" error\n",
    "# user_median_follower_count = combined_user_df.groupBy(\"age_group\",\"follower_count\").agg(median(\"follower_count\")).withColumnRenamed(\"median(follower_count)\", \"median_follower_count\")\n",
    "# Originally tried counting the number of users per age_group and then selecting the middle index; however, using the window function appears to run faster\n",
    "from pyspark.sql import Window\n",
    "median_window = Window.partitionBy(\"age_group\")\n",
    "first_window = median_window.orderBy(\"follower_count\")                                  # first, order by column we want to compute the median for\n",
    "user_median_follower_count = combined_user_df.withColumn(\"percent_rank\", percent_rank().over(first_window))  # add percent_rank column, percent_rank = 0.5 coressponds to median\n",
    "second_window = median_window.orderBy(pow(user_median_follower_count.percent_rank-0.5, 2))                 # order by (percent_rank - 0.5)^2 ascending\n",
    "user_median_follower_count = user_median_follower_count.withColumn(\"median_follower_count\", first(\"follower_count\").over(second_window))     # the first row of the window corresponds to median\n",
    "# display(user_median_follower_count)\n",
    "user_median_follower_count = user_median_follower_count.select(\"age_group\",\"median_follower_count\").distinct()\n",
    "display(user_median_follower_count)\n"
   ]
  },
  {
   "cell_type": "code",
   "execution_count": 0,
   "metadata": {
    "application/vnd.databricks.v1+cell": {
     "cellMetadata": {
      "byteLimit": 2048000,
      "rowLimit": 10000
     },
     "inputWidgets": {},
     "nuid": "531f0426-b7b8-4274-8d58-5f2fdc9a84f8",
     "showTitle": false,
     "title": ""
    }
   },
   "outputs": [
    {
     "output_type": "display_data",
     "data": {
      "text/html": [
       "<style scoped>\n",
       "  .table-result-container {\n",
       "    max-height: 300px;\n",
       "    overflow: auto;\n",
       "  }\n",
       "  table, th, td {\n",
       "    border: 1px solid black;\n",
       "    border-collapse: collapse;\n",
       "  }\n",
       "  th, td {\n",
       "    padding: 5px;\n",
       "  }\n",
       "  th {\n",
       "    text-align: left;\n",
       "  }\n",
       "</style><div class='table-result-container'><table class='table-result'><thead style='background-color: white'><tr><th>post_year</th><th>number_users_joined</th></tr></thead><tbody><tr><td>2017</td><td>81</td></tr><tr><td>2018</td><td>358</td></tr><tr><td>2019</td><td>328</td></tr><tr><td>2020</td><td>368</td></tr><tr><td>2021</td><td>322</td></tr><tr><td>2022</td><td>304</td></tr></tbody></table></div>"
      ]
     },
     "metadata": {
      "application/vnd.databricks.v1+output": {
       "addedWidgets": {},
       "aggData": [],
       "aggError": "",
       "aggOverflow": false,
       "aggSchema": [],
       "aggSeriesLimitReached": false,
       "aggType": "",
       "arguments": {},
       "columnCustomDisplayInfos": {},
       "data": [
        [
         2017,
         81
        ],
        [
         2018,
         358
        ],
        [
         2019,
         328
        ],
        [
         2020,
         368
        ],
        [
         2021,
         322
        ],
        [
         2022,
         304
        ]
       ],
       "datasetInfos": [],
       "dbfsResultPath": null,
       "isJsonSchema": true,
       "metadata": {},
       "overflow": false,
       "plotOptions": {
        "customPlotOptions": {},
        "displayType": "table",
        "pivotAggregation": null,
        "pivotColumns": null,
        "xColumns": null,
        "yColumns": null
       },
       "removedWidgets": [],
       "schema": [
        {
         "metadata": "{}",
         "name": "post_year",
         "type": "\"integer\""
        },
        {
         "metadata": "{}",
         "name": "number_users_joined",
         "type": "\"long\""
        }
       ],
       "type": "table"
      }
     },
     "output_type": "display_data"
    }
   ],
   "source": [
    "# Find how many users have joined between 2015 and 2020.\n",
    "# return a DataFrame that contains the following columns:\n",
    "#     post_year, a new column that contains only the year from the timestamp column\n",
    "#     number_users_joined, a new column containing the desired query output\n",
    "# note that users could appear in multiple years since they may have joined and posted in one year and continued to post in other years\n",
    "\n",
    "# reduce to only the rows we want first\n",
    "df_user_2015to2020 = df_user.withColumn('joined_year', year(df_user[\"date_joined\"])).where(\"joined_year >= 2015 and joined_year <= 2020\").withColumnRenamed(\"ind\", \"ind_user\")\n",
    "# join to the other tables - note this will be used by other reporting requests in the cells below\n",
    "users_joined_by_year_2015to2020_df = df_geo.join(df_user_2015to2020, df_user_2015to2020[\"ind_user\"] == df_geo[\"ind\"], how=\"inner\") # for timestamp\n",
    "\n",
    "# back to specifics to this reporting request\n",
    "# create the post_year column\n",
    "users_joined_by_year_2015to2020_df = users_joined_by_year_2015to2020_df.withColumn('post_year', year(users_joined_by_year_2015to2020_df[\"timestamp\"]))\n",
    "# reduce to the columns we want which make a unique user and keep the distinct list\n",
    "users_joined_by_year_2015to2020_df_summary = users_joined_by_year_2015to2020_df.select(\"post_year\",\"age\",\"date_joined\",\"user_name\").distinct()\n",
    "# display(users_joined_by_year_2015to2020_df_summary)\n",
    "users_joined_by_year_2015to2020_df_summary = users_joined_by_year_2015to2020_df_summary.groupBy(\"post_year\").agg(count(\"date_joined\")).withColumnRenamed(\"count(date_joined)\", \"number_users_joined\")\n",
    "display(users_joined_by_year_2015to2020_df_summary.orderBy(\"post_year\"))\n"
   ]
  },
  {
   "cell_type": "code",
   "execution_count": 0,
   "metadata": {
    "application/vnd.databricks.v1+cell": {
     "cellMetadata": {
      "byteLimit": 2048000,
      "rowLimit": 10000
     },
     "inputWidgets": {},
     "nuid": "c9c1c972-f7d8-4bec-8436-2fb5be1ab5fa",
     "showTitle": false,
     "title": ""
    }
   },
   "outputs": [
    {
     "output_type": "display_data",
     "data": {
      "text/html": [
       "<style scoped>\n",
       "  .table-result-container {\n",
       "    max-height: 300px;\n",
       "    overflow: auto;\n",
       "  }\n",
       "  table, th, td {\n",
       "    border: 1px solid black;\n",
       "    border-collapse: collapse;\n",
       "  }\n",
       "  th, td {\n",
       "    padding: 5px;\n",
       "  }\n",
       "  th {\n",
       "    text-align: left;\n",
       "  }\n",
       "</style><div class='table-result-container'><table class='table-result'><thead style='background-color: white'><tr><th>post_year</th><th>median_follower_count</th></tr></thead><tbody><tr><td>2017</td><td>65000</td></tr><tr><td>2018</td><td>53000</td></tr><tr><td>2019</td><td>52000</td></tr><tr><td>2020</td><td>42000</td></tr><tr><td>2021</td><td>64000</td></tr><tr><td>2022</td><td>54000</td></tr></tbody></table></div>"
      ]
     },
     "metadata": {
      "application/vnd.databricks.v1+output": {
       "addedWidgets": {},
       "aggData": [],
       "aggError": "",
       "aggOverflow": false,
       "aggSchema": [],
       "aggSeriesLimitReached": false,
       "aggType": "",
       "arguments": {},
       "columnCustomDisplayInfos": {},
       "data": [
        [
         2017,
         65000
        ],
        [
         2018,
         53000
        ],
        [
         2019,
         52000
        ],
        [
         2020,
         42000
        ],
        [
         2021,
         64000
        ],
        [
         2022,
         54000
        ]
       ],
       "datasetInfos": [],
       "dbfsResultPath": null,
       "isJsonSchema": true,
       "metadata": {},
       "overflow": false,
       "plotOptions": {
        "customPlotOptions": {},
        "displayType": "table",
        "pivotAggregation": null,
        "pivotColumns": null,
        "xColumns": null,
        "yColumns": null
       },
       "removedWidgets": [],
       "schema": [
        {
         "metadata": "{}",
         "name": "post_year",
         "type": "\"integer\""
        },
        {
         "metadata": "{}",
         "name": "median_follower_count",
         "type": "\"integer\""
        }
       ],
       "type": "table"
      }
     },
     "output_type": "display_data"
    }
   ],
   "source": [
    "# Find the median follower count of users have joined between 2015 and 2020.\n",
    "# return a DataFrame that contains the following columns:\n",
    "#     post_year, a new column that contains only the year from the timestamp column\n",
    "#     median_follower_count, a new column containing the desired query output\n",
    "\n",
    "# Databricks is using an older version of Spark (3.2.1). With version 3.4.0 and later, the median function can be used. The current version of Spark is 3.5.\n",
    "\n",
    "# we already have the data filtered, tables joined and post_year in users_joined_by_year_2015to2020_df so we'll re-use that\n",
    "records_combined_year_2015to2020_df = df_pin.join(users_joined_by_year_2015to2020_df, users_joined_by_year_2015to2020_df[\"ind_user\"] == df_pin[\"ind\"], how=\"inner\") # for follower_count\n",
    "\n",
    "median_window = Window.partitionBy(\"post_year\")\n",
    "first_window = median_window.orderBy(\"follower_count\")                                  # first, order by column we want to compute the median for\n",
    "median_user_follow_count_by_year_2015to2020_df = records_combined_year_2015to2020_df.withColumn(\"percent_rank\", percent_rank().over(first_window))  # add percent_rank column, percent_rank = 0.5 coressponds to median\n",
    "second_window = median_window.orderBy(pow(median_user_follow_count_by_year_2015to2020_df.percent_rank-0.5, 2))                 # order by (percent_rank - 0.5)^2 ascending\n",
    "median_user_follow_count_by_year_2015to2020_df = median_user_follow_count_by_year_2015to2020_df.withColumn(\"median_follower_count\", first(\"follower_count\").over(second_window))     # the first row of the window corresponds to median\n",
    "# display(median_user_follow_count_by_year_2015to2020_df)\n",
    "median_user_follow_count_by_year_2015to2020_df = median_user_follow_count_by_year_2015to2020_df.select(\"post_year\",\"median_follower_count\").distinct()\n",
    "display(median_user_follow_count_by_year_2015to2020_df.orderBy(\"post_year\"))\n",
    "\n"
   ]
  },
  {
   "cell_type": "code",
   "execution_count": 0,
   "metadata": {
    "application/vnd.databricks.v1+cell": {
     "cellMetadata": {
      "byteLimit": 2048000,
      "rowLimit": 10000
     },
     "inputWidgets": {},
     "nuid": "211eb901-3025-416a-b0a1-dbc329e25e00",
     "showTitle": false,
     "title": ""
    }
   },
   "outputs": [
    {
     "output_type": "display_data",
     "data": {
      "text/html": [
       "<style scoped>\n",
       "  .table-result-container {\n",
       "    max-height: 300px;\n",
       "    overflow: auto;\n",
       "  }\n",
       "  table, th, td {\n",
       "    border: 1px solid black;\n",
       "    border-collapse: collapse;\n",
       "  }\n",
       "  th, td {\n",
       "    padding: 5px;\n",
       "  }\n",
       "  th {\n",
       "    text-align: left;\n",
       "  }\n",
       "</style><div class='table-result-container'><table class='table-result'><thead style='background-color: white'><tr><th>post_year</th><th>age_group</th><th>median_follower_count</th></tr></thead><tbody><tr><td>2017</td><td>+50</td><td>5000</td></tr><tr><td>2017</td><td>18-24</td><td>315000</td></tr><tr><td>2017</td><td>25-35</td><td>45000</td></tr><tr><td>2017</td><td>36-50</td><td>34000</td></tr><tr><td>2018</td><td>+50</td><td>2000</td></tr><tr><td>2018</td><td>18-24</td><td>229000</td></tr><tr><td>2018</td><td>25-35</td><td>33000</td></tr><tr><td>2018</td><td>36-50</td><td>14000</td></tr><tr><td>2019</td><td>+50</td><td>8000</td></tr><tr><td>2019</td><td>18-24</td><td>275000</td></tr><tr><td>2019</td><td>25-35</td><td>30000</td></tr><tr><td>2019</td><td>36-50</td><td>10000</td></tr><tr><td>2020</td><td>+50</td><td>5000</td></tr><tr><td>2020</td><td>18-24</td><td>245000</td></tr><tr><td>2020</td><td>25-35</td><td>24000</td></tr><tr><td>2020</td><td>36-50</td><td>18000</td></tr><tr><td>2021</td><td>+50</td><td>3000</td></tr><tr><td>2021</td><td>18-24</td><td>252000</td></tr><tr><td>2021</td><td>25-35</td><td>31000</td></tr><tr><td>2021</td><td>36-50</td><td>15000</td></tr><tr><td>2022</td><td>+50</td><td>2000</td></tr><tr><td>2022</td><td>18-24</td><td>245000</td></tr><tr><td>2022</td><td>25-35</td><td>46000</td></tr><tr><td>2022</td><td>36-50</td><td>30000</td></tr></tbody></table></div>"
      ]
     },
     "metadata": {
      "application/vnd.databricks.v1+output": {
       "addedWidgets": {},
       "aggData": [],
       "aggError": "",
       "aggOverflow": false,
       "aggSchema": [],
       "aggSeriesLimitReached": false,
       "aggType": "",
       "arguments": {},
       "columnCustomDisplayInfos": {},
       "data": [
        [
         2017,
         "+50",
         5000
        ],
        [
         2017,
         "18-24",
         315000
        ],
        [
         2017,
         "25-35",
         45000
        ],
        [
         2017,
         "36-50",
         34000
        ],
        [
         2018,
         "+50",
         2000
        ],
        [
         2018,
         "18-24",
         229000
        ],
        [
         2018,
         "25-35",
         33000
        ],
        [
         2018,
         "36-50",
         14000
        ],
        [
         2019,
         "+50",
         8000
        ],
        [
         2019,
         "18-24",
         275000
        ],
        [
         2019,
         "25-35",
         30000
        ],
        [
         2019,
         "36-50",
         10000
        ],
        [
         2020,
         "+50",
         5000
        ],
        [
         2020,
         "18-24",
         245000
        ],
        [
         2020,
         "25-35",
         24000
        ],
        [
         2020,
         "36-50",
         18000
        ],
        [
         2021,
         "+50",
         3000
        ],
        [
         2021,
         "18-24",
         252000
        ],
        [
         2021,
         "25-35",
         31000
        ],
        [
         2021,
         "36-50",
         15000
        ],
        [
         2022,
         "+50",
         2000
        ],
        [
         2022,
         "18-24",
         245000
        ],
        [
         2022,
         "25-35",
         46000
        ],
        [
         2022,
         "36-50",
         30000
        ]
       ],
       "datasetInfos": [],
       "dbfsResultPath": null,
       "isJsonSchema": true,
       "metadata": {},
       "overflow": false,
       "plotOptions": {
        "customPlotOptions": {},
        "displayType": "table",
        "pivotAggregation": null,
        "pivotColumns": null,
        "xColumns": null,
        "yColumns": null
       },
       "removedWidgets": [],
       "schema": [
        {
         "metadata": "{}",
         "name": "post_year",
         "type": "\"integer\""
        },
        {
         "metadata": "{}",
         "name": "age_group",
         "type": "\"string\""
        },
        {
         "metadata": "{}",
         "name": "median_follower_count",
         "type": "\"integer\""
        }
       ],
       "type": "table"
      }
     },
     "output_type": "display_data"
    }
   ],
   "source": [
    "# Find the median follower count of users that have joined between 2015 and 2020, based on which age group they are part of.\n",
    "# return a DataFrame that contains the following columns:\n",
    "#     age_group, a new column based on the original age column\n",
    "#     post_year, a new column that contains only the year from the timestamp column\n",
    "#     median_follower_count, a new column containing the desired query output\n",
    "\n",
    "# Databricks is using an older version of Spark (3.2.1). With version 3.4.0 and later, the median function can be used. The current version of Spark is 3.5.\n",
    "\n",
    "# we already have the data filtered, tables joined and post_year in records_combined_year_2015to2020_df so we'll re-use that and just add the age_group to it\n",
    "records_combined_age_group_2015to2020_df = records_combined_year_2015to2020_df.withColumn(\"age_group\",when(records_combined_year_2015to2020_df.age > 50, '+50').when(records_combined_year_2015to2020_df.age > 35, '36-50').when(records_combined_year_2015to2020_df.age > 24, '25-35').when(records_combined_year_2015to2020_df.age > 17, '18-24').otherwise('other'))\n",
    "\n",
    "median_window = Window.partitionBy(\"post_year\",\"age_group\")\n",
    "first_window = median_window.orderBy(\"follower_count\")                                  # first, order by column we want to compute the median for\n",
    "median_user_follow_count_by_year_2015to2020_df = records_combined_age_group_2015to2020_df.withColumn(\"percent_rank\", percent_rank().over(first_window))  # add percent_rank column, percent_rank = 0.5 coressponds to median\n",
    "second_window = median_window.orderBy(pow(median_user_follow_count_by_year_2015to2020_df.percent_rank-0.5, 2))                 # order by (percent_rank - 0.5)^2 ascending\n",
    "median_user_follow_count_by_year_2015to2020_df = median_user_follow_count_by_year_2015to2020_df.withColumn(\"median_follower_count\", first(\"follower_count\").over(second_window))     # the first row of the window corresponds to median\n",
    "# display(median_user_follow_count_by_year_2015to2020_df)\n",
    "median_user_follow_count_by_year_2015to2020_df = median_user_follow_count_by_year_2015to2020_df.select(\"post_year\", \"age_group\",\"median_follower_count\").distinct()\n",
    "display(median_user_follow_count_by_year_2015to2020_df.orderBy(\"post_year\", \"age_group\"))\n"
   ]
  },
  {
   "cell_type": "markdown",
   "metadata": {
    "application/vnd.databricks.v1+cell": {
     "cellMetadata": {
      "byteLimit": 2048000,
      "rowLimit": 10000
     },
     "inputWidgets": {},
     "nuid": "cf5e1879-1c38-461b-813e-28118cb67781",
     "showTitle": false,
     "title": ""
    }
   },
   "source": [
    "Unmount the drive if we are finished with it. While working with the notebook and running selective cells, the filesystem should remain mounted."
   ]
  },
  {
   "cell_type": "code",
   "execution_count": 0,
   "metadata": {
    "application/vnd.databricks.v1+cell": {
     "cellMetadata": {
      "byteLimit": 2048000,
      "rowLimit": 10000
     },
     "inputWidgets": {},
     "nuid": "e060153b-d3a1-4650-8e84-cdccae4da805",
     "showTitle": false,
     "title": ""
    }
   },
   "outputs": [
    {
     "output_type": "display_data",
     "data": {
      "text/html": [
       "<style scoped>\n",
       "  .ansiout {\n",
       "    display: block;\n",
       "    unicode-bidi: embed;\n",
       "    white-space: pre-wrap;\n",
       "    word-wrap: break-word;\n",
       "    word-break: break-all;\n",
       "    font-family: \"Menlo\", \"Monaco\", \"Consolas\", \"Ubuntu Mono\", \"Source Code Pro\", monospace;\n",
       "    font-size: 13px;\n",
       "    color: #555;\n",
       "    margin-left: 4px;\n",
       "    line-height: 19px;\n",
       "  }\n",
       "</style>\n",
       "<div class=\"ansiout\">/mnt/incoming has been unmounted.\n",
       "Out[25]: True</div>"
      ]
     },
     "metadata": {
      "application/vnd.databricks.v1+output": {
       "addedWidgets": {},
       "arguments": {},
       "data": "<div class=\"ansiout\">/mnt/incoming has been unmounted.\nOut[25]: True</div>",
       "datasetInfos": [],
       "metadata": {},
       "removedWidgets": [],
       "type": "html"
      }
     },
     "output_type": "display_data"
    }
   ],
   "source": [
    "dbutils.fs.unmount(MOUNT_NAME)"
   ]
  }
 ],
 "metadata": {
  "application/vnd.databricks.v1+notebook": {
   "dashboards": [],
   "language": "python",
   "notebookMetadata": {
    "pythonIndentUnit": 4
   },
   "notebookName": "AiCore Pinterest project",
   "widgets": {}
  },
  "language_info": {
   "name": "python"
  }
 },
 "nbformat": 4,
 "nbformat_minor": 0
}
